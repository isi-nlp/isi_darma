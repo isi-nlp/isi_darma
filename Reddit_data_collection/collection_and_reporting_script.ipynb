{
  "nbformat": 4,
  "nbformat_minor": 0,
  "metadata": {
    "colab": {
      "name": "collection_and_reporting_script.ipynb",
      "provenance": [],
      "collapsed_sections": [
        "JmfmVgMP7Vdj",
        "orhIsAL7eS-H",
        "lBKbQaGDT0Nd",
        "Mkuo2WQoepL3",
        "l5Xpgie57uBd",
        "twb9JGoJUL8T",
        "A45-VWNXaIo4",
        "3PmJn8cJUW61"
      ]
    },
    "kernelspec": {
      "name": "python3",
      "display_name": "Python 3"
    },
    "language_info": {
      "name": "python"
    }
  },
  "cells": [
    {
      "cell_type": "markdown",
      "source": [
        "# **connection**"
      ],
      "metadata": {
        "id": "JmfmVgMP7Vdj"
      }
    },
    {
      "cell_type": "code",
      "source": [
        "pip install praw"
      ],
      "metadata": {
        "id": "BCa5U7HPWbNh",
        "colab": {
          "base_uri": "https://localhost:8080/"
        },
        "outputId": "41bf47ab-42ba-4c45-c8d8-9782140127d1"
      },
      "execution_count": null,
      "outputs": [
        {
          "output_type": "stream",
          "name": "stdout",
          "text": [
            "Looking in indexes: https://pypi.org/simple, https://us-python.pkg.dev/colab-wheels/public/simple/\n",
            "Collecting praw\n",
            "  Downloading praw-7.6.0-py3-none-any.whl (188 kB)\n",
            "\u001b[K     |████████████████████████████████| 188 kB 8.5 MB/s \n",
            "\u001b[?25hCollecting update-checker>=0.18\n",
            "  Downloading update_checker-0.18.0-py3-none-any.whl (7.0 kB)\n",
            "Collecting prawcore<3,>=2.1\n",
            "  Downloading prawcore-2.3.0-py3-none-any.whl (16 kB)\n",
            "Collecting websocket-client>=0.54.0\n",
            "  Downloading websocket_client-1.3.2-py3-none-any.whl (54 kB)\n",
            "\u001b[K     |████████████████████████████████| 54 kB 3.2 MB/s \n",
            "\u001b[?25hRequirement already satisfied: requests<3.0,>=2.6.0 in /usr/local/lib/python3.7/dist-packages (from prawcore<3,>=2.1->praw) (2.23.0)\n",
            "Requirement already satisfied: idna<3,>=2.5 in /usr/local/lib/python3.7/dist-packages (from requests<3.0,>=2.6.0->prawcore<3,>=2.1->praw) (2.10)\n",
            "Requirement already satisfied: chardet<4,>=3.0.2 in /usr/local/lib/python3.7/dist-packages (from requests<3.0,>=2.6.0->prawcore<3,>=2.1->praw) (3.0.4)\n",
            "Requirement already satisfied: certifi>=2017.4.17 in /usr/local/lib/python3.7/dist-packages (from requests<3.0,>=2.6.0->prawcore<3,>=2.1->praw) (2022.5.18.1)\n",
            "Requirement already satisfied: urllib3!=1.25.0,!=1.25.1,<1.26,>=1.21.1 in /usr/local/lib/python3.7/dist-packages (from requests<3.0,>=2.6.0->prawcore<3,>=2.1->praw) (1.24.3)\n",
            "Installing collected packages: websocket-client, update-checker, prawcore, praw\n",
            "Successfully installed praw-7.6.0 prawcore-2.3.0 update-checker-0.18.0 websocket-client-1.3.2\n"
          ]
        }
      ]
    },
    {
      "cell_type": "code",
      "execution_count": null,
      "metadata": {
        "id": "damaged-classics"
      },
      "outputs": [],
      "source": [
        "import json\n",
        "from datetime import datetime\n",
        "\n",
        "credentials = 'client_secret.json'\n",
        "\n",
        "with open(credentials) as f:\n",
        "    creds = json.load(f)"
      ]
    },
    {
      "cell_type": "code",
      "execution_count": null,
      "metadata": {
        "id": "broad-saudi"
      },
      "outputs": [],
      "source": [
        "import praw\n",
        "reddit = praw.Reddit(client_id = creds['client_id'],\n",
        "                    client_secret = creds['client_secret'],\n",
        "                    user_agent = creds['user_agent'],\n",
        "                    redirect_uri = creds['redirect_uri'],\n",
        "                    refresh_token = creds['refresh_token'],\n",
        "                     check_for_async = False)"
      ]
    },
    {
      "cell_type": "markdown",
      "source": [
        "# **Loading comments stream data**"
      ],
      "metadata": {
        "id": "CKLmXxUh8SQs"
      }
    },
    {
      "cell_type": "code",
      "source": [
        "import pandas as pd\n",
        "\n",
        "final_df = pd.read_csv('/content/com_stream_france.csv')"
      ],
      "metadata": {
        "id": "LIKAh2hj9jgs"
      },
      "execution_count": null,
      "outputs": []
    },
    {
      "cell_type": "code",
      "source": [
        "# final_df = final_df[final_df.id.isna()==False]"
      ],
      "metadata": {
        "id": "-pjrnieD6D_E"
      },
      "execution_count": null,
      "outputs": []
    },
    {
      "cell_type": "code",
      "source": [
        "len(final_df)"
      ],
      "metadata": {
        "id": "SUiqQNP4hiQy"
      },
      "execution_count": null,
      "outputs": []
    },
    {
      "cell_type": "code",
      "source": [
        "comment_ids = list(final_df.id)"
      ],
      "metadata": {
        "id": "VvJjLsw1cWOW"
      },
      "execution_count": null,
      "outputs": []
    },
    {
      "cell_type": "code",
      "source": [
        "comment_fullnames = [\"t1_\"+i for i in comment_ids]"
      ],
      "metadata": {
        "id": "-ix_RfXAVrmU"
      },
      "execution_count": null,
      "outputs": []
    },
    {
      "cell_type": "code",
      "source": [
        "# apr_df = final_df"
      ],
      "metadata": {
        "id": "Jqm0wvUu70Zz"
      },
      "execution_count": null,
      "outputs": []
    },
    {
      "cell_type": "code",
      "source": [
        "# apr_df = final_df[final_df['created_utc'] >= 1652161733] "
      ],
      "metadata": {
        "id": "PzwJVFE5u4-u"
      },
      "execution_count": null,
      "outputs": []
    },
    {
      "cell_type": "code",
      "source": [
        "# from datetime import datetime\n",
        "# datetime.fromtimestamp(int(final_df.created_utc.min()))\n",
        "# apr_df.created_utc.max()"
      ],
      "metadata": {
        "id": "D70HDXPhcPtu"
      },
      "execution_count": null,
      "outputs": []
    },
    {
      "cell_type": "markdown",
      "source": [
        "# **Reddit API comment collection**"
      ],
      "metadata": {
        "id": "5K9m1VaOevGm"
      }
    },
    {
      "cell_type": "code",
      "source": [
        "def create_batch(total):\n",
        "  final_batchs = []\n",
        "  start = 0\n",
        "  end = 500\n",
        "\n",
        "  while len(total)-start > 500:\n",
        "    batch = total[start:end]\n",
        "    final_batchs.append(batch)\n",
        "    start = end\n",
        "    end = end+500\n",
        "\n",
        "  last_batch = total[start:]\n",
        "  final_batchs.append(last_batch)\n",
        "\n",
        "  return final_batchs"
      ],
      "metadata": {
        "id": "tlPV5t4ffJup"
      },
      "execution_count": null,
      "outputs": []
    },
    {
      "cell_type": "code",
      "source": [
        "final_list = []\n",
        "batches = create_batch(comment_fullnames)\n",
        "print(\"Number of batches: \", len(batches))\n",
        "\n",
        "b_count = 1\n",
        "for batch in batches:\n",
        "  com_generator = reddit.info(batch)\n",
        "\n",
        "  for com in com_generator:\n",
        "    com_dict={}\n",
        "    com_dict['id'] = com.id\n",
        "    com_dict['body'] = com.body\n",
        "\n",
        "    final_list.append(com_dict)\n",
        "  \n",
        "  print(\"-----Batch: \", b_count, \"----Num of comments collected: \", len(final_list))\n",
        "  b_count+=1\n"
      ],
      "metadata": {
        "id": "i1DpLQBzKJMb"
      },
      "execution_count": null,
      "outputs": []
    },
    {
      "cell_type": "code",
      "source": [
        "final_list = [{'id': i['id'], 'body': \" \".join(i['body'].split())} for i in final_list]"
      ],
      "metadata": {
        "id": "lZ5pXSdcgfDX"
      },
      "execution_count": null,
      "outputs": []
    },
    {
      "cell_type": "code",
      "source": [
        "len(final_list)"
      ],
      "metadata": {
        "colab": {
          "base_uri": "https://localhost:8080/"
        },
        "id": "jbbng1KSEh4_",
        "outputId": "e09c8743-aae0-47b1-bfbd-24e02008b865"
      },
      "execution_count": null,
      "outputs": [
        {
          "output_type": "execute_result",
          "data": {
            "text/plain": [
              "129243"
            ]
          },
          "metadata": {},
          "execution_count": 42
        }
      ]
    },
    {
      "cell_type": "code",
      "source": [
        "reddit_collected_com = pd.DataFrame(final_list)"
      ],
      "metadata": {
        "id": "UgEJP7T_dTU3"
      },
      "execution_count": null,
      "outputs": []
    },
    {
      "cell_type": "code",
      "source": [
        "reddit_collected_com.info()"
      ],
      "metadata": {
        "id": "gesFOrrlqSkI",
        "colab": {
          "base_uri": "https://localhost:8080/"
        },
        "outputId": "274892a5-e451-45de-cdbe-2e43481c1982"
      },
      "execution_count": null,
      "outputs": [
        {
          "output_type": "stream",
          "name": "stdout",
          "text": [
            "<class 'pandas.core.frame.DataFrame'>\n",
            "RangeIndex: 129243 entries, 0 to 129242\n",
            "Data columns (total 2 columns):\n",
            " #   Column  Non-Null Count   Dtype \n",
            "---  ------  --------------   ----- \n",
            " 0   id      129243 non-null  object\n",
            " 1   body    129243 non-null  object\n",
            "dtypes: object(2)\n",
            "memory usage: 2.0+ MB\n"
          ]
        }
      ]
    },
    {
      "cell_type": "code",
      "source": [
        ""
      ],
      "metadata": {
        "id": "Z4ZWDNaehfc2"
      },
      "execution_count": null,
      "outputs": []
    },
    {
      "cell_type": "code",
      "source": [
        "# reddit_collected_com.to_csv('./collected_com_europe_before_10may_part6.csv', header=True, index=False, columns=list(reddit_collected_com.axes[1]))"
      ],
      "metadata": {
        "id": "lEIfykH8dxwa"
      },
      "execution_count": null,
      "outputs": []
    },
    {
      "cell_type": "code",
      "source": [
        "# from google.colab import files\n",
        "# files.download(\"/content/collected_com_europe_before_10may_part6.csv\")"
      ],
      "metadata": {
        "id": "EvGXOv3Ddxwb",
        "colab": {
          "base_uri": "https://localhost:8080/",
          "height": 17
        },
        "outputId": "b05a8f31-9cc1-4600-9764-4601b0889bc0"
      },
      "execution_count": null,
      "outputs": [
        {
          "output_type": "display_data",
          "data": {
            "text/plain": [
              "<IPython.core.display.Javascript object>"
            ],
            "application/javascript": [
              "\n",
              "    async function download(id, filename, size) {\n",
              "      if (!google.colab.kernel.accessAllowed) {\n",
              "        return;\n",
              "      }\n",
              "      const div = document.createElement('div');\n",
              "      const label = document.createElement('label');\n",
              "      label.textContent = `Downloading \"${filename}\": `;\n",
              "      div.appendChild(label);\n",
              "      const progress = document.createElement('progress');\n",
              "      progress.max = size;\n",
              "      div.appendChild(progress);\n",
              "      document.body.appendChild(div);\n",
              "\n",
              "      const buffers = [];\n",
              "      let downloaded = 0;\n",
              "\n",
              "      const channel = await google.colab.kernel.comms.open(id);\n",
              "      // Send a message to notify the kernel that we're ready.\n",
              "      channel.send({})\n",
              "\n",
              "      for await (const message of channel.messages) {\n",
              "        // Send a message to notify the kernel that we're ready.\n",
              "        channel.send({})\n",
              "        if (message.buffers) {\n",
              "          for (const buffer of message.buffers) {\n",
              "            buffers.push(buffer);\n",
              "            downloaded += buffer.byteLength;\n",
              "            progress.value = downloaded;\n",
              "          }\n",
              "        }\n",
              "      }\n",
              "      const blob = new Blob(buffers, {type: 'application/binary'});\n",
              "      const a = document.createElement('a');\n",
              "      a.href = window.URL.createObjectURL(blob);\n",
              "      a.download = filename;\n",
              "      div.appendChild(a);\n",
              "      a.click();\n",
              "      div.remove();\n",
              "    }\n",
              "  "
            ]
          },
          "metadata": {}
        },
        {
          "output_type": "display_data",
          "data": {
            "text/plain": [
              "<IPython.core.display.Javascript object>"
            ],
            "application/javascript": [
              "download(\"download_f847731b-4a26-4f6e-ab9d-d66ecc42fb52\", \"collected_com_europe_before_10may_part6.csv\", 11891566)"
            ]
          },
          "metadata": {}
        }
      ]
    },
    {
      "cell_type": "code",
      "source": [
        ""
      ],
      "metadata": {
        "id": "6hPA4sQKYkK5"
      },
      "execution_count": null,
      "outputs": []
    },
    {
      "cell_type": "markdown",
      "source": [
        "# **Merging files**"
      ],
      "metadata": {
        "id": "d1TCY5VBzlif"
      }
    },
    {
      "cell_type": "code",
      "source": [
        "# import pandas as pd\n",
        "\n",
        "# temp1 = pd.read_csv(\"/content/collected_com_europe_before_10may_part1.csv\")\n",
        "# temp2 = pd.read_csv('/content/collected_com_europe_before_10may_part2.csv')\n",
        "# temp3 = pd.read_csv(\"/content/collected_com_europe_before_10may_part3.csv\")\n",
        "# temp4 = pd.read_csv(\"/content/collected_com_europe_before_10may_part4.csv\")\n",
        "# temp5 = pd.read_csv(\"/content/collected_com_europe_before_10may_part5.csv\")\n",
        "# temp6 = pd.read_csv(\"/content/collected_com_europe_before_10may_part6.csv\")"
      ],
      "metadata": {
        "id": "QcQ-XBvpRlrR"
      },
      "execution_count": null,
      "outputs": []
    },
    {
      "cell_type": "code",
      "source": [
        "# temp1 = temp1.append(temp2, ignore_index=True)"
      ],
      "metadata": {
        "id": "VaCrle4Stb1v"
      },
      "execution_count": null,
      "outputs": []
    },
    {
      "cell_type": "code",
      "source": [
        "# temp1 = temp1.append(temp3, ignore_index=True)"
      ],
      "metadata": {
        "id": "Vq-qadL7JthB"
      },
      "execution_count": null,
      "outputs": []
    },
    {
      "cell_type": "code",
      "source": [
        "# temp1 = temp1.append(temp4, ignore_index=True)"
      ],
      "metadata": {
        "id": "kQy5BY3nJuT1"
      },
      "execution_count": null,
      "outputs": []
    },
    {
      "cell_type": "code",
      "source": [
        "# temp1 = temp1.append(temp5, ignore_index=True)"
      ],
      "metadata": {
        "id": "bbrQ0GnWJtGX"
      },
      "execution_count": null,
      "outputs": []
    },
    {
      "cell_type": "code",
      "source": [
        "# temp1 = temp1.append(temp6, ignore_index=True)"
      ],
      "metadata": {
        "id": "LTOuwSOqJxGN"
      },
      "execution_count": null,
      "outputs": []
    },
    {
      "cell_type": "code",
      "source": [
        "# temp1.info()"
      ],
      "metadata": {
        "id": "rV2MVYdnKG5g"
      },
      "execution_count": null,
      "outputs": []
    },
    {
      "cell_type": "code",
      "source": [
        "# temp1[temp1.body.isna()==True]"
      ],
      "metadata": {
        "id": "7FwxtL2AJ6RP"
      },
      "execution_count": null,
      "outputs": []
    },
    {
      "cell_type": "code",
      "source": [
        "# for i in reddit.info(['t1_hztvqeu', 't1_i3jgpir', 't1_i4lrlks']):\n",
        "#   print(i.id, i.body)"
      ],
      "metadata": {
        "id": "YDfZMHdjAaPe"
      },
      "execution_count": null,
      "outputs": []
    },
    {
      "cell_type": "code",
      "source": [
        "# temp1 = temp1[temp1.body.isna()==False]"
      ],
      "metadata": {
        "id": "gYPu-VS1EXqZ"
      },
      "execution_count": null,
      "outputs": []
    },
    {
      "cell_type": "code",
      "source": [
        "# temp1.to_csv('./collected_com_europe_before_10may_part_merged.csv', header=True, index=False, columns=list(temp1.axes[1]))"
      ],
      "metadata": {
        "id": "V9M5FvELuNoM"
      },
      "execution_count": null,
      "outputs": []
    },
    {
      "cell_type": "code",
      "source": [
        "# from google.colab import files\n",
        "# files.download(\"/content/collected_com_europe_before_10may_part_merged.csv\")"
      ],
      "metadata": {
        "colab": {
          "base_uri": "https://localhost:8080/",
          "height": 17
        },
        "outputId": "82ca8b7a-5b62-4ff1-b89b-203ad506cdba",
        "id": "xBJZLu0RuNoN"
      },
      "execution_count": null,
      "outputs": [
        {
          "output_type": "display_data",
          "data": {
            "text/plain": [
              "<IPython.core.display.Javascript object>"
            ],
            "application/javascript": [
              "\n",
              "    async function download(id, filename, size) {\n",
              "      if (!google.colab.kernel.accessAllowed) {\n",
              "        return;\n",
              "      }\n",
              "      const div = document.createElement('div');\n",
              "      const label = document.createElement('label');\n",
              "      label.textContent = `Downloading \"${filename}\": `;\n",
              "      div.appendChild(label);\n",
              "      const progress = document.createElement('progress');\n",
              "      progress.max = size;\n",
              "      div.appendChild(progress);\n",
              "      document.body.appendChild(div);\n",
              "\n",
              "      const buffers = [];\n",
              "      let downloaded = 0;\n",
              "\n",
              "      const channel = await google.colab.kernel.comms.open(id);\n",
              "      // Send a message to notify the kernel that we're ready.\n",
              "      channel.send({})\n",
              "\n",
              "      for await (const message of channel.messages) {\n",
              "        // Send a message to notify the kernel that we're ready.\n",
              "        channel.send({})\n",
              "        if (message.buffers) {\n",
              "          for (const buffer of message.buffers) {\n",
              "            buffers.push(buffer);\n",
              "            downloaded += buffer.byteLength;\n",
              "            progress.value = downloaded;\n",
              "          }\n",
              "        }\n",
              "      }\n",
              "      const blob = new Blob(buffers, {type: 'application/binary'});\n",
              "      const a = document.createElement('a');\n",
              "      a.href = window.URL.createObjectURL(blob);\n",
              "      a.download = filename;\n",
              "      div.appendChild(a);\n",
              "      a.click();\n",
              "      div.remove();\n",
              "    }\n",
              "  "
            ]
          },
          "metadata": {}
        },
        {
          "output_type": "display_data",
          "data": {
            "text/plain": [
              "<IPython.core.display.Javascript object>"
            ],
            "application/javascript": [
              "download(\"download_d4036049-8a0f-4a75-8535-0b7572563c1e\", \"collected_com_europe_before_10may_part_merged.csv\", 163115368)"
            ]
          },
          "metadata": {}
        }
      ]
    },
    {
      "cell_type": "markdown",
      "source": [
        "# **Finding removed comments**"
      ],
      "metadata": {
        "id": "orhIsAL7eS-H"
      }
    },
    {
      "cell_type": "code",
      "source": [
        "removed_com = reddit_collected_com[reddit_collected_com['body']=='[removed]']\n",
        "removed_id = removed_com['id']\n",
        "print(len(removed_id))"
      ],
      "metadata": {
        "colab": {
          "base_uri": "https://localhost:8080/"
        },
        "id": "9Dw_TICpeS-I",
        "outputId": "1427bf68-8731-42a6-d761-876eb74bc098"
      },
      "execution_count": null,
      "outputs": [
        {
          "output_type": "stream",
          "name": "stdout",
          "text": [
            "3438\n"
          ]
        }
      ]
    },
    {
      "cell_type": "code",
      "source": [
        "removed_com"
      ],
      "metadata": {
        "colab": {
          "base_uri": "https://localhost:8080/",
          "height": 424
        },
        "id": "5D5xXEo0qe8l",
        "outputId": "04bc83a0-0312-4af9-8af4-e03672eb520a"
      },
      "execution_count": null,
      "outputs": [
        {
          "output_type": "execute_result",
          "data": {
            "text/plain": [
              "             id       body\n",
              "8       i7ystov  [removed]\n",
              "176     i7yuoos  [removed]\n",
              "265     i7yvp39  [removed]\n",
              "291     i7yvzgd  [removed]\n",
              "379     i7yx8ba  [removed]\n",
              "...         ...        ...\n",
              "128882  i9tp2mj  [removed]\n",
              "129001  i9tr61t  [removed]\n",
              "129005  i9tr9cx  [removed]\n",
              "129011  i9trcel  [removed]\n",
              "129027  i9trmeo  [removed]\n",
              "\n",
              "[3438 rows x 2 columns]"
            ],
            "text/html": [
              "\n",
              "  <div id=\"df-99f13857-304c-4e5b-a143-82684d0c45ad\">\n",
              "    <div class=\"colab-df-container\">\n",
              "      <div>\n",
              "<style scoped>\n",
              "    .dataframe tbody tr th:only-of-type {\n",
              "        vertical-align: middle;\n",
              "    }\n",
              "\n",
              "    .dataframe tbody tr th {\n",
              "        vertical-align: top;\n",
              "    }\n",
              "\n",
              "    .dataframe thead th {\n",
              "        text-align: right;\n",
              "    }\n",
              "</style>\n",
              "<table border=\"1\" class=\"dataframe\">\n",
              "  <thead>\n",
              "    <tr style=\"text-align: right;\">\n",
              "      <th></th>\n",
              "      <th>id</th>\n",
              "      <th>body</th>\n",
              "    </tr>\n",
              "  </thead>\n",
              "  <tbody>\n",
              "    <tr>\n",
              "      <th>8</th>\n",
              "      <td>i7ystov</td>\n",
              "      <td>[removed]</td>\n",
              "    </tr>\n",
              "    <tr>\n",
              "      <th>176</th>\n",
              "      <td>i7yuoos</td>\n",
              "      <td>[removed]</td>\n",
              "    </tr>\n",
              "    <tr>\n",
              "      <th>265</th>\n",
              "      <td>i7yvp39</td>\n",
              "      <td>[removed]</td>\n",
              "    </tr>\n",
              "    <tr>\n",
              "      <th>291</th>\n",
              "      <td>i7yvzgd</td>\n",
              "      <td>[removed]</td>\n",
              "    </tr>\n",
              "    <tr>\n",
              "      <th>379</th>\n",
              "      <td>i7yx8ba</td>\n",
              "      <td>[removed]</td>\n",
              "    </tr>\n",
              "    <tr>\n",
              "      <th>...</th>\n",
              "      <td>...</td>\n",
              "      <td>...</td>\n",
              "    </tr>\n",
              "    <tr>\n",
              "      <th>128882</th>\n",
              "      <td>i9tp2mj</td>\n",
              "      <td>[removed]</td>\n",
              "    </tr>\n",
              "    <tr>\n",
              "      <th>129001</th>\n",
              "      <td>i9tr61t</td>\n",
              "      <td>[removed]</td>\n",
              "    </tr>\n",
              "    <tr>\n",
              "      <th>129005</th>\n",
              "      <td>i9tr9cx</td>\n",
              "      <td>[removed]</td>\n",
              "    </tr>\n",
              "    <tr>\n",
              "      <th>129011</th>\n",
              "      <td>i9trcel</td>\n",
              "      <td>[removed]</td>\n",
              "    </tr>\n",
              "    <tr>\n",
              "      <th>129027</th>\n",
              "      <td>i9trmeo</td>\n",
              "      <td>[removed]</td>\n",
              "    </tr>\n",
              "  </tbody>\n",
              "</table>\n",
              "<p>3438 rows × 2 columns</p>\n",
              "</div>\n",
              "      <button class=\"colab-df-convert\" onclick=\"convertToInteractive('df-99f13857-304c-4e5b-a143-82684d0c45ad')\"\n",
              "              title=\"Convert this dataframe to an interactive table.\"\n",
              "              style=\"display:none;\">\n",
              "        \n",
              "  <svg xmlns=\"http://www.w3.org/2000/svg\" height=\"24px\"viewBox=\"0 0 24 24\"\n",
              "       width=\"24px\">\n",
              "    <path d=\"M0 0h24v24H0V0z\" fill=\"none\"/>\n",
              "    <path d=\"M18.56 5.44l.94 2.06.94-2.06 2.06-.94-2.06-.94-.94-2.06-.94 2.06-2.06.94zm-11 1L8.5 8.5l.94-2.06 2.06-.94-2.06-.94L8.5 2.5l-.94 2.06-2.06.94zm10 10l.94 2.06.94-2.06 2.06-.94-2.06-.94-.94-2.06-.94 2.06-2.06.94z\"/><path d=\"M17.41 7.96l-1.37-1.37c-.4-.4-.92-.59-1.43-.59-.52 0-1.04.2-1.43.59L10.3 9.45l-7.72 7.72c-.78.78-.78 2.05 0 2.83L4 21.41c.39.39.9.59 1.41.59.51 0 1.02-.2 1.41-.59l7.78-7.78 2.81-2.81c.8-.78.8-2.07 0-2.86zM5.41 20L4 18.59l7.72-7.72 1.47 1.35L5.41 20z\"/>\n",
              "  </svg>\n",
              "      </button>\n",
              "      \n",
              "  <style>\n",
              "    .colab-df-container {\n",
              "      display:flex;\n",
              "      flex-wrap:wrap;\n",
              "      gap: 12px;\n",
              "    }\n",
              "\n",
              "    .colab-df-convert {\n",
              "      background-color: #E8F0FE;\n",
              "      border: none;\n",
              "      border-radius: 50%;\n",
              "      cursor: pointer;\n",
              "      display: none;\n",
              "      fill: #1967D2;\n",
              "      height: 32px;\n",
              "      padding: 0 0 0 0;\n",
              "      width: 32px;\n",
              "    }\n",
              "\n",
              "    .colab-df-convert:hover {\n",
              "      background-color: #E2EBFA;\n",
              "      box-shadow: 0px 1px 2px rgba(60, 64, 67, 0.3), 0px 1px 3px 1px rgba(60, 64, 67, 0.15);\n",
              "      fill: #174EA6;\n",
              "    }\n",
              "\n",
              "    [theme=dark] .colab-df-convert {\n",
              "      background-color: #3B4455;\n",
              "      fill: #D2E3FC;\n",
              "    }\n",
              "\n",
              "    [theme=dark] .colab-df-convert:hover {\n",
              "      background-color: #434B5C;\n",
              "      box-shadow: 0px 1px 3px 1px rgba(0, 0, 0, 0.15);\n",
              "      filter: drop-shadow(0px 1px 2px rgba(0, 0, 0, 0.3));\n",
              "      fill: #FFFFFF;\n",
              "    }\n",
              "  </style>\n",
              "\n",
              "      <script>\n",
              "        const buttonEl =\n",
              "          document.querySelector('#df-99f13857-304c-4e5b-a143-82684d0c45ad button.colab-df-convert');\n",
              "        buttonEl.style.display =\n",
              "          google.colab.kernel.accessAllowed ? 'block' : 'none';\n",
              "\n",
              "        async function convertToInteractive(key) {\n",
              "          const element = document.querySelector('#df-99f13857-304c-4e5b-a143-82684d0c45ad');\n",
              "          const dataTable =\n",
              "            await google.colab.kernel.invokeFunction('convertToInteractive',\n",
              "                                                     [key], {});\n",
              "          if (!dataTable) return;\n",
              "\n",
              "          const docLinkHtml = 'Like what you see? Visit the ' +\n",
              "            '<a target=\"_blank\" href=https://colab.research.google.com/notebooks/data_table.ipynb>data table notebook</a>'\n",
              "            + ' to learn more about interactive tables.';\n",
              "          element.innerHTML = '';\n",
              "          dataTable['output_type'] = 'display_data';\n",
              "          await google.colab.output.renderOutput(dataTable, element);\n",
              "          const docLink = document.createElement('div');\n",
              "          docLink.innerHTML = docLinkHtml;\n",
              "          element.appendChild(docLink);\n",
              "        }\n",
              "      </script>\n",
              "    </div>\n",
              "  </div>\n",
              "  "
            ]
          },
          "metadata": {},
          "execution_count": 46
        }
      ]
    },
    {
      "cell_type": "code",
      "source": [
        "found_removed_com = final_df[final_df['id'].isin(set(list(removed_id)))]\n",
        "print(len(found_removed_com))\n",
        "found_removed_com.head()"
      ],
      "metadata": {
        "colab": {
          "base_uri": "https://localhost:8080/",
          "height": 462
        },
        "id": "mX9MGVCgeS-I",
        "outputId": "a9ec73ed-2f99-4c13-a2ab-695f0dc67e76"
      },
      "execution_count": null,
      "outputs": [
        {
          "output_type": "stream",
          "name": "stdout",
          "text": [
            "3438\n"
          ]
        },
        {
          "output_type": "execute_result",
          "data": {
            "text/plain": [
              "       author                                               body  collapsed  \\\n",
              "8    20fxfljx                                                 :D        0.0   \n",
              "176  20fxfljx  Strange. Because there was someone defending a...        0.0   \n",
              "265  hxc0bdn2  Right but if all these insignificant countries...        0.0   \n",
              "291  5zqlkpcu  If you think I’m a “communist who defends Stal...        0.0   \n",
              "379  7slke0fq  > I'm Austrian so\\n\\nDid I ask bozo\\n\\nActuall...        0.0   \n",
              "\n",
              "     controversiality   created_utc       id    link_id   parent_id  \\\n",
              "8                 0.0  1652129190.0  i7ystov  t3_uljfld  t1_i7yci3l   \n",
              "176               0.0  1652129970.0  i7yuoos  t3_uljfld  t1_i7xuwun   \n",
              "265               0.0  1652130399.0  i7yvp39  t3_ulk92z  t1_i7ypdcy   \n",
              "291               0.0  1652130522.0  i7yvzgd  t3_ulvc66  t1_i7yuyz8   \n",
              "379               0.0  1652131056.0  i7yx8ba  t3_ulwv9b  t1_i7ytyo8   \n",
              "\n",
              "                                             permalink  score  \n",
              "8    /r/europe/comments/uljfld/war_in_ukraine_megat...    1.0  \n",
              "176  /r/europe/comments/uljfld/war_in_ukraine_megat...    1.0  \n",
              "265  /r/europe/comments/ulk92z/bulgaria_says_will_v...    1.0  \n",
              "291  /r/europe/comments/ulvc66/in_a_world_of_rivalr...    1.0  \n",
              "379  /r/europe/comments/ulwv9b/13_countries_in_the_...    1.0  "
            ],
            "text/html": [
              "\n",
              "  <div id=\"df-a2ee8f55-84ab-4ab0-92e6-c190b17c215f\">\n",
              "    <div class=\"colab-df-container\">\n",
              "      <div>\n",
              "<style scoped>\n",
              "    .dataframe tbody tr th:only-of-type {\n",
              "        vertical-align: middle;\n",
              "    }\n",
              "\n",
              "    .dataframe tbody tr th {\n",
              "        vertical-align: top;\n",
              "    }\n",
              "\n",
              "    .dataframe thead th {\n",
              "        text-align: right;\n",
              "    }\n",
              "</style>\n",
              "<table border=\"1\" class=\"dataframe\">\n",
              "  <thead>\n",
              "    <tr style=\"text-align: right;\">\n",
              "      <th></th>\n",
              "      <th>author</th>\n",
              "      <th>body</th>\n",
              "      <th>collapsed</th>\n",
              "      <th>controversiality</th>\n",
              "      <th>created_utc</th>\n",
              "      <th>id</th>\n",
              "      <th>link_id</th>\n",
              "      <th>parent_id</th>\n",
              "      <th>permalink</th>\n",
              "      <th>score</th>\n",
              "    </tr>\n",
              "  </thead>\n",
              "  <tbody>\n",
              "    <tr>\n",
              "      <th>8</th>\n",
              "      <td>20fxfljx</td>\n",
              "      <td>:D</td>\n",
              "      <td>0.0</td>\n",
              "      <td>0.0</td>\n",
              "      <td>1652129190.0</td>\n",
              "      <td>i7ystov</td>\n",
              "      <td>t3_uljfld</td>\n",
              "      <td>t1_i7yci3l</td>\n",
              "      <td>/r/europe/comments/uljfld/war_in_ukraine_megat...</td>\n",
              "      <td>1.0</td>\n",
              "    </tr>\n",
              "    <tr>\n",
              "      <th>176</th>\n",
              "      <td>20fxfljx</td>\n",
              "      <td>Strange. Because there was someone defending a...</td>\n",
              "      <td>0.0</td>\n",
              "      <td>0.0</td>\n",
              "      <td>1652129970.0</td>\n",
              "      <td>i7yuoos</td>\n",
              "      <td>t3_uljfld</td>\n",
              "      <td>t1_i7xuwun</td>\n",
              "      <td>/r/europe/comments/uljfld/war_in_ukraine_megat...</td>\n",
              "      <td>1.0</td>\n",
              "    </tr>\n",
              "    <tr>\n",
              "      <th>265</th>\n",
              "      <td>hxc0bdn2</td>\n",
              "      <td>Right but if all these insignificant countries...</td>\n",
              "      <td>0.0</td>\n",
              "      <td>0.0</td>\n",
              "      <td>1652130399.0</td>\n",
              "      <td>i7yvp39</td>\n",
              "      <td>t3_ulk92z</td>\n",
              "      <td>t1_i7ypdcy</td>\n",
              "      <td>/r/europe/comments/ulk92z/bulgaria_says_will_v...</td>\n",
              "      <td>1.0</td>\n",
              "    </tr>\n",
              "    <tr>\n",
              "      <th>291</th>\n",
              "      <td>5zqlkpcu</td>\n",
              "      <td>If you think I’m a “communist who defends Stal...</td>\n",
              "      <td>0.0</td>\n",
              "      <td>0.0</td>\n",
              "      <td>1652130522.0</td>\n",
              "      <td>i7yvzgd</td>\n",
              "      <td>t3_ulvc66</td>\n",
              "      <td>t1_i7yuyz8</td>\n",
              "      <td>/r/europe/comments/ulvc66/in_a_world_of_rivalr...</td>\n",
              "      <td>1.0</td>\n",
              "    </tr>\n",
              "    <tr>\n",
              "      <th>379</th>\n",
              "      <td>7slke0fq</td>\n",
              "      <td>&gt; I'm Austrian so\\n\\nDid I ask bozo\\n\\nActuall...</td>\n",
              "      <td>0.0</td>\n",
              "      <td>0.0</td>\n",
              "      <td>1652131056.0</td>\n",
              "      <td>i7yx8ba</td>\n",
              "      <td>t3_ulwv9b</td>\n",
              "      <td>t1_i7ytyo8</td>\n",
              "      <td>/r/europe/comments/ulwv9b/13_countries_in_the_...</td>\n",
              "      <td>1.0</td>\n",
              "    </tr>\n",
              "  </tbody>\n",
              "</table>\n",
              "</div>\n",
              "      <button class=\"colab-df-convert\" onclick=\"convertToInteractive('df-a2ee8f55-84ab-4ab0-92e6-c190b17c215f')\"\n",
              "              title=\"Convert this dataframe to an interactive table.\"\n",
              "              style=\"display:none;\">\n",
              "        \n",
              "  <svg xmlns=\"http://www.w3.org/2000/svg\" height=\"24px\"viewBox=\"0 0 24 24\"\n",
              "       width=\"24px\">\n",
              "    <path d=\"M0 0h24v24H0V0z\" fill=\"none\"/>\n",
              "    <path d=\"M18.56 5.44l.94 2.06.94-2.06 2.06-.94-2.06-.94-.94-2.06-.94 2.06-2.06.94zm-11 1L8.5 8.5l.94-2.06 2.06-.94-2.06-.94L8.5 2.5l-.94 2.06-2.06.94zm10 10l.94 2.06.94-2.06 2.06-.94-2.06-.94-.94-2.06-.94 2.06-2.06.94z\"/><path d=\"M17.41 7.96l-1.37-1.37c-.4-.4-.92-.59-1.43-.59-.52 0-1.04.2-1.43.59L10.3 9.45l-7.72 7.72c-.78.78-.78 2.05 0 2.83L4 21.41c.39.39.9.59 1.41.59.51 0 1.02-.2 1.41-.59l7.78-7.78 2.81-2.81c.8-.78.8-2.07 0-2.86zM5.41 20L4 18.59l7.72-7.72 1.47 1.35L5.41 20z\"/>\n",
              "  </svg>\n",
              "      </button>\n",
              "      \n",
              "  <style>\n",
              "    .colab-df-container {\n",
              "      display:flex;\n",
              "      flex-wrap:wrap;\n",
              "      gap: 12px;\n",
              "    }\n",
              "\n",
              "    .colab-df-convert {\n",
              "      background-color: #E8F0FE;\n",
              "      border: none;\n",
              "      border-radius: 50%;\n",
              "      cursor: pointer;\n",
              "      display: none;\n",
              "      fill: #1967D2;\n",
              "      height: 32px;\n",
              "      padding: 0 0 0 0;\n",
              "      width: 32px;\n",
              "    }\n",
              "\n",
              "    .colab-df-convert:hover {\n",
              "      background-color: #E2EBFA;\n",
              "      box-shadow: 0px 1px 2px rgba(60, 64, 67, 0.3), 0px 1px 3px 1px rgba(60, 64, 67, 0.15);\n",
              "      fill: #174EA6;\n",
              "    }\n",
              "\n",
              "    [theme=dark] .colab-df-convert {\n",
              "      background-color: #3B4455;\n",
              "      fill: #D2E3FC;\n",
              "    }\n",
              "\n",
              "    [theme=dark] .colab-df-convert:hover {\n",
              "      background-color: #434B5C;\n",
              "      box-shadow: 0px 1px 3px 1px rgba(0, 0, 0, 0.15);\n",
              "      filter: drop-shadow(0px 1px 2px rgba(0, 0, 0, 0.3));\n",
              "      fill: #FFFFFF;\n",
              "    }\n",
              "  </style>\n",
              "\n",
              "      <script>\n",
              "        const buttonEl =\n",
              "          document.querySelector('#df-a2ee8f55-84ab-4ab0-92e6-c190b17c215f button.colab-df-convert');\n",
              "        buttonEl.style.display =\n",
              "          google.colab.kernel.accessAllowed ? 'block' : 'none';\n",
              "\n",
              "        async function convertToInteractive(key) {\n",
              "          const element = document.querySelector('#df-a2ee8f55-84ab-4ab0-92e6-c190b17c215f');\n",
              "          const dataTable =\n",
              "            await google.colab.kernel.invokeFunction('convertToInteractive',\n",
              "                                                     [key], {});\n",
              "          if (!dataTable) return;\n",
              "\n",
              "          const docLinkHtml = 'Like what you see? Visit the ' +\n",
              "            '<a target=\"_blank\" href=https://colab.research.google.com/notebooks/data_table.ipynb>data table notebook</a>'\n",
              "            + ' to learn more about interactive tables.';\n",
              "          element.innerHTML = '';\n",
              "          dataTable['output_type'] = 'display_data';\n",
              "          await google.colab.output.renderOutput(dataTable, element);\n",
              "          const docLink = document.createElement('div');\n",
              "          docLink.innerHTML = docLinkHtml;\n",
              "          element.appendChild(docLink);\n",
              "        }\n",
              "      </script>\n",
              "    </div>\n",
              "  </div>\n",
              "  "
            ]
          },
          "metadata": {},
          "execution_count": 47
        }
      ]
    },
    {
      "cell_type": "code",
      "source": [
        "found_removed_com.to_csv('./removed_com_europe_10to24may.csv', header=True, index=False, columns=list(found_removed_com.axes[1]))"
      ],
      "metadata": {
        "id": "KlhJ50AueS-I"
      },
      "execution_count": null,
      "outputs": []
    },
    {
      "cell_type": "code",
      "source": [
        "from google.colab import files\n",
        "files.download(\"/content/removed_com_europe_10to24may.csv\")"
      ],
      "metadata": {
        "colab": {
          "base_uri": "https://localhost:8080/",
          "height": 17
        },
        "id": "hiR-BdSseS-I",
        "outputId": "33321646-2140-4f83-e242-8f3e0f159e96"
      },
      "execution_count": null,
      "outputs": [
        {
          "output_type": "display_data",
          "data": {
            "text/plain": [
              "<IPython.core.display.Javascript object>"
            ],
            "application/javascript": [
              "\n",
              "    async function download(id, filename, size) {\n",
              "      if (!google.colab.kernel.accessAllowed) {\n",
              "        return;\n",
              "      }\n",
              "      const div = document.createElement('div');\n",
              "      const label = document.createElement('label');\n",
              "      label.textContent = `Downloading \"${filename}\": `;\n",
              "      div.appendChild(label);\n",
              "      const progress = document.createElement('progress');\n",
              "      progress.max = size;\n",
              "      div.appendChild(progress);\n",
              "      document.body.appendChild(div);\n",
              "\n",
              "      const buffers = [];\n",
              "      let downloaded = 0;\n",
              "\n",
              "      const channel = await google.colab.kernel.comms.open(id);\n",
              "      // Send a message to notify the kernel that we're ready.\n",
              "      channel.send({})\n",
              "\n",
              "      for await (const message of channel.messages) {\n",
              "        // Send a message to notify the kernel that we're ready.\n",
              "        channel.send({})\n",
              "        if (message.buffers) {\n",
              "          for (const buffer of message.buffers) {\n",
              "            buffers.push(buffer);\n",
              "            downloaded += buffer.byteLength;\n",
              "            progress.value = downloaded;\n",
              "          }\n",
              "        }\n",
              "      }\n",
              "      const blob = new Blob(buffers, {type: 'application/binary'});\n",
              "      const a = document.createElement('a');\n",
              "      a.href = window.URL.createObjectURL(blob);\n",
              "      a.download = filename;\n",
              "      div.appendChild(a);\n",
              "      a.click();\n",
              "      div.remove();\n",
              "    }\n",
              "  "
            ]
          },
          "metadata": {}
        },
        {
          "output_type": "display_data",
          "data": {
            "text/plain": [
              "<IPython.core.display.Javascript object>"
            ],
            "application/javascript": [
              "download(\"download_1e37706b-6745-46fb-8b0e-98af13b83a68\", \"removed_com_europe_10to24may.csv\", 1133752)"
            ]
          },
          "metadata": {}
        }
      ]
    },
    {
      "cell_type": "code",
      "source": [
        ""
      ],
      "metadata": {
        "id": "WavWHbEZc0GA"
      },
      "execution_count": null,
      "outputs": []
    },
    {
      "cell_type": "markdown",
      "source": [
        "# **Word count cells**"
      ],
      "metadata": {
        "id": "lBKbQaGDT0Nd"
      }
    },
    {
      "cell_type": "code",
      "source": [
        "# import numpy as np\n",
        "# final_df['content'] = np.where(final_df['selftext'].isnull(), final_df['title'], final_df['title']+final_df['selftext'])"
      ],
      "metadata": {
        "id": "lxa64xeq9Iov"
      },
      "execution_count": null,
      "outputs": []
    },
    {
      "cell_type": "code",
      "source": [
        "from nltk.tokenize import WhitespaceTokenizer\n",
        "     \n",
        "tk = WhitespaceTokenizer()\n",
        "\n",
        "# final_df['word_count'] = final_df.content.apply(lambda x: len(tk.tokenize(x)))\n",
        "final_df['word_count'] = final_df.body.apply(lambda x: len(tk.tokenize(str(x))))"
      ],
      "metadata": {
        "id": "L9jGIYTT9XXC"
      },
      "execution_count": null,
      "outputs": []
    },
    {
      "cell_type": "code",
      "source": [
        "print(final_df.word_count.sum())"
      ],
      "metadata": {
        "colab": {
          "base_uri": "https://localhost:8080/"
        },
        "id": "ajnmKnay9fOY",
        "outputId": "0a8b1560-c049-47d3-ff01-48c896bb3bc1"
      },
      "execution_count": null,
      "outputs": [
        {
          "output_type": "stream",
          "name": "stdout",
          "text": [
            "4184462\n"
          ]
        }
      ]
    },
    {
      "cell_type": "markdown",
      "source": [
        "# **Pushshift API calls method for collection using comment ID**"
      ],
      "metadata": {
        "id": "Mkuo2WQoepL3"
      }
    },
    {
      "cell_type": "code",
      "source": [
        "#GIVING WRONG DATA\n",
        "\n",
        "# import requests\n",
        "\n",
        "# batches = create_batch(comment_ids)\n",
        "\n",
        "# for batch in batches:\n",
        "#   # parameters = {\"ids\" : batch, \"fields\" : ['body', 'author','created_utc', 'id','permalink','score']}\n",
        "#   response = requests.get(\"https://ssl.reddit.com/r/france/api/info.json\", params=parameters)\n",
        "#   print(\"Request status: \", response.status_code)\n",
        "#   res = response.json()\n",
        "#   print(\"----Num of comments fetched: \", len(res['data']))"
      ],
      "metadata": {
        "id": "HeOX3kSzfB3x"
      },
      "execution_count": null,
      "outputs": []
    },
    {
      "cell_type": "markdown",
      "source": [
        "# **Reddit.comment() function to collect using comment ID**"
      ],
      "metadata": {
        "id": "l5Xpgie57uBd"
      }
    },
    {
      "cell_type": "code",
      "source": [
        "def find_comment(id):\n",
        "  comment = reddit.comment(str(id))\n",
        "  return comment"
      ],
      "metadata": {
        "id": "IfWvhXKr7tj9"
      },
      "execution_count": null,
      "outputs": []
    },
    {
      "cell_type": "code",
      "source": [
        "reddit_com_list = []\n",
        "count = 0\n",
        "for i in comment_ids[0:9611]:\n",
        "  com = find_comment(i)\n",
        "\n",
        "  com_dict={}\n",
        "  com_dict['id'] = com.id\n",
        "  com_dict['parent_id'] = com.parent_id\n",
        "  com_dict['link_id'] = com.link_id\n",
        "  com_dict['body'] = com.body\n",
        "  com_dict['collapsed'] = 0 if com.collapsed == False else 1\n",
        "  com_dict['score'] = com.score\n",
        "  com_dict['controversiality'] = com.controversiality\n",
        "  com_dict['permalink'] = com.permalink\n",
        "  com_dict['created_utc'] = com.created_utc\n",
        "  try: \n",
        "    if com.author != None:\n",
        "      com_dict['author'] = com.author.id\n",
        "    else:\n",
        "      com_dict['author'] = 'Not found'\n",
        "\n",
        "  except Exception as e:\n",
        "    print(\"Author ERROR: \", e)\n",
        "    print(\"Comment number:\" + com.id)\n",
        "    com_dict['author'] = 'Not found'\n",
        "\n",
        "  reddit_com_list.append(com_dict)\n",
        "  count+=1\n",
        "  print(\"********COUNT: \", count)"
      ],
      "metadata": {
        "id": "8RDUSReoRwU5"
      },
      "execution_count": null,
      "outputs": []
    },
    {
      "cell_type": "code",
      "source": [
        "reddit_com_df = pd.DataFrame(reddit_com_list)"
      ],
      "metadata": {
        "id": "aAPr9OvGST2J"
      },
      "execution_count": null,
      "outputs": []
    },
    {
      "cell_type": "code",
      "source": [
        "reddit_com_df"
      ],
      "metadata": {
        "id": "o6U6LjC6SqbP"
      },
      "execution_count": null,
      "outputs": []
    },
    {
      "cell_type": "code",
      "source": [
        "reddit_com_df.to_csv('./1reddit_com_france_9to15may.csv', header=True, index=False, columns=list(reddit_com_df.axes[1]))"
      ],
      "metadata": {
        "id": "Q-wwpx9iYjtw"
      },
      "execution_count": null,
      "outputs": []
    },
    {
      "cell_type": "code",
      "source": [
        "from google.colab import files\n",
        "files.download(\"/content/1reddit_com_france_9to15may.csv\")"
      ],
      "metadata": {
        "id": "CYxJSkF0Yjt9"
      },
      "execution_count": null,
      "outputs": []
    },
    {
      "cell_type": "code",
      "source": [
        "removed_com = reddit_com_df[reddit_com_df['body']=='[removed]']\n",
        "removed_id = removed_com['id']\n",
        "print(len(removed_id))"
      ],
      "metadata": {
        "id": "3Lk19ewxUgJ7"
      },
      "execution_count": null,
      "outputs": []
    },
    {
      "cell_type": "code",
      "source": [
        "found_removed_com = apr_df[apr_df['id'].isin(set(list(removed_id)))]\n",
        "print(len(found_removed_com))\n",
        "found_removed_com.head()"
      ],
      "metadata": {
        "id": "V9egzqHWU0b4"
      },
      "execution_count": null,
      "outputs": []
    },
    {
      "cell_type": "code",
      "source": [
        "found_removed_com.to_csv('./removed_com_france_9to15may.csv', header=True, index=False, columns=list(found_removed_com.axes[1]))"
      ],
      "metadata": {
        "id": "s_VhZ8qXU0b5"
      },
      "execution_count": null,
      "outputs": []
    },
    {
      "cell_type": "code",
      "source": [
        "from google.colab import files\n",
        "files.download(\"/content/removed_com_france_9to15may.csv\")"
      ],
      "metadata": {
        "id": "r9jztE-aUzPz"
      },
      "execution_count": null,
      "outputs": []
    },
    {
      "cell_type": "code",
      "source": [
        ""
      ],
      "metadata": {
        "id": "A-Frj1w5WtOq"
      },
      "execution_count": null,
      "outputs": []
    },
    {
      "cell_type": "code",
      "source": [
        ""
      ],
      "metadata": {
        "id": "rLdV5YLIWtII"
      },
      "execution_count": null,
      "outputs": []
    },
    {
      "cell_type": "markdown",
      "source": [
        "# **Old Pushshift (pmaw) method for collection using comment ID**"
      ],
      "metadata": {
        "id": "twb9JGoJUL8T"
      }
    },
    {
      "cell_type": "code",
      "source": [
        "# comment_ids = [id for id in comment_ids if type(id) == str]"
      ],
      "metadata": {
        "id": "lN1BoISs3azr"
      },
      "execution_count": null,
      "outputs": []
    },
    {
      "cell_type": "code",
      "source": [
        "# final_df = final_df.sort_values(['created_utc'], ascending=True)\n",
        "# final_df.created_utc.max()"
      ],
      "metadata": {
        "id": "3SZEzrCqWKZP"
      },
      "execution_count": null,
      "outputs": []
    },
    {
      "cell_type": "code",
      "execution_count": null,
      "metadata": {
        "id": "VpyiXblk_nGU"
      },
      "outputs": [],
      "source": [
        "pip install pmaw==2.1.2"
      ]
    },
    {
      "cell_type": "code",
      "source": [
        "import pandas as pd\n",
        "from pmaw import PushshiftAPI\n",
        "\n",
        "pushshift_api = PushshiftAPI()\n",
        "comment = api.search_comments(ids=comment_ids[0])"
      ],
      "metadata": {
        "id": "ZCc4iQ_OAH0q"
      },
      "execution_count": null,
      "outputs": []
    },
    {
      "cell_type": "code",
      "source": [
        ""
      ],
      "metadata": {
        "id": "WG1bqBC-8bU_"
      },
      "execution_count": null,
      "outputs": []
    },
    {
      "cell_type": "code",
      "source": [
        "import datetime as dt\n",
        "\n",
        "# after = int(dt.datetime(2022,5,9,0,0,0).timestamp())\n",
        "after = int(1652129200.0)\n",
        "before = int(1652671820.0)\n",
        "subreddit = 'france'"
      ],
      "metadata": {
        "id": "qKYQhU9pA44P"
      },
      "execution_count": null,
      "outputs": []
    },
    {
      "cell_type": "code",
      "execution_count": null,
      "metadata": {
        "id": "important-cleaning"
      },
      "outputs": [],
      "source": [
        "comments = pushshift_api.search_comments(subreddit=subreddit, after=after, before = before)"
      ]
    },
    {
      "cell_type": "code",
      "execution_count": null,
      "metadata": {
        "scrolled": true,
        "id": "prerequisite-dictionary"
      },
      "outputs": [],
      "source": [
        "comments_df = pd.DataFrame(comments)\n",
        "\n",
        "comments_df_filtered = comments_df[[\"id\",\"author\",\"body\", \"collapsed\", 'score',\"controversiality\", \"parent_id\", \"link_id\",\"permalink\",\"created_utc\"]]\n",
        "\n",
        "# comments_df_filtered.created_utc = comments_df_filtered.created_utc.apply(lambda x: dt.datetime.fromtimestamp(x))\n",
        "comments_df_filtered.head()"
      ]
    },
    {
      "cell_type": "code",
      "source": [
        "len(comments_df_filtered)"
      ],
      "metadata": {
        "colab": {
          "base_uri": "https://localhost:8080/"
        },
        "id": "j3B37b58fHff",
        "outputId": "14cb0f33-fdaf-4d22-ecb3-ac769b959191"
      },
      "execution_count": null,
      "outputs": [
        {
          "output_type": "execute_result",
          "data": {
            "text/plain": [
              "39104"
            ]
          },
          "metadata": {},
          "execution_count": 14
        }
      ]
    },
    {
      "cell_type": "code",
      "source": [
        "found_comments = comments_df_filtered[comments_df_filtered['id'].isin(set(comment_ids))]"
      ],
      "metadata": {
        "id": "aBflLI8P3-xI"
      },
      "execution_count": null,
      "outputs": []
    },
    {
      "cell_type": "code",
      "source": [
        "len(found_comments)"
      ],
      "metadata": {
        "colab": {
          "base_uri": "https://localhost:8080/"
        },
        "id": "nvwec6I5GNtm",
        "outputId": "fba97821-55da-4578-80c1-a21c5c338465"
      },
      "execution_count": null,
      "outputs": [
        {
          "output_type": "execute_result",
          "data": {
            "text/plain": [
              "38072"
            ]
          },
          "metadata": {},
          "execution_count": 16
        }
      ]
    },
    {
      "cell_type": "code",
      "source": [
        "removed = found_comments[found_comments['body']=='[removed]']\n",
        "removed_id = removed['id']\n",
        "print(len(removed_id))"
      ],
      "metadata": {
        "colab": {
          "base_uri": "https://localhost:8080/"
        },
        "id": "vH0tIaYKGA84",
        "outputId": "2082344b-88ce-4db3-de6f-f29e10223745"
      },
      "execution_count": null,
      "outputs": [
        {
          "output_type": "stream",
          "name": "stdout",
          "text": [
            "82\n"
          ]
        }
      ]
    },
    {
      "cell_type": "code",
      "source": [
        "removed_com_stream = final_df[final_df['id'].isin(list(removed_id))]\n",
        "print(len(removed_com_stream))\n",
        "removed_com_stream.head()"
      ],
      "metadata": {
        "colab": {
          "base_uri": "https://localhost:8080/",
          "height": 224
        },
        "id": "Gok7SVsNYtsI",
        "outputId": "d09cba48-4ee8-4999-90fc-ffda73757047"
      },
      "execution_count": null,
      "outputs": [
        {
          "output_type": "stream",
          "name": "stdout",
          "text": [
            "82\n"
          ]
        },
        {
          "output_type": "execute_result",
          "data": {
            "text/plain": [
              "        author                                               body  collapsed  \\\n",
              "547   dr1m7ze2  C'est quand même dingue qu'on puisse reprocher...        0.0   \n",
              "548   dr1m7ze2  Je ne vois pas trop ce que tu reproches à la n...        0.0   \n",
              "549   dr1m7ze2  Ce n'est pas mon amie, et je pense être totale...        0.0   \n",
              "1290  h40nuvbg  Y a d'autre solution que les capotes, le ring,...        0.0   \n",
              "3659  9blu8xis  D'accord, donc non seulement tu ne comprends r...        0.0   \n",
              "\n",
              "      controversiality   created_utc       id    link_id   parent_id  \\\n",
              "547                0.0  1.652142e+09  i7zll14  t3_ulw3zl   t3_ulw3zl   \n",
              "548                0.0  1.652142e+09  i7zlwm9  t3_ulw3zl  t1_i7yd5dt   \n",
              "549                0.0  1.652142e+09  i7zmo3p  t3_ulw3zl  t1_i7yes9a   \n",
              "1290               0.0  1.652167e+09  i80v1b4  t3_ulw3zl   t3_ulw3zl   \n",
              "3659               0.0  1.652183e+09  i81ewlm  t3_ulkxbk  t1_i8161es   \n",
              "\n",
              "                                              permalink  score  \n",
              "547   /r/france/comments/ulw3zl/qui_est_le_trou_des_...    1.0  \n",
              "548   /r/france/comments/ulw3zl/qui_est_le_trou_des_...    1.0  \n",
              "549   /r/france/comments/ulw3zl/qui_est_le_trou_des_...    1.0  \n",
              "1290  /r/france/comments/ulw3zl/qui_est_le_trou_des_...    1.0  \n",
              "3659  /r/france/comments/ulkxbk/législatives_fabien_...    1.0  "
            ],
            "text/html": [
              "\n",
              "  <div id=\"df-dcebbec2-a4d3-4644-9408-acc317448628\">\n",
              "    <div class=\"colab-df-container\">\n",
              "      <div>\n",
              "<style scoped>\n",
              "    .dataframe tbody tr th:only-of-type {\n",
              "        vertical-align: middle;\n",
              "    }\n",
              "\n",
              "    .dataframe tbody tr th {\n",
              "        vertical-align: top;\n",
              "    }\n",
              "\n",
              "    .dataframe thead th {\n",
              "        text-align: right;\n",
              "    }\n",
              "</style>\n",
              "<table border=\"1\" class=\"dataframe\">\n",
              "  <thead>\n",
              "    <tr style=\"text-align: right;\">\n",
              "      <th></th>\n",
              "      <th>author</th>\n",
              "      <th>body</th>\n",
              "      <th>collapsed</th>\n",
              "      <th>controversiality</th>\n",
              "      <th>created_utc</th>\n",
              "      <th>id</th>\n",
              "      <th>link_id</th>\n",
              "      <th>parent_id</th>\n",
              "      <th>permalink</th>\n",
              "      <th>score</th>\n",
              "    </tr>\n",
              "  </thead>\n",
              "  <tbody>\n",
              "    <tr>\n",
              "      <th>547</th>\n",
              "      <td>dr1m7ze2</td>\n",
              "      <td>C'est quand même dingue qu'on puisse reprocher...</td>\n",
              "      <td>0.0</td>\n",
              "      <td>0.0</td>\n",
              "      <td>1.652142e+09</td>\n",
              "      <td>i7zll14</td>\n",
              "      <td>t3_ulw3zl</td>\n",
              "      <td>t3_ulw3zl</td>\n",
              "      <td>/r/france/comments/ulw3zl/qui_est_le_trou_des_...</td>\n",
              "      <td>1.0</td>\n",
              "    </tr>\n",
              "    <tr>\n",
              "      <th>548</th>\n",
              "      <td>dr1m7ze2</td>\n",
              "      <td>Je ne vois pas trop ce que tu reproches à la n...</td>\n",
              "      <td>0.0</td>\n",
              "      <td>0.0</td>\n",
              "      <td>1.652142e+09</td>\n",
              "      <td>i7zlwm9</td>\n",
              "      <td>t3_ulw3zl</td>\n",
              "      <td>t1_i7yd5dt</td>\n",
              "      <td>/r/france/comments/ulw3zl/qui_est_le_trou_des_...</td>\n",
              "      <td>1.0</td>\n",
              "    </tr>\n",
              "    <tr>\n",
              "      <th>549</th>\n",
              "      <td>dr1m7ze2</td>\n",
              "      <td>Ce n'est pas mon amie, et je pense être totale...</td>\n",
              "      <td>0.0</td>\n",
              "      <td>0.0</td>\n",
              "      <td>1.652142e+09</td>\n",
              "      <td>i7zmo3p</td>\n",
              "      <td>t3_ulw3zl</td>\n",
              "      <td>t1_i7yes9a</td>\n",
              "      <td>/r/france/comments/ulw3zl/qui_est_le_trou_des_...</td>\n",
              "      <td>1.0</td>\n",
              "    </tr>\n",
              "    <tr>\n",
              "      <th>1290</th>\n",
              "      <td>h40nuvbg</td>\n",
              "      <td>Y a d'autre solution que les capotes, le ring,...</td>\n",
              "      <td>0.0</td>\n",
              "      <td>0.0</td>\n",
              "      <td>1.652167e+09</td>\n",
              "      <td>i80v1b4</td>\n",
              "      <td>t3_ulw3zl</td>\n",
              "      <td>t3_ulw3zl</td>\n",
              "      <td>/r/france/comments/ulw3zl/qui_est_le_trou_des_...</td>\n",
              "      <td>1.0</td>\n",
              "    </tr>\n",
              "    <tr>\n",
              "      <th>3659</th>\n",
              "      <td>9blu8xis</td>\n",
              "      <td>D'accord, donc non seulement tu ne comprends r...</td>\n",
              "      <td>0.0</td>\n",
              "      <td>0.0</td>\n",
              "      <td>1.652183e+09</td>\n",
              "      <td>i81ewlm</td>\n",
              "      <td>t3_ulkxbk</td>\n",
              "      <td>t1_i8161es</td>\n",
              "      <td>/r/france/comments/ulkxbk/législatives_fabien_...</td>\n",
              "      <td>1.0</td>\n",
              "    </tr>\n",
              "  </tbody>\n",
              "</table>\n",
              "</div>\n",
              "      <button class=\"colab-df-convert\" onclick=\"convertToInteractive('df-dcebbec2-a4d3-4644-9408-acc317448628')\"\n",
              "              title=\"Convert this dataframe to an interactive table.\"\n",
              "              style=\"display:none;\">\n",
              "        \n",
              "  <svg xmlns=\"http://www.w3.org/2000/svg\" height=\"24px\"viewBox=\"0 0 24 24\"\n",
              "       width=\"24px\">\n",
              "    <path d=\"M0 0h24v24H0V0z\" fill=\"none\"/>\n",
              "    <path d=\"M18.56 5.44l.94 2.06.94-2.06 2.06-.94-2.06-.94-.94-2.06-.94 2.06-2.06.94zm-11 1L8.5 8.5l.94-2.06 2.06-.94-2.06-.94L8.5 2.5l-.94 2.06-2.06.94zm10 10l.94 2.06.94-2.06 2.06-.94-2.06-.94-.94-2.06-.94 2.06-2.06.94z\"/><path d=\"M17.41 7.96l-1.37-1.37c-.4-.4-.92-.59-1.43-.59-.52 0-1.04.2-1.43.59L10.3 9.45l-7.72 7.72c-.78.78-.78 2.05 0 2.83L4 21.41c.39.39.9.59 1.41.59.51 0 1.02-.2 1.41-.59l7.78-7.78 2.81-2.81c.8-.78.8-2.07 0-2.86zM5.41 20L4 18.59l7.72-7.72 1.47 1.35L5.41 20z\"/>\n",
              "  </svg>\n",
              "      </button>\n",
              "      \n",
              "  <style>\n",
              "    .colab-df-container {\n",
              "      display:flex;\n",
              "      flex-wrap:wrap;\n",
              "      gap: 12px;\n",
              "    }\n",
              "\n",
              "    .colab-df-convert {\n",
              "      background-color: #E8F0FE;\n",
              "      border: none;\n",
              "      border-radius: 50%;\n",
              "      cursor: pointer;\n",
              "      display: none;\n",
              "      fill: #1967D2;\n",
              "      height: 32px;\n",
              "      padding: 0 0 0 0;\n",
              "      width: 32px;\n",
              "    }\n",
              "\n",
              "    .colab-df-convert:hover {\n",
              "      background-color: #E2EBFA;\n",
              "      box-shadow: 0px 1px 2px rgba(60, 64, 67, 0.3), 0px 1px 3px 1px rgba(60, 64, 67, 0.15);\n",
              "      fill: #174EA6;\n",
              "    }\n",
              "\n",
              "    [theme=dark] .colab-df-convert {\n",
              "      background-color: #3B4455;\n",
              "      fill: #D2E3FC;\n",
              "    }\n",
              "\n",
              "    [theme=dark] .colab-df-convert:hover {\n",
              "      background-color: #434B5C;\n",
              "      box-shadow: 0px 1px 3px 1px rgba(0, 0, 0, 0.15);\n",
              "      filter: drop-shadow(0px 1px 2px rgba(0, 0, 0, 0.3));\n",
              "      fill: #FFFFFF;\n",
              "    }\n",
              "  </style>\n",
              "\n",
              "      <script>\n",
              "        const buttonEl =\n",
              "          document.querySelector('#df-dcebbec2-a4d3-4644-9408-acc317448628 button.colab-df-convert');\n",
              "        buttonEl.style.display =\n",
              "          google.colab.kernel.accessAllowed ? 'block' : 'none';\n",
              "\n",
              "        async function convertToInteractive(key) {\n",
              "          const element = document.querySelector('#df-dcebbec2-a4d3-4644-9408-acc317448628');\n",
              "          const dataTable =\n",
              "            await google.colab.kernel.invokeFunction('convertToInteractive',\n",
              "                                                     [key], {});\n",
              "          if (!dataTable) return;\n",
              "\n",
              "          const docLinkHtml = 'Like what you see? Visit the ' +\n",
              "            '<a target=\"_blank\" href=https://colab.research.google.com/notebooks/data_table.ipynb>data table notebook</a>'\n",
              "            + ' to learn more about interactive tables.';\n",
              "          element.innerHTML = '';\n",
              "          dataTable['output_type'] = 'display_data';\n",
              "          await google.colab.output.renderOutput(dataTable, element);\n",
              "          const docLink = document.createElement('div');\n",
              "          docLink.innerHTML = docLinkHtml;\n",
              "          element.appendChild(docLink);\n",
              "        }\n",
              "      </script>\n",
              "    </div>\n",
              "  </div>\n",
              "  "
            ]
          },
          "metadata": {},
          "execution_count": 19
        }
      ]
    },
    {
      "cell_type": "code",
      "source": [
        "removed.to_csv(\"./temp_france.csv\", header = True, index=False, columns=list(removed.axes[1]))"
      ],
      "metadata": {
        "id": "64bmof1m4qE7"
      },
      "execution_count": null,
      "outputs": []
    },
    {
      "cell_type": "code",
      "source": [
        "removed_com_stream.to_csv('./removed_com_france_9to15may.csv', header=True, index=False, columns=list(removed_com_stream.axes[1]))"
      ],
      "metadata": {
        "id": "axqptTBhkZgS"
      },
      "execution_count": null,
      "outputs": []
    },
    {
      "cell_type": "markdown",
      "source": [
        "# Deleted comments"
      ],
      "metadata": {
        "id": "A45-VWNXaIo4"
      }
    },
    {
      "cell_type": "code",
      "source": [
        "# deleted = found_comments[found_comments['body']=='[deleted]']\n",
        "# deleted_id = deleted['id']\n",
        "# print(len(deleted_id))"
      ],
      "metadata": {
        "colab": {
          "base_uri": "https://localhost:8080/"
        },
        "id": "Py0gDZAwVYvZ",
        "outputId": "8fb6db8d-6bdd-480b-be8c-f339ebf655ee"
      },
      "execution_count": null,
      "outputs": [
        {
          "output_type": "stream",
          "name": "stdout",
          "text": [
            "0\n"
          ]
        }
      ]
    },
    {
      "cell_type": "code",
      "source": [
        "# deleted_com_stream = final_df[final_df['id'].isin(list(deleted_id))]\n",
        "# print(len(deleted_com_stream))\n",
        "# deleted_com_stream.head()"
      ],
      "metadata": {
        "colab": {
          "base_uri": "https://localhost:8080/",
          "height": 67
        },
        "id": "MjfPnZ2zVkMq",
        "outputId": "2a91bb6e-0bdb-4710-c01e-213320d6f113"
      },
      "execution_count": null,
      "outputs": [
        {
          "output_type": "stream",
          "name": "stdout",
          "text": [
            "0\n"
          ]
        },
        {
          "output_type": "execute_result",
          "data": {
            "text/plain": [
              "Empty DataFrame\n",
              "Columns: [body, collapsed, controversiality, created_utc, id, link_id, parent_id, permalink, score]\n",
              "Index: []"
            ],
            "text/html": [
              "\n",
              "  <div id=\"df-ff469075-956f-4e8c-8e38-367eaaee16e2\">\n",
              "    <div class=\"colab-df-container\">\n",
              "      <div>\n",
              "<style scoped>\n",
              "    .dataframe tbody tr th:only-of-type {\n",
              "        vertical-align: middle;\n",
              "    }\n",
              "\n",
              "    .dataframe tbody tr th {\n",
              "        vertical-align: top;\n",
              "    }\n",
              "\n",
              "    .dataframe thead th {\n",
              "        text-align: right;\n",
              "    }\n",
              "</style>\n",
              "<table border=\"1\" class=\"dataframe\">\n",
              "  <thead>\n",
              "    <tr style=\"text-align: right;\">\n",
              "      <th></th>\n",
              "      <th>body</th>\n",
              "      <th>collapsed</th>\n",
              "      <th>controversiality</th>\n",
              "      <th>created_utc</th>\n",
              "      <th>id</th>\n",
              "      <th>link_id</th>\n",
              "      <th>parent_id</th>\n",
              "      <th>permalink</th>\n",
              "      <th>score</th>\n",
              "    </tr>\n",
              "  </thead>\n",
              "  <tbody>\n",
              "  </tbody>\n",
              "</table>\n",
              "</div>\n",
              "      <button class=\"colab-df-convert\" onclick=\"convertToInteractive('df-ff469075-956f-4e8c-8e38-367eaaee16e2')\"\n",
              "              title=\"Convert this dataframe to an interactive table.\"\n",
              "              style=\"display:none;\">\n",
              "        \n",
              "  <svg xmlns=\"http://www.w3.org/2000/svg\" height=\"24px\"viewBox=\"0 0 24 24\"\n",
              "       width=\"24px\">\n",
              "    <path d=\"M0 0h24v24H0V0z\" fill=\"none\"/>\n",
              "    <path d=\"M18.56 5.44l.94 2.06.94-2.06 2.06-.94-2.06-.94-.94-2.06-.94 2.06-2.06.94zm-11 1L8.5 8.5l.94-2.06 2.06-.94-2.06-.94L8.5 2.5l-.94 2.06-2.06.94zm10 10l.94 2.06.94-2.06 2.06-.94-2.06-.94-.94-2.06-.94 2.06-2.06.94z\"/><path d=\"M17.41 7.96l-1.37-1.37c-.4-.4-.92-.59-1.43-.59-.52 0-1.04.2-1.43.59L10.3 9.45l-7.72 7.72c-.78.78-.78 2.05 0 2.83L4 21.41c.39.39.9.59 1.41.59.51 0 1.02-.2 1.41-.59l7.78-7.78 2.81-2.81c.8-.78.8-2.07 0-2.86zM5.41 20L4 18.59l7.72-7.72 1.47 1.35L5.41 20z\"/>\n",
              "  </svg>\n",
              "      </button>\n",
              "      \n",
              "  <style>\n",
              "    .colab-df-container {\n",
              "      display:flex;\n",
              "      flex-wrap:wrap;\n",
              "      gap: 12px;\n",
              "    }\n",
              "\n",
              "    .colab-df-convert {\n",
              "      background-color: #E8F0FE;\n",
              "      border: none;\n",
              "      border-radius: 50%;\n",
              "      cursor: pointer;\n",
              "      display: none;\n",
              "      fill: #1967D2;\n",
              "      height: 32px;\n",
              "      padding: 0 0 0 0;\n",
              "      width: 32px;\n",
              "    }\n",
              "\n",
              "    .colab-df-convert:hover {\n",
              "      background-color: #E2EBFA;\n",
              "      box-shadow: 0px 1px 2px rgba(60, 64, 67, 0.3), 0px 1px 3px 1px rgba(60, 64, 67, 0.15);\n",
              "      fill: #174EA6;\n",
              "    }\n",
              "\n",
              "    [theme=dark] .colab-df-convert {\n",
              "      background-color: #3B4455;\n",
              "      fill: #D2E3FC;\n",
              "    }\n",
              "\n",
              "    [theme=dark] .colab-df-convert:hover {\n",
              "      background-color: #434B5C;\n",
              "      box-shadow: 0px 1px 3px 1px rgba(0, 0, 0, 0.15);\n",
              "      filter: drop-shadow(0px 1px 2px rgba(0, 0, 0, 0.3));\n",
              "      fill: #FFFFFF;\n",
              "    }\n",
              "  </style>\n",
              "\n",
              "      <script>\n",
              "        const buttonEl =\n",
              "          document.querySelector('#df-ff469075-956f-4e8c-8e38-367eaaee16e2 button.colab-df-convert');\n",
              "        buttonEl.style.display =\n",
              "          google.colab.kernel.accessAllowed ? 'block' : 'none';\n",
              "\n",
              "        async function convertToInteractive(key) {\n",
              "          const element = document.querySelector('#df-ff469075-956f-4e8c-8e38-367eaaee16e2');\n",
              "          const dataTable =\n",
              "            await google.colab.kernel.invokeFunction('convertToInteractive',\n",
              "                                                     [key], {});\n",
              "          if (!dataTable) return;\n",
              "\n",
              "          const docLinkHtml = 'Like what you see? Visit the ' +\n",
              "            '<a target=\"_blank\" href=https://colab.research.google.com/notebooks/data_table.ipynb>data table notebook</a>'\n",
              "            + ' to learn more about interactive tables.';\n",
              "          element.innerHTML = '';\n",
              "          dataTable['output_type'] = 'display_data';\n",
              "          await google.colab.output.renderOutput(dataTable, element);\n",
              "          const docLink = document.createElement('div');\n",
              "          docLink.innerHTML = docLinkHtml;\n",
              "          element.appendChild(docLink);\n",
              "        }\n",
              "      </script>\n",
              "    </div>\n",
              "  </div>\n",
              "  "
            ]
          },
          "metadata": {},
          "execution_count": 24
        }
      ]
    },
    {
      "cell_type": "code",
      "source": [
        "# deleted_com_stream.to_csv('./deleted_com_science_29to5apr.csv', header=True, index=False, columns=list(deleted_com_stream.axes[1]))"
      ],
      "metadata": {
        "id": "ej0HtODMVsWL"
      },
      "execution_count": null,
      "outputs": []
    },
    {
      "cell_type": "markdown",
      "source": [
        "# **Fetching parent id**"
      ],
      "metadata": {
        "id": "3PmJn8cJUW61"
      }
    },
    {
      "cell_type": "code",
      "source": [
        "parent_com_id = [id[3:] for id in removed_com_stream['parent_id'] if id[:2] == 't1']"
      ],
      "metadata": {
        "id": "xIG7TUffexh9",
        "colab": {
          "base_uri": "https://localhost:8080/",
          "height": 168
        },
        "outputId": "8b26ce37-ae12-4ca2-c448-46746c307f54"
      },
      "execution_count": null,
      "outputs": [
        {
          "output_type": "error",
          "ename": "NameError",
          "evalue": "ignored",
          "traceback": [
            "\u001b[0;31m---------------------------------------------------------------------------\u001b[0m",
            "\u001b[0;31mNameError\u001b[0m                                 Traceback (most recent call last)",
            "\u001b[0;32m<ipython-input-8-eeffc22df202>\u001b[0m in \u001b[0;36m<module>\u001b[0;34m()\u001b[0m\n\u001b[0;32m----> 1\u001b[0;31m \u001b[0mparent_com_id\u001b[0m \u001b[0;34m=\u001b[0m \u001b[0;34m[\u001b[0m\u001b[0mid\u001b[0m\u001b[0;34m[\u001b[0m\u001b[0;36m3\u001b[0m\u001b[0;34m:\u001b[0m\u001b[0;34m]\u001b[0m \u001b[0;32mfor\u001b[0m \u001b[0mid\u001b[0m \u001b[0;32min\u001b[0m \u001b[0mremoved_com_stream\u001b[0m\u001b[0;34m[\u001b[0m\u001b[0;34m'parent_id'\u001b[0m\u001b[0;34m]\u001b[0m \u001b[0;32mif\u001b[0m \u001b[0mid\u001b[0m\u001b[0;34m[\u001b[0m\u001b[0;34m:\u001b[0m\u001b[0;36m2\u001b[0m\u001b[0;34m]\u001b[0m \u001b[0;34m==\u001b[0m \u001b[0;34m't1'\u001b[0m\u001b[0;34m]\u001b[0m\u001b[0;34m\u001b[0m\u001b[0;34m\u001b[0m\u001b[0m\n\u001b[0m",
            "\u001b[0;31mNameError\u001b[0m: name 'removed_com_stream' is not defined"
          ]
        }
      ]
    },
    {
      "cell_type": "code",
      "source": [
        "parent_com_arr = pushshift_api.search_comments(ids=parent_com_id)"
      ],
      "metadata": {
        "id": "8rHMdkDHfZdk"
      },
      "execution_count": null,
      "outputs": []
    }
  ]
}