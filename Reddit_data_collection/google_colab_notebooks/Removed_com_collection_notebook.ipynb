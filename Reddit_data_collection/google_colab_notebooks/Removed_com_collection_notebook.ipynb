{
  "nbformat": 4,
  "nbformat_minor": 0,
  "metadata": {
    "colab": {
      "name": "Removed_com_collection_notebook.ipynb",
      "provenance": [],
      "collapsed_sections": [
        "JmfmVgMP7Vdj"
      ]
    },
    "kernelspec": {
      "name": "python3",
      "display_name": "Python 3"
    },
    "language_info": {
      "name": "python"
    }
  },
  "cells": [
    {
      "cell_type": "markdown",
      "source": [
        "## **In this notebook**, \n",
        "\n",
        "1.   Loading and processing master log live stream data\n",
        "2.   Defining a timestamp\n",
        "3. Collecting comment from reddit after delay for that timestamp\n",
        "3.   Finding the removed comments in the master log for that timestamp"
      ],
      "metadata": {
        "id": "e1XBkJAdVbXB"
      }
    },
    {
      "cell_type": "markdown",
      "source": [
        "Importing required libraries"
      ],
      "metadata": {
        "id": "zqgTApGSr3er"
      }
    },
    {
      "cell_type": "code",
      "source": [
        "import json\n",
        "import hashlib\n",
        "import pandas as pd\n",
        "from google.colab import files\n",
        "from datetime import datetime"
      ],
      "metadata": {
        "id": "wtQL2UyKnNZ4"
      },
      "execution_count": 71,
      "outputs": []
    },
    {
      "cell_type": "markdown",
      "source": [
        "# **Loading and processing master log csv file for one subreddit**"
      ],
      "metadata": {
        "id": "CKLmXxUh8SQs"
      }
    },
    {
      "cell_type": "code",
      "source": [
        "#load the csv into dataframe\n",
        "final_df = pd.read_csv('/content/com_stream_france.csv')"
      ],
      "metadata": {
        "id": "LIKAh2hj9jgs",
        "colab": {
          "base_uri": "https://localhost:8080/"
        },
        "outputId": "ec62e0a0-d04a-453f-83dd-e1551496d7d2"
      },
      "execution_count": 72,
      "outputs": [
        {
          "output_type": "stream",
          "name": "stderr",
          "text": [
            "/usr/local/lib/python3.7/dist-packages/IPython/core/interactiveshell.py:3326: DtypeWarning: Columns (4) have mixed types.Specify dtype option on import or set low_memory=False.\n",
            "  exec(code_obj, self.user_global_ns, self.user_ns)\n"
          ]
        }
      ]
    },
    {
      "cell_type": "code",
      "source": [
        "len(final_df)"
      ],
      "metadata": {
        "id": "SUiqQNP4hiQy",
        "colab": {
          "base_uri": "https://localhost:8080/"
        },
        "outputId": "8899bcb6-17e8-4c46-de04-05fb050f21df"
      },
      "execution_count": 73,
      "outputs": [
        {
          "output_type": "execute_result",
          "data": {
            "text/plain": [
              "820939"
            ]
          },
          "metadata": {},
          "execution_count": 73
        }
      ]
    },
    {
      "cell_type": "markdown",
      "source": [
        "###Cleaning the master log data"
      ],
      "metadata": {
        "id": "QzX2PjF7OBG8"
      }
    },
    {
      "cell_type": "markdown",
      "source": [
        "For checking and debugging dataframe data "
      ],
      "metadata": {
        "id": "R7sQXCFOtJOp"
      }
    },
    {
      "cell_type": "code",
      "source": [
        "final_df[final_df.score.isna()] #for com\n",
        "# if output is empty, we are good\n",
        "# this is the case when the csv file is not appended properly, columns are mismatched."
      ],
      "metadata": {
        "id": "-33DWtsS9FEl",
        "colab": {
          "base_uri": "https://localhost:8080/",
          "height": 765
        },
        "outputId": "a63b4635-371a-4ab3-812a-74a5e98fd9f5"
      },
      "execution_count": 74,
      "outputs": [
        {
          "output_type": "execute_result",
          "data": {
            "text/plain": [
              "                                                   author                body  \\\n",
              "67397                                             fu589uw  Hondelatte raconte   \n",
              "67398                                             fu589uw  Hondelatte raconte   \n",
              "67399                                             fu589uw  Hondelatte raconte   \n",
              "67400                                             fu589uw  Hondelatte raconte   \n",
              "67401                                             fu589uw  Hondelatte raconte   \n",
              "...                                                   ...                 ...   \n",
              "524288                               0:17 (i)   <----- LA                 0.0   \n",
              "645478                                           2q0m6gq8                 NaN   \n",
              "645479  Voici un brillant exemple de ce sujet https://...                 0.0   \n",
              "715253                                              czbnb                 NaN   \n",
              "715254  Merci! Tout cela était vraiment instructif. Je...                 0.0   \n",
              "\n",
              "        collapsed  controversiality created_utc         id     link_id  \\\n",
              "67397         NaN               NaN         NaN        NaN         NaN   \n",
              "67398         NaN               NaN         NaN        NaN         NaN   \n",
              "67399         NaN               NaN         NaN        NaN         NaN   \n",
              "67400         NaN               NaN         NaN        NaN         NaN   \n",
              "67401         NaN               NaN         NaN        NaN         NaN   \n",
              "...           ...               ...         ...        ...         ...   \n",
              "524288        0.0      1.657704e+09     ifyy1cx  t3_vxy3re  t1_ifyxwqf   \n",
              "645478        NaN               NaN         NaN        NaN         NaN   \n",
              "645479        0.0      1.659201e+09     iia1nbx  t3_wbq180   t3_wbq180   \n",
              "715253        NaN               NaN         NaN        NaN         NaN   \n",
              "715254        0.0      1.660143e+09     ijq51di  t3_wk5xs8  t1_ijnapg6   \n",
              "\n",
              "                                                parent_id permalink  score  \n",
              "67397                                                 NaN       NaN    NaN  \n",
              "67398                                                 NaN       NaN    NaN  \n",
              "67399                                                 NaN       NaN    NaN  \n",
              "67400                                                 NaN       NaN    NaN  \n",
              "67401                                                 NaN       NaN    NaN  \n",
              "...                                                   ...       ...    ...  \n",
              "524288  /r/france/comments/vxy3re/les_pubs_youtube_on_...       1.0    NaN  \n",
              "645478                                                NaN       NaN    NaN  \n",
              "645479  /r/france/comments/wbq180/les_clichés_scénaris...       1.0    NaN  \n",
              "715253                                                NaN       NaN    NaN  \n",
              "715254  /r/france/comments/wk5xs8/où_vivent_les_gens_n...       1.0    NaN  \n",
              "\n",
              "[114352 rows x 10 columns]"
            ],
            "text/html": [
              "\n",
              "  <div id=\"df-13a13706-2218-4b9a-8e04-8c0e0b68a302\">\n",
              "    <div class=\"colab-df-container\">\n",
              "      <div>\n",
              "<style scoped>\n",
              "    .dataframe tbody tr th:only-of-type {\n",
              "        vertical-align: middle;\n",
              "    }\n",
              "\n",
              "    .dataframe tbody tr th {\n",
              "        vertical-align: top;\n",
              "    }\n",
              "\n",
              "    .dataframe thead th {\n",
              "        text-align: right;\n",
              "    }\n",
              "</style>\n",
              "<table border=\"1\" class=\"dataframe\">\n",
              "  <thead>\n",
              "    <tr style=\"text-align: right;\">\n",
              "      <th></th>\n",
              "      <th>author</th>\n",
              "      <th>body</th>\n",
              "      <th>collapsed</th>\n",
              "      <th>controversiality</th>\n",
              "      <th>created_utc</th>\n",
              "      <th>id</th>\n",
              "      <th>link_id</th>\n",
              "      <th>parent_id</th>\n",
              "      <th>permalink</th>\n",
              "      <th>score</th>\n",
              "    </tr>\n",
              "  </thead>\n",
              "  <tbody>\n",
              "    <tr>\n",
              "      <th>67397</th>\n",
              "      <td>fu589uw</td>\n",
              "      <td>Hondelatte raconte</td>\n",
              "      <td>NaN</td>\n",
              "      <td>NaN</td>\n",
              "      <td>NaN</td>\n",
              "      <td>NaN</td>\n",
              "      <td>NaN</td>\n",
              "      <td>NaN</td>\n",
              "      <td>NaN</td>\n",
              "      <td>NaN</td>\n",
              "    </tr>\n",
              "    <tr>\n",
              "      <th>67398</th>\n",
              "      <td>fu589uw</td>\n",
              "      <td>Hondelatte raconte</td>\n",
              "      <td>NaN</td>\n",
              "      <td>NaN</td>\n",
              "      <td>NaN</td>\n",
              "      <td>NaN</td>\n",
              "      <td>NaN</td>\n",
              "      <td>NaN</td>\n",
              "      <td>NaN</td>\n",
              "      <td>NaN</td>\n",
              "    </tr>\n",
              "    <tr>\n",
              "      <th>67399</th>\n",
              "      <td>fu589uw</td>\n",
              "      <td>Hondelatte raconte</td>\n",
              "      <td>NaN</td>\n",
              "      <td>NaN</td>\n",
              "      <td>NaN</td>\n",
              "      <td>NaN</td>\n",
              "      <td>NaN</td>\n",
              "      <td>NaN</td>\n",
              "      <td>NaN</td>\n",
              "      <td>NaN</td>\n",
              "    </tr>\n",
              "    <tr>\n",
              "      <th>67400</th>\n",
              "      <td>fu589uw</td>\n",
              "      <td>Hondelatte raconte</td>\n",
              "      <td>NaN</td>\n",
              "      <td>NaN</td>\n",
              "      <td>NaN</td>\n",
              "      <td>NaN</td>\n",
              "      <td>NaN</td>\n",
              "      <td>NaN</td>\n",
              "      <td>NaN</td>\n",
              "      <td>NaN</td>\n",
              "    </tr>\n",
              "    <tr>\n",
              "      <th>67401</th>\n",
              "      <td>fu589uw</td>\n",
              "      <td>Hondelatte raconte</td>\n",
              "      <td>NaN</td>\n",
              "      <td>NaN</td>\n",
              "      <td>NaN</td>\n",
              "      <td>NaN</td>\n",
              "      <td>NaN</td>\n",
              "      <td>NaN</td>\n",
              "      <td>NaN</td>\n",
              "      <td>NaN</td>\n",
              "    </tr>\n",
              "    <tr>\n",
              "      <th>...</th>\n",
              "      <td>...</td>\n",
              "      <td>...</td>\n",
              "      <td>...</td>\n",
              "      <td>...</td>\n",
              "      <td>...</td>\n",
              "      <td>...</td>\n",
              "      <td>...</td>\n",
              "      <td>...</td>\n",
              "      <td>...</td>\n",
              "      <td>...</td>\n",
              "    </tr>\n",
              "    <tr>\n",
              "      <th>524288</th>\n",
              "      <td>0:17 (i)   &lt;----- LA</td>\n",
              "      <td>0.0</td>\n",
              "      <td>0.0</td>\n",
              "      <td>1.657704e+09</td>\n",
              "      <td>ifyy1cx</td>\n",
              "      <td>t3_vxy3re</td>\n",
              "      <td>t1_ifyxwqf</td>\n",
              "      <td>/r/france/comments/vxy3re/les_pubs_youtube_on_...</td>\n",
              "      <td>1.0</td>\n",
              "      <td>NaN</td>\n",
              "    </tr>\n",
              "    <tr>\n",
              "      <th>645478</th>\n",
              "      <td>2q0m6gq8</td>\n",
              "      <td>NaN</td>\n",
              "      <td>NaN</td>\n",
              "      <td>NaN</td>\n",
              "      <td>NaN</td>\n",
              "      <td>NaN</td>\n",
              "      <td>NaN</td>\n",
              "      <td>NaN</td>\n",
              "      <td>NaN</td>\n",
              "      <td>NaN</td>\n",
              "    </tr>\n",
              "    <tr>\n",
              "      <th>645479</th>\n",
              "      <td>Voici un brillant exemple de ce sujet https://...</td>\n",
              "      <td>0.0</td>\n",
              "      <td>0.0</td>\n",
              "      <td>1.659201e+09</td>\n",
              "      <td>iia1nbx</td>\n",
              "      <td>t3_wbq180</td>\n",
              "      <td>t3_wbq180</td>\n",
              "      <td>/r/france/comments/wbq180/les_clichés_scénaris...</td>\n",
              "      <td>1.0</td>\n",
              "      <td>NaN</td>\n",
              "    </tr>\n",
              "    <tr>\n",
              "      <th>715253</th>\n",
              "      <td>czbnb</td>\n",
              "      <td>NaN</td>\n",
              "      <td>NaN</td>\n",
              "      <td>NaN</td>\n",
              "      <td>NaN</td>\n",
              "      <td>NaN</td>\n",
              "      <td>NaN</td>\n",
              "      <td>NaN</td>\n",
              "      <td>NaN</td>\n",
              "      <td>NaN</td>\n",
              "    </tr>\n",
              "    <tr>\n",
              "      <th>715254</th>\n",
              "      <td>Merci! Tout cela était vraiment instructif. Je...</td>\n",
              "      <td>0.0</td>\n",
              "      <td>0.0</td>\n",
              "      <td>1.660143e+09</td>\n",
              "      <td>ijq51di</td>\n",
              "      <td>t3_wk5xs8</td>\n",
              "      <td>t1_ijnapg6</td>\n",
              "      <td>/r/france/comments/wk5xs8/où_vivent_les_gens_n...</td>\n",
              "      <td>1.0</td>\n",
              "      <td>NaN</td>\n",
              "    </tr>\n",
              "  </tbody>\n",
              "</table>\n",
              "<p>114352 rows × 10 columns</p>\n",
              "</div>\n",
              "      <button class=\"colab-df-convert\" onclick=\"convertToInteractive('df-13a13706-2218-4b9a-8e04-8c0e0b68a302')\"\n",
              "              title=\"Convert this dataframe to an interactive table.\"\n",
              "              style=\"display:none;\">\n",
              "        \n",
              "  <svg xmlns=\"http://www.w3.org/2000/svg\" height=\"24px\"viewBox=\"0 0 24 24\"\n",
              "       width=\"24px\">\n",
              "    <path d=\"M0 0h24v24H0V0z\" fill=\"none\"/>\n",
              "    <path d=\"M18.56 5.44l.94 2.06.94-2.06 2.06-.94-2.06-.94-.94-2.06-.94 2.06-2.06.94zm-11 1L8.5 8.5l.94-2.06 2.06-.94-2.06-.94L8.5 2.5l-.94 2.06-2.06.94zm10 10l.94 2.06.94-2.06 2.06-.94-2.06-.94-.94-2.06-.94 2.06-2.06.94z\"/><path d=\"M17.41 7.96l-1.37-1.37c-.4-.4-.92-.59-1.43-.59-.52 0-1.04.2-1.43.59L10.3 9.45l-7.72 7.72c-.78.78-.78 2.05 0 2.83L4 21.41c.39.39.9.59 1.41.59.51 0 1.02-.2 1.41-.59l7.78-7.78 2.81-2.81c.8-.78.8-2.07 0-2.86zM5.41 20L4 18.59l7.72-7.72 1.47 1.35L5.41 20z\"/>\n",
              "  </svg>\n",
              "      </button>\n",
              "      \n",
              "  <style>\n",
              "    .colab-df-container {\n",
              "      display:flex;\n",
              "      flex-wrap:wrap;\n",
              "      gap: 12px;\n",
              "    }\n",
              "\n",
              "    .colab-df-convert {\n",
              "      background-color: #E8F0FE;\n",
              "      border: none;\n",
              "      border-radius: 50%;\n",
              "      cursor: pointer;\n",
              "      display: none;\n",
              "      fill: #1967D2;\n",
              "      height: 32px;\n",
              "      padding: 0 0 0 0;\n",
              "      width: 32px;\n",
              "    }\n",
              "\n",
              "    .colab-df-convert:hover {\n",
              "      background-color: #E2EBFA;\n",
              "      box-shadow: 0px 1px 2px rgba(60, 64, 67, 0.3), 0px 1px 3px 1px rgba(60, 64, 67, 0.15);\n",
              "      fill: #174EA6;\n",
              "    }\n",
              "\n",
              "    [theme=dark] .colab-df-convert {\n",
              "      background-color: #3B4455;\n",
              "      fill: #D2E3FC;\n",
              "    }\n",
              "\n",
              "    [theme=dark] .colab-df-convert:hover {\n",
              "      background-color: #434B5C;\n",
              "      box-shadow: 0px 1px 3px 1px rgba(0, 0, 0, 0.15);\n",
              "      filter: drop-shadow(0px 1px 2px rgba(0, 0, 0, 0.3));\n",
              "      fill: #FFFFFF;\n",
              "    }\n",
              "  </style>\n",
              "\n",
              "      <script>\n",
              "        const buttonEl =\n",
              "          document.querySelector('#df-13a13706-2218-4b9a-8e04-8c0e0b68a302 button.colab-df-convert');\n",
              "        buttonEl.style.display =\n",
              "          google.colab.kernel.accessAllowed ? 'block' : 'none';\n",
              "\n",
              "        async function convertToInteractive(key) {\n",
              "          const element = document.querySelector('#df-13a13706-2218-4b9a-8e04-8c0e0b68a302');\n",
              "          const dataTable =\n",
              "            await google.colab.kernel.invokeFunction('convertToInteractive',\n",
              "                                                     [key], {});\n",
              "          if (!dataTable) return;\n",
              "\n",
              "          const docLinkHtml = 'Like what you see? Visit the ' +\n",
              "            '<a target=\"_blank\" href=https://colab.research.google.com/notebooks/data_table.ipynb>data table notebook</a>'\n",
              "            + ' to learn more about interactive tables.';\n",
              "          element.innerHTML = '';\n",
              "          dataTable['output_type'] = 'display_data';\n",
              "          await google.colab.output.renderOutput(dataTable, element);\n",
              "          const docLink = document.createElement('div');\n",
              "          docLink.innerHTML = docLinkHtml;\n",
              "          element.appendChild(docLink);\n",
              "        }\n",
              "      </script>\n",
              "    </div>\n",
              "  </div>\n",
              "  "
            ]
          },
          "metadata": {},
          "execution_count": 74
        }
      ]
    },
    {
      "cell_type": "code",
      "source": [
        "# To update the dataframe after removing rows which are of no use.\n",
        "# Use the above cell to check the rows in above cell, to see if they should be removed or not.\n",
        "# score andupvote_ratio would be empty if the csv files are not being appended properly\n",
        "\n",
        "def cleaning(df, df_type):\n",
        "  # print('before: ', len(df))\n",
        "  if df_type == 'com':\n",
        "    df = df[df.body.isna()==False]\n",
        "    df = df[df.score.isna()==False]\n",
        "  else:\n",
        "    df = df[df.upvote_ratio.isna()==False]\n",
        "  \n",
        "  df = df[df.author.isna()==False]\n",
        "  df = df[df.id.isna()==False]\n",
        "  df = df[df.created_utc.isna()==False]\n",
        "  df.created_utc = df.created_utc.apply(lambda x: float(x))\n",
        "\n",
        "  # print('after: ', len(df))\n",
        "  return df"
      ],
      "metadata": {
        "id": "S6N5yqjvkykq"
      },
      "execution_count": 75,
      "outputs": []
    },
    {
      "cell_type": "markdown",
      "source": [
        "Cleaning **comment** dataframes"
      ],
      "metadata": {
        "id": "w9ME0vScm-yP"
      }
    },
    {
      "cell_type": "code",
      "source": [
        "final_df = cleaning(final_df, 'com')"
      ],
      "metadata": {
        "id": "oo6feBqimGkJ"
      },
      "execution_count": 76,
      "outputs": []
    },
    {
      "cell_type": "code",
      "source": [
        "datetime.fromtimestamp(final_df.created_utc.max()).date()"
      ],
      "metadata": {
        "colab": {
          "base_uri": "https://localhost:8080/"
        },
        "id": "DCSZJ0Awvz15",
        "outputId": "ab21eee0-a2aa-4a52-ddec-976e3cc88619"
      },
      "execution_count": 79,
      "outputs": [
        {
          "output_type": "execute_result",
          "data": {
            "text/plain": [
              "datetime.date(2022, 8, 27)"
            ]
          },
          "metadata": {},
          "execution_count": 79
        }
      ]
    },
    {
      "cell_type": "markdown",
      "source": [
        "### Filtering the master log by **timestamp**\n",
        "**Note:** Defining **timestamp** and **output file name tag** used for all files that would be downloaded during this process.\n",
        "\n",
        "DO NOT forget to set the subreddit correctly"
      ],
      "metadata": {
        "id": "WQyMa_CeTMVz"
      }
    },
    {
      "cell_type": "code",
      "source": [
        "# IMP NOTE see if the subreddit is set correctly.\n",
        "subreddit = '_france_'\n",
        "\n",
        "# example for 15th August 2022\n",
        "date1 = datetime(2022,8,15)\n",
        "date2 = datetime.today() #Because com_stream csv loaded above was downloaded from server today\n",
        "\n",
        "dates_str = str(date1.date().strftime('%d%b%Y'))+'_to_'+str(date2.date().strftime('%d%b%Y'))\n",
        "\n",
        "out_file_name_tag = subreddit+dates_str\n",
        "print(out_file_name_tag)"
      ],
      "metadata": {
        "colab": {
          "base_uri": "https://localhost:8080/"
        },
        "id": "FqtL74cnKB72",
        "outputId": "1f1e09d6-443f-4745-df7d-72af870e4d2e"
      },
      "execution_count": 80,
      "outputs": [
        {
          "output_type": "stream",
          "name": "stdout",
          "text": [
            "_france_15Aug2022_to_28Aug2022\n"
          ]
        }
      ]
    },
    {
      "cell_type": "code",
      "source": [
        "# I used this link to get timestamp for a date: https://timestamp.online/\n",
        "# req_df = final_df[(final_df['created_utc'] >= 1655449200) & (final_df['created_utc'] <= 1655881200)]\n",
        "\n",
        "# you can use above defined dates to filter\n",
        "req_df = final_df[(final_df['created_utc'] >= date1.timestamp())]"
      ],
      "metadata": {
        "id": "8PykD4qrXCnl"
      },
      "execution_count": 81,
      "outputs": []
    },
    {
      "cell_type": "code",
      "source": [
        "# just confirming the above\n",
        "datetime.fromtimestamp(req_df.created_utc.min()).date()"
      ],
      "metadata": {
        "colab": {
          "base_uri": "https://localhost:8080/"
        },
        "id": "Hod5Qnz5ZS1A",
        "outputId": "fac055ed-662e-457b-9232-bc12f15497de"
      },
      "execution_count": 84,
      "outputs": [
        {
          "output_type": "execute_result",
          "data": {
            "text/plain": [
              "datetime.date(2022, 8, 15)"
            ]
          },
          "metadata": {},
          "execution_count": 84
        }
      ]
    },
    {
      "cell_type": "code",
      "source": [
        "len(req_df)"
      ],
      "metadata": {
        "id": "GatlrgNuy_TQ",
        "colab": {
          "base_uri": "https://localhost:8080/"
        },
        "outputId": "11f6cbcc-e7d5-4037-cf7b-ec997d4afff1"
      },
      "execution_count": 83,
      "outputs": [
        {
          "output_type": "execute_result",
          "data": {
            "text/plain": [
              "77069"
            ]
          },
          "metadata": {},
          "execution_count": 83
        }
      ]
    },
    {
      "cell_type": "code",
      "source": [
        "# assigning the required dataframe to the original name\n",
        "final_df = req_df"
      ],
      "metadata": {
        "id": "EnbQ2SAR4vdV"
      },
      "execution_count": 85,
      "outputs": []
    },
    {
      "cell_type": "markdown",
      "source": [
        "# **Collecting reddit comment using comment IDs**\n",
        "This collection is done after a significant delay from the time these comment ids were live streaming on server"
      ],
      "metadata": {
        "id": "5K9m1VaOevGm"
      }
    },
    {
      "cell_type": "markdown",
      "source": [
        "### Generating **fullname** for the **comment IDs**"
      ],
      "metadata": {
        "id": "IQekxrAbURIX"
      }
    },
    {
      "cell_type": "code",
      "source": [
        "comment_ids = list(final_df.id)"
      ],
      "metadata": {
        "id": "VvJjLsw1cWOW"
      },
      "execution_count": 86,
      "outputs": []
    },
    {
      "cell_type": "code",
      "source": [
        "# Prefix 't1_'\tfor Comment, 't3_' for Post/Link in reddit terms\n",
        "# We need Fullnames to fetch the comments by its ID using reddit api info function.\n",
        "comment_fullnames = [\"t1_\"+i for i in comment_ids]\n",
        "print(len(comment_fullnames))"
      ],
      "metadata": {
        "id": "-ix_RfXAVrmU",
        "colab": {
          "base_uri": "https://localhost:8080/"
        },
        "outputId": "d41dffb9-ea8e-4914-f85b-de82ab3d776c"
      },
      "execution_count": 87,
      "outputs": [
        {
          "output_type": "stream",
          "name": "stdout",
          "text": [
            "77069\n"
          ]
        }
      ]
    },
    {
      "cell_type": "markdown",
      "source": [
        "### Connect to Reddit API (PRAW)"
      ],
      "metadata": {
        "id": "JmfmVgMP7Vdj"
      }
    },
    {
      "cell_type": "code",
      "source": [
        "pip install praw"
      ],
      "metadata": {
        "id": "BCa5U7HPWbNh",
        "colab": {
          "base_uri": "https://localhost:8080/"
        },
        "outputId": "add8b388-ca22-4f6a-bf74-3b36437ed5b7"
      },
      "execution_count": 88,
      "outputs": [
        {
          "output_type": "stream",
          "name": "stdout",
          "text": [
            "Looking in indexes: https://pypi.org/simple, https://us-python.pkg.dev/colab-wheels/public/simple/\n",
            "Requirement already satisfied: praw in /usr/local/lib/python3.7/dist-packages (7.6.0)\n",
            "Requirement already satisfied: update-checker>=0.18 in /usr/local/lib/python3.7/dist-packages (from praw) (0.18.0)\n",
            "Requirement already satisfied: prawcore<3,>=2.1 in /usr/local/lib/python3.7/dist-packages (from praw) (2.3.0)\n",
            "Requirement already satisfied: websocket-client>=0.54.0 in /usr/local/lib/python3.7/dist-packages (from praw) (1.4.0)\n",
            "Requirement already satisfied: requests<3.0,>=2.6.0 in /usr/local/lib/python3.7/dist-packages (from prawcore<3,>=2.1->praw) (2.23.0)\n",
            "Requirement already satisfied: urllib3!=1.25.0,!=1.25.1,<1.26,>=1.21.1 in /usr/local/lib/python3.7/dist-packages (from requests<3.0,>=2.6.0->prawcore<3,>=2.1->praw) (1.24.3)\n",
            "Requirement already satisfied: idna<3,>=2.5 in /usr/local/lib/python3.7/dist-packages (from requests<3.0,>=2.6.0->prawcore<3,>=2.1->praw) (2.10)\n",
            "Requirement already satisfied: chardet<4,>=3.0.2 in /usr/local/lib/python3.7/dist-packages (from requests<3.0,>=2.6.0->prawcore<3,>=2.1->praw) (3.0.4)\n",
            "Requirement already satisfied: certifi>=2017.4.17 in /usr/local/lib/python3.7/dist-packages (from requests<3.0,>=2.6.0->prawcore<3,>=2.1->praw) (2022.6.15)\n"
          ]
        }
      ]
    },
    {
      "cell_type": "code",
      "execution_count": 89,
      "metadata": {
        "id": "damaged-classics"
      },
      "outputs": [],
      "source": [
        "credentials = 'client_secret.json'\n",
        "\n",
        "with open(credentials) as f:\n",
        "    creds = json.load(f)"
      ]
    },
    {
      "cell_type": "code",
      "execution_count": 90,
      "metadata": {
        "id": "broad-saudi"
      },
      "outputs": [],
      "source": [
        "import praw\n",
        "reddit = praw.Reddit(client_id = creds['client_id'],\n",
        "                    client_secret = creds['client_secret'],\n",
        "                    user_agent = creds['user_agent'],\n",
        "                    redirect_uri = creds['redirect_uri'],\n",
        "                    refresh_token = creds['refresh_token'],\n",
        "                     check_for_async = False)"
      ]
    },
    {
      "cell_type": "markdown",
      "source": [
        "### Collecting using Reddit API"
      ],
      "metadata": {
        "id": "DX4h4Fj_nQeL"
      }
    },
    {
      "cell_type": "code",
      "source": [
        "# Function to create batches of 500 fullnames\n",
        "\n",
        "def create_batch(total):\n",
        "  final_batchs = []\n",
        "  start = 0\n",
        "  end = 500\n",
        "\n",
        "  while len(total)-start > 500:\n",
        "    batch = total[start:end]\n",
        "    final_batchs.append(batch)\n",
        "    start = end\n",
        "    end = end+500\n",
        "\n",
        "  last_batch = total[start:]\n",
        "  final_batchs.append(last_batch)\n",
        "\n",
        "  return final_batchs"
      ],
      "metadata": {
        "id": "tlPV5t4ffJup"
      },
      "execution_count": 91,
      "outputs": []
    },
    {
      "cell_type": "code",
      "source": [
        "# For every batch, reddit.info() is collecting only the comment id and body, then appending to the final list\n",
        "# This cell would run fine for 200 batches, notebook might time out for more than 200 batches if left unattended\n",
        "\n",
        "final_list = []\n",
        "batches = create_batch(comment_fullnames)\n",
        "print(\"Number of batches: \", len(batches))\n",
        "\n",
        "b_count = 1\n",
        "for batch in batches:\n",
        "  com_generator = reddit.info(fullnames = batch)\n",
        "\n",
        "  for com in com_generator:\n",
        "    com_dict={}\n",
        "    com_dict['id'] = com.id\n",
        "    com_dict['body'] = com.body\n",
        "\n",
        "    final_list.append(com_dict)\n",
        "  \n",
        "  print(\"-----Batch: \", b_count, \"----Num of comments collected: \", len(final_list))\n",
        "  b_count+=1"
      ],
      "metadata": {
        "id": "i1DpLQBzKJMb"
      },
      "execution_count": null,
      "outputs": []
    },
    {
      "cell_type": "code",
      "source": [
        "# To removed extra spaced from the comment body\n",
        "final_list = [{'id': i['id'], 'body': \" \".join(i['body'].split())} for i in final_list]"
      ],
      "metadata": {
        "id": "lZ5pXSdcgfDX"
      },
      "execution_count": 93,
      "outputs": []
    },
    {
      "cell_type": "code",
      "source": [
        "len(final_list)"
      ],
      "metadata": {
        "colab": {
          "base_uri": "https://localhost:8080/"
        },
        "id": "jbbng1KSEh4_",
        "outputId": "4e813759-db12-43b6-a333-0f4e6ac3898e"
      },
      "execution_count": 94,
      "outputs": [
        {
          "output_type": "execute_result",
          "data": {
            "text/plain": [
              "77069"
            ]
          },
          "metadata": {},
          "execution_count": 94
        }
      ]
    },
    {
      "cell_type": "code",
      "source": [
        "# Converting the list to data frame\n",
        "reddit_collected_com = pd.DataFrame(final_list)\n",
        "reddit_collected_com.info()"
      ],
      "metadata": {
        "id": "UgEJP7T_dTU3",
        "colab": {
          "base_uri": "https://localhost:8080/"
        },
        "outputId": "e0e86683-31d5-47d3-a995-8eba0c183978"
      },
      "execution_count": 95,
      "outputs": [
        {
          "output_type": "stream",
          "name": "stdout",
          "text": [
            "<class 'pandas.core.frame.DataFrame'>\n",
            "RangeIndex: 77069 entries, 0 to 77068\n",
            "Data columns (total 2 columns):\n",
            " #   Column  Non-Null Count  Dtype \n",
            "---  ------  --------------  ----- \n",
            " 0   id      77069 non-null  object\n",
            " 1   body    77069 non-null  object\n",
            "dtypes: object(2)\n",
            "memory usage: 1.2+ MB\n"
          ]
        }
      ]
    },
    {
      "cell_type": "markdown",
      "source": [
        "#### Saving **reddit collected** comments\n",
        "**Note:** It is recommended to run till this section because the collection cell above takes a lot of time, thus it is better to run till the below to cell, so that the collection is alteast saved, in case notebook timeouts"
      ],
      "metadata": {
        "id": "spTE9YoyRQ__"
      }
    },
    {
      "cell_type": "code",
      "source": [
        "# Check the var 'out_file_name_tag' above to confirm the date and subreddit\n",
        "collect_outfile_name = 'collected_com'+out_file_name_tag+'.csv'\n",
        "print(collect_outfile_name)"
      ],
      "metadata": {
        "id": "Z4ZWDNaehfc2",
        "colab": {
          "base_uri": "https://localhost:8080/"
        },
        "outputId": "2ff51ad8-cfc2-48f2-9ef7-acd130027e9f"
      },
      "execution_count": 96,
      "outputs": [
        {
          "output_type": "stream",
          "name": "stdout",
          "text": [
            "collected_com_france_15Aug2022_to_28Aug2022.csv\n"
          ]
        }
      ]
    },
    {
      "cell_type": "code",
      "source": [
        "# Downloading just in case the notebook timeouts\n",
        "# becaus above collection takes a lot of time\n",
        "reddit_collected_com.to_csv('./'+collect_outfile_name, header=True, index=False, columns=list(reddit_collected_com.axes[1]))\n",
        "files.download('/content/'+collect_outfile_name)"
      ],
      "metadata": {
        "id": "uzcK5RyGNuhk",
        "colab": {
          "base_uri": "https://localhost:8080/",
          "height": 17
        },
        "outputId": "8eb76fec-311c-4718-bfd9-a0bc64945aef"
      },
      "execution_count": 97,
      "outputs": [
        {
          "output_type": "display_data",
          "data": {
            "text/plain": [
              "<IPython.core.display.Javascript object>"
            ],
            "application/javascript": [
              "\n",
              "    async function download(id, filename, size) {\n",
              "      if (!google.colab.kernel.accessAllowed) {\n",
              "        return;\n",
              "      }\n",
              "      const div = document.createElement('div');\n",
              "      const label = document.createElement('label');\n",
              "      label.textContent = `Downloading \"${filename}\": `;\n",
              "      div.appendChild(label);\n",
              "      const progress = document.createElement('progress');\n",
              "      progress.max = size;\n",
              "      div.appendChild(progress);\n",
              "      document.body.appendChild(div);\n",
              "\n",
              "      const buffers = [];\n",
              "      let downloaded = 0;\n",
              "\n",
              "      const channel = await google.colab.kernel.comms.open(id);\n",
              "      // Send a message to notify the kernel that we're ready.\n",
              "      channel.send({})\n",
              "\n",
              "      for await (const message of channel.messages) {\n",
              "        // Send a message to notify the kernel that we're ready.\n",
              "        channel.send({})\n",
              "        if (message.buffers) {\n",
              "          for (const buffer of message.buffers) {\n",
              "            buffers.push(buffer);\n",
              "            downloaded += buffer.byteLength;\n",
              "            progress.value = downloaded;\n",
              "          }\n",
              "        }\n",
              "      }\n",
              "      const blob = new Blob(buffers, {type: 'application/binary'});\n",
              "      const a = document.createElement('a');\n",
              "      a.href = window.URL.createObjectURL(blob);\n",
              "      a.download = filename;\n",
              "      div.appendChild(a);\n",
              "      a.click();\n",
              "      div.remove();\n",
              "    }\n",
              "  "
            ]
          },
          "metadata": {}
        },
        {
          "output_type": "display_data",
          "data": {
            "text/plain": [
              "<IPython.core.display.Javascript object>"
            ],
            "application/javascript": [
              "download(\"download_728850b4-88a0-455d-81e0-bac0c9388003\", \"collected_com_france_15Aug2022_to_28Aug2022.csv\", 20781266)"
            ]
          },
          "metadata": {}
        }
      ]
    },
    {
      "cell_type": "code",
      "source": [],
      "metadata": {
        "id": "oGg6p1DuS40S"
      },
      "execution_count": null,
      "outputs": []
    },
    {
      "cell_type": "markdown",
      "source": [
        "# **Finding removed comments and saving all required files**\n"
      ],
      "metadata": {
        "id": "orhIsAL7eS-H"
      }
    },
    {
      "cell_type": "markdown",
      "source": [
        "### Comment IDs for comments with body == [removed]"
      ],
      "metadata": {
        "id": "QS8IDqMhrgkk"
      }
    },
    {
      "cell_type": "code",
      "source": [
        "# Filtering out the comments with '[removed]' body and collecting these comments ids\n",
        "\n",
        "removed_com = reddit_collected_com[reddit_collected_com['body']=='[removed]']\n",
        "removed_id = removed_com['id']\n",
        "print(len(removed_id))"
      ],
      "metadata": {
        "colab": {
          "base_uri": "https://localhost:8080/"
        },
        "id": "9Dw_TICpeS-I",
        "outputId": "f5393bb3-ba57-4df0-af45-21c691260288"
      },
      "execution_count": 98,
      "outputs": [
        {
          "output_type": "stream",
          "name": "stdout",
          "text": [
            "655\n"
          ]
        }
      ]
    },
    {
      "cell_type": "code",
      "source": [
        "removed_com "
      ],
      "metadata": {
        "id": "5D5xXEo0qe8l",
        "colab": {
          "base_uri": "https://localhost:8080/",
          "height": 424
        },
        "outputId": "e4d3a3a6-c817-4a02-9bb5-d773542930b1"
      },
      "execution_count": 99,
      "outputs": [
        {
          "output_type": "execute_result",
          "data": {
            "text/plain": [
              "            id       body\n",
              "164    ikc8yjv  [removed]\n",
              "1205   ikd27we  [removed]\n",
              "1272   ikd2x1c  [removed]\n",
              "1298   ikd37qh  [removed]\n",
              "1324   ikd3ia1  [removed]\n",
              "...        ...        ...\n",
              "75887  ilww6cl  [removed]\n",
              "75898  ilwwg7w  [removed]\n",
              "76719  ilxlctp  [removed]\n",
              "76962  ily2h0y  [removed]\n",
              "77036  ilyd7h1  [removed]\n",
              "\n",
              "[655 rows x 2 columns]"
            ],
            "text/html": [
              "\n",
              "  <div id=\"df-a94c8120-dc27-43d6-b40a-3c7f00da8542\">\n",
              "    <div class=\"colab-df-container\">\n",
              "      <div>\n",
              "<style scoped>\n",
              "    .dataframe tbody tr th:only-of-type {\n",
              "        vertical-align: middle;\n",
              "    }\n",
              "\n",
              "    .dataframe tbody tr th {\n",
              "        vertical-align: top;\n",
              "    }\n",
              "\n",
              "    .dataframe thead th {\n",
              "        text-align: right;\n",
              "    }\n",
              "</style>\n",
              "<table border=\"1\" class=\"dataframe\">\n",
              "  <thead>\n",
              "    <tr style=\"text-align: right;\">\n",
              "      <th></th>\n",
              "      <th>id</th>\n",
              "      <th>body</th>\n",
              "    </tr>\n",
              "  </thead>\n",
              "  <tbody>\n",
              "    <tr>\n",
              "      <th>164</th>\n",
              "      <td>ikc8yjv</td>\n",
              "      <td>[removed]</td>\n",
              "    </tr>\n",
              "    <tr>\n",
              "      <th>1205</th>\n",
              "      <td>ikd27we</td>\n",
              "      <td>[removed]</td>\n",
              "    </tr>\n",
              "    <tr>\n",
              "      <th>1272</th>\n",
              "      <td>ikd2x1c</td>\n",
              "      <td>[removed]</td>\n",
              "    </tr>\n",
              "    <tr>\n",
              "      <th>1298</th>\n",
              "      <td>ikd37qh</td>\n",
              "      <td>[removed]</td>\n",
              "    </tr>\n",
              "    <tr>\n",
              "      <th>1324</th>\n",
              "      <td>ikd3ia1</td>\n",
              "      <td>[removed]</td>\n",
              "    </tr>\n",
              "    <tr>\n",
              "      <th>...</th>\n",
              "      <td>...</td>\n",
              "      <td>...</td>\n",
              "    </tr>\n",
              "    <tr>\n",
              "      <th>75887</th>\n",
              "      <td>ilww6cl</td>\n",
              "      <td>[removed]</td>\n",
              "    </tr>\n",
              "    <tr>\n",
              "      <th>75898</th>\n",
              "      <td>ilwwg7w</td>\n",
              "      <td>[removed]</td>\n",
              "    </tr>\n",
              "    <tr>\n",
              "      <th>76719</th>\n",
              "      <td>ilxlctp</td>\n",
              "      <td>[removed]</td>\n",
              "    </tr>\n",
              "    <tr>\n",
              "      <th>76962</th>\n",
              "      <td>ily2h0y</td>\n",
              "      <td>[removed]</td>\n",
              "    </tr>\n",
              "    <tr>\n",
              "      <th>77036</th>\n",
              "      <td>ilyd7h1</td>\n",
              "      <td>[removed]</td>\n",
              "    </tr>\n",
              "  </tbody>\n",
              "</table>\n",
              "<p>655 rows × 2 columns</p>\n",
              "</div>\n",
              "      <button class=\"colab-df-convert\" onclick=\"convertToInteractive('df-a94c8120-dc27-43d6-b40a-3c7f00da8542')\"\n",
              "              title=\"Convert this dataframe to an interactive table.\"\n",
              "              style=\"display:none;\">\n",
              "        \n",
              "  <svg xmlns=\"http://www.w3.org/2000/svg\" height=\"24px\"viewBox=\"0 0 24 24\"\n",
              "       width=\"24px\">\n",
              "    <path d=\"M0 0h24v24H0V0z\" fill=\"none\"/>\n",
              "    <path d=\"M18.56 5.44l.94 2.06.94-2.06 2.06-.94-2.06-.94-.94-2.06-.94 2.06-2.06.94zm-11 1L8.5 8.5l.94-2.06 2.06-.94-2.06-.94L8.5 2.5l-.94 2.06-2.06.94zm10 10l.94 2.06.94-2.06 2.06-.94-2.06-.94-.94-2.06-.94 2.06-2.06.94z\"/><path d=\"M17.41 7.96l-1.37-1.37c-.4-.4-.92-.59-1.43-.59-.52 0-1.04.2-1.43.59L10.3 9.45l-7.72 7.72c-.78.78-.78 2.05 0 2.83L4 21.41c.39.39.9.59 1.41.59.51 0 1.02-.2 1.41-.59l7.78-7.78 2.81-2.81c.8-.78.8-2.07 0-2.86zM5.41 20L4 18.59l7.72-7.72 1.47 1.35L5.41 20z\"/>\n",
              "  </svg>\n",
              "      </button>\n",
              "      \n",
              "  <style>\n",
              "    .colab-df-container {\n",
              "      display:flex;\n",
              "      flex-wrap:wrap;\n",
              "      gap: 12px;\n",
              "    }\n",
              "\n",
              "    .colab-df-convert {\n",
              "      background-color: #E8F0FE;\n",
              "      border: none;\n",
              "      border-radius: 50%;\n",
              "      cursor: pointer;\n",
              "      display: none;\n",
              "      fill: #1967D2;\n",
              "      height: 32px;\n",
              "      padding: 0 0 0 0;\n",
              "      width: 32px;\n",
              "    }\n",
              "\n",
              "    .colab-df-convert:hover {\n",
              "      background-color: #E2EBFA;\n",
              "      box-shadow: 0px 1px 2px rgba(60, 64, 67, 0.3), 0px 1px 3px 1px rgba(60, 64, 67, 0.15);\n",
              "      fill: #174EA6;\n",
              "    }\n",
              "\n",
              "    [theme=dark] .colab-df-convert {\n",
              "      background-color: #3B4455;\n",
              "      fill: #D2E3FC;\n",
              "    }\n",
              "\n",
              "    [theme=dark] .colab-df-convert:hover {\n",
              "      background-color: #434B5C;\n",
              "      box-shadow: 0px 1px 3px 1px rgba(0, 0, 0, 0.15);\n",
              "      filter: drop-shadow(0px 1px 2px rgba(0, 0, 0, 0.3));\n",
              "      fill: #FFFFFF;\n",
              "    }\n",
              "  </style>\n",
              "\n",
              "      <script>\n",
              "        const buttonEl =\n",
              "          document.querySelector('#df-a94c8120-dc27-43d6-b40a-3c7f00da8542 button.colab-df-convert');\n",
              "        buttonEl.style.display =\n",
              "          google.colab.kernel.accessAllowed ? 'block' : 'none';\n",
              "\n",
              "        async function convertToInteractive(key) {\n",
              "          const element = document.querySelector('#df-a94c8120-dc27-43d6-b40a-3c7f00da8542');\n",
              "          const dataTable =\n",
              "            await google.colab.kernel.invokeFunction('convertToInteractive',\n",
              "                                                     [key], {});\n",
              "          if (!dataTable) return;\n",
              "\n",
              "          const docLinkHtml = 'Like what you see? Visit the ' +\n",
              "            '<a target=\"_blank\" href=https://colab.research.google.com/notebooks/data_table.ipynb>data table notebook</a>'\n",
              "            + ' to learn more about interactive tables.';\n",
              "          element.innerHTML = '';\n",
              "          dataTable['output_type'] = 'display_data';\n",
              "          await google.colab.output.renderOutput(dataTable, element);\n",
              "          const docLink = document.createElement('div');\n",
              "          docLink.innerHTML = docLinkHtml;\n",
              "          element.appendChild(docLink);\n",
              "        }\n",
              "      </script>\n",
              "    </div>\n",
              "  </div>\n",
              "  "
            ]
          },
          "metadata": {},
          "execution_count": 99
        }
      ]
    },
    {
      "cell_type": "markdown",
      "source": [
        "### Creating removed col in the **timestamp-filtered master log**\n",
        "\n",
        "**Note**: timestamp-filtered master log means --->This is not the complete master log that was downloaded from the server, this was filtered by timestamp in above steps"
      ],
      "metadata": {
        "id": "ArCUdouAP0KQ"
      }
    },
    {
      "cell_type": "code",
      "source": [
        "# Creating 'removed' column in the master log dataframe which was filtered above by timestamp\n",
        "# here removed col would be true for all IDs in removed_id and false otherwise.\n",
        "\n",
        "final_df['removed'] = final_df['id'].isin(set(list(removed_id)))"
      ],
      "metadata": {
        "id": "WavWHbEZc0GA"
      },
      "execution_count": 100,
      "outputs": []
    },
    {
      "cell_type": "markdown",
      "source": [
        "### Creating darma_author col in the **timestamp-filtered master log**\n",
        "**Note**: timestamp-filtered master log means --->This is not the complete master log that was downloaded from the server, this was filtered by timestamp in above steps"
      ],
      "metadata": {
        "id": "3p8ZUxWYxIm1"
      }
    },
    {
      "cell_type": "code",
      "source": [
        "def map_author(input):\n",
        "  hash = hashlib.sha256()\n",
        "  hash.update(input.encode('utf-8'))\n",
        "  digested = hash.digest()\n",
        "  output_string = \"\"\n",
        "\n",
        "  for iter in range (0,8):\n",
        "      mod_result = ord(chr(digested[iter])) % 52\n",
        "      if mod_result < 26:\n",
        "          output_string += chr(65 + mod_result)\n",
        "      else:\n",
        "          mod_result -= 26\n",
        "          output_string += chr(97 + mod_result)\n",
        "  return output_string"
      ],
      "metadata": {
        "id": "GXbEyBdQxNJl"
      },
      "execution_count": 101,
      "outputs": []
    },
    {
      "cell_type": "code",
      "source": [
        "# input = \"hello2017good\"\n",
        "# map_author(input)"
      ],
      "metadata": {
        "id": "cdmr_jijE3D_"
      },
      "execution_count": 63,
      "outputs": []
    },
    {
      "cell_type": "code",
      "source": [
        "# Creating a new column darma_author that maps to reddit author\n",
        "final_df['darma_author'] = final_df['author'].apply(lambda x: map_author(x))"
      ],
      "metadata": {
        "id": "whL48ogwE-6R"
      },
      "execution_count": 102,
      "outputs": []
    },
    {
      "cell_type": "code",
      "source": [
        "# To display the dataframe\n",
        "final_df"
      ],
      "metadata": {
        "id": "8v1FSQ_7GqDY",
        "colab": {
          "base_uri": "https://localhost:8080/",
          "height": 609
        },
        "outputId": "36a6ef9d-57eb-45b0-8be8-66c45d5d5843"
      },
      "execution_count": 103,
      "outputs": [
        {
          "output_type": "execute_result",
          "data": {
            "text/plain": [
              "          author                                               body  \\\n",
              "743870   1fbyf3s  La critique de la coupe du monde au Quatar gar...   \n",
              "743871  3yrqm4am  Pareille j'ai horreur de ça. Je sais jamais qu...   \n",
              "743872  8ntz3i73              Je sens que ce post va être très salé   \n",
              "743873     hkp0q  [Here](https://www.google.fr/maps/@48.8642037,...   \n",
              "743874    166xaa  J'ai eu un cas différent mais où la SNCF était...   \n",
              "...          ...                                                ...   \n",
              "820934     aatr5  C'est quoi le rapport ? Sachant que le RU est ...   \n",
              "820935     mur00  Tout à fait. On peut ajouter qu’au sein d’une ...   \n",
              "820936  1g09eo7x  Le mot que tu cherches est \"plaisanter\". Mais ...   \n",
              "820937  41qf9kzu  >Dans la réalité, tant que tu as un salaire, t...   \n",
              "820938  483weeqz                            Une bonne bière forte !   \n",
              "\n",
              "        collapsed  controversiality   created_utc       id    link_id  \\\n",
              "743870        0.0               0.0  1.660522e+09  ikbhu8o  t3_wo2wki   \n",
              "743871        0.0               0.0  1.660522e+09  ikbi1rm  t3_wo1up8   \n",
              "743872        0.0               0.0  1.660522e+09  ikbi4pp  t3_wo6hz2   \n",
              "743873        0.0               0.0  1.660522e+09  ikbi9xi  t3_wofipk   \n",
              "743874        0.0               0.0  1.660522e+09  ikbicrx  t3_wo0sjk   \n",
              "...           ...               ...           ...      ...        ...   \n",
              "820934        0.0               0.0  1.661570e+09  ilygrgq  t3_wyhk3n   \n",
              "820935        0.0               0.0  1.661570e+09  ilygshd  t3_wyrsze   \n",
              "820936        0.0               0.0  1.661570e+09  ilyh5pg  t3_wymygr   \n",
              "820937        0.0               0.0  1.661570e+09  ilyh74f  t3_wyea0q   \n",
              "820938        0.0               0.0  1.661570e+09  ilyhivg  t3_wy7e8x   \n",
              "\n",
              "         parent_id                                          permalink  score  \\\n",
              "743870  t1_ikb5juo  /r/france/comments/wo2wki/la_ville_de_rouen_dé...    1.0   \n",
              "743871  t1_ik8kego  /r/france/comments/wo1up8/quelles_sont_des_règ...    1.0   \n",
              "743872   t3_wo6hz2  /r/france/comments/wo6hz2/traversée_de_la_manc...    1.0   \n",
              "743873   t3_wofipk  /r/france/comments/wofipk/does_anyone_know_whe...    1.0   \n",
              "743874  t1_ik8lx3m  /r/france/comments/wo0sjk/meilleure_moyen_de_c...    1.0   \n",
              "...            ...                                                ...    ...   \n",
              "820934  t1_ilxh37m  /r/france/comments/wyhk3n/le_taux_annuel_dinfl...    1.0   \n",
              "820935  t1_ilygi3d  /r/france/comments/wyrsze/un_fasciste_peut_se_...    1.0   \n",
              "820936  t1_ilye9cf  /r/france/comments/wymygr/comment_je_me_fais_d...    1.0   \n",
              "820937  t1_ilwpgte  /r/france/comments/wyea0q/remettons_les_pendul...    1.0   \n",
              "820938   t3_wy7e8x  /r/france/comments/wy7e8x/mon_meilleur_pote_al...    1.0   \n",
              "\n",
              "        removed darma_author  \n",
              "743870    False     TaFVPVtD  \n",
              "743871    False     WmjpyRyw  \n",
              "743872    False     PqHgbkMP  \n",
              "743873    False     YbdNBtXW  \n",
              "743874    False     kBlsUHtf  \n",
              "...         ...          ...  \n",
              "820934    False     vlDQdile  \n",
              "820935    False     OjBlwVLl  \n",
              "820936    False     GqiVXDrJ  \n",
              "820937    False     udDrDZOx  \n",
              "820938    False     WmRlWOZK  \n",
              "\n",
              "[77069 rows x 12 columns]"
            ],
            "text/html": [
              "\n",
              "  <div id=\"df-d423c6a8-5b2b-42ff-a781-37c84af7158f\">\n",
              "    <div class=\"colab-df-container\">\n",
              "      <div>\n",
              "<style scoped>\n",
              "    .dataframe tbody tr th:only-of-type {\n",
              "        vertical-align: middle;\n",
              "    }\n",
              "\n",
              "    .dataframe tbody tr th {\n",
              "        vertical-align: top;\n",
              "    }\n",
              "\n",
              "    .dataframe thead th {\n",
              "        text-align: right;\n",
              "    }\n",
              "</style>\n",
              "<table border=\"1\" class=\"dataframe\">\n",
              "  <thead>\n",
              "    <tr style=\"text-align: right;\">\n",
              "      <th></th>\n",
              "      <th>author</th>\n",
              "      <th>body</th>\n",
              "      <th>collapsed</th>\n",
              "      <th>controversiality</th>\n",
              "      <th>created_utc</th>\n",
              "      <th>id</th>\n",
              "      <th>link_id</th>\n",
              "      <th>parent_id</th>\n",
              "      <th>permalink</th>\n",
              "      <th>score</th>\n",
              "      <th>removed</th>\n",
              "      <th>darma_author</th>\n",
              "    </tr>\n",
              "  </thead>\n",
              "  <tbody>\n",
              "    <tr>\n",
              "      <th>743870</th>\n",
              "      <td>1fbyf3s</td>\n",
              "      <td>La critique de la coupe du monde au Quatar gar...</td>\n",
              "      <td>0.0</td>\n",
              "      <td>0.0</td>\n",
              "      <td>1.660522e+09</td>\n",
              "      <td>ikbhu8o</td>\n",
              "      <td>t3_wo2wki</td>\n",
              "      <td>t1_ikb5juo</td>\n",
              "      <td>/r/france/comments/wo2wki/la_ville_de_rouen_dé...</td>\n",
              "      <td>1.0</td>\n",
              "      <td>False</td>\n",
              "      <td>TaFVPVtD</td>\n",
              "    </tr>\n",
              "    <tr>\n",
              "      <th>743871</th>\n",
              "      <td>3yrqm4am</td>\n",
              "      <td>Pareille j'ai horreur de ça. Je sais jamais qu...</td>\n",
              "      <td>0.0</td>\n",
              "      <td>0.0</td>\n",
              "      <td>1.660522e+09</td>\n",
              "      <td>ikbi1rm</td>\n",
              "      <td>t3_wo1up8</td>\n",
              "      <td>t1_ik8kego</td>\n",
              "      <td>/r/france/comments/wo1up8/quelles_sont_des_règ...</td>\n",
              "      <td>1.0</td>\n",
              "      <td>False</td>\n",
              "      <td>WmjpyRyw</td>\n",
              "    </tr>\n",
              "    <tr>\n",
              "      <th>743872</th>\n",
              "      <td>8ntz3i73</td>\n",
              "      <td>Je sens que ce post va être très salé</td>\n",
              "      <td>0.0</td>\n",
              "      <td>0.0</td>\n",
              "      <td>1.660522e+09</td>\n",
              "      <td>ikbi4pp</td>\n",
              "      <td>t3_wo6hz2</td>\n",
              "      <td>t3_wo6hz2</td>\n",
              "      <td>/r/france/comments/wo6hz2/traversée_de_la_manc...</td>\n",
              "      <td>1.0</td>\n",
              "      <td>False</td>\n",
              "      <td>PqHgbkMP</td>\n",
              "    </tr>\n",
              "    <tr>\n",
              "      <th>743873</th>\n",
              "      <td>hkp0q</td>\n",
              "      <td>[Here](https://www.google.fr/maps/@48.8642037,...</td>\n",
              "      <td>0.0</td>\n",
              "      <td>0.0</td>\n",
              "      <td>1.660522e+09</td>\n",
              "      <td>ikbi9xi</td>\n",
              "      <td>t3_wofipk</td>\n",
              "      <td>t3_wofipk</td>\n",
              "      <td>/r/france/comments/wofipk/does_anyone_know_whe...</td>\n",
              "      <td>1.0</td>\n",
              "      <td>False</td>\n",
              "      <td>YbdNBtXW</td>\n",
              "    </tr>\n",
              "    <tr>\n",
              "      <th>743874</th>\n",
              "      <td>166xaa</td>\n",
              "      <td>J'ai eu un cas différent mais où la SNCF était...</td>\n",
              "      <td>0.0</td>\n",
              "      <td>0.0</td>\n",
              "      <td>1.660522e+09</td>\n",
              "      <td>ikbicrx</td>\n",
              "      <td>t3_wo0sjk</td>\n",
              "      <td>t1_ik8lx3m</td>\n",
              "      <td>/r/france/comments/wo0sjk/meilleure_moyen_de_c...</td>\n",
              "      <td>1.0</td>\n",
              "      <td>False</td>\n",
              "      <td>kBlsUHtf</td>\n",
              "    </tr>\n",
              "    <tr>\n",
              "      <th>...</th>\n",
              "      <td>...</td>\n",
              "      <td>...</td>\n",
              "      <td>...</td>\n",
              "      <td>...</td>\n",
              "      <td>...</td>\n",
              "      <td>...</td>\n",
              "      <td>...</td>\n",
              "      <td>...</td>\n",
              "      <td>...</td>\n",
              "      <td>...</td>\n",
              "      <td>...</td>\n",
              "      <td>...</td>\n",
              "    </tr>\n",
              "    <tr>\n",
              "      <th>820934</th>\n",
              "      <td>aatr5</td>\n",
              "      <td>C'est quoi le rapport ? Sachant que le RU est ...</td>\n",
              "      <td>0.0</td>\n",
              "      <td>0.0</td>\n",
              "      <td>1.661570e+09</td>\n",
              "      <td>ilygrgq</td>\n",
              "      <td>t3_wyhk3n</td>\n",
              "      <td>t1_ilxh37m</td>\n",
              "      <td>/r/france/comments/wyhk3n/le_taux_annuel_dinfl...</td>\n",
              "      <td>1.0</td>\n",
              "      <td>False</td>\n",
              "      <td>vlDQdile</td>\n",
              "    </tr>\n",
              "    <tr>\n",
              "      <th>820935</th>\n",
              "      <td>mur00</td>\n",
              "      <td>Tout à fait. On peut ajouter qu’au sein d’une ...</td>\n",
              "      <td>0.0</td>\n",
              "      <td>0.0</td>\n",
              "      <td>1.661570e+09</td>\n",
              "      <td>ilygshd</td>\n",
              "      <td>t3_wyrsze</td>\n",
              "      <td>t1_ilygi3d</td>\n",
              "      <td>/r/france/comments/wyrsze/un_fasciste_peut_se_...</td>\n",
              "      <td>1.0</td>\n",
              "      <td>False</td>\n",
              "      <td>OjBlwVLl</td>\n",
              "    </tr>\n",
              "    <tr>\n",
              "      <th>820936</th>\n",
              "      <td>1g09eo7x</td>\n",
              "      <td>Le mot que tu cherches est \"plaisanter\". Mais ...</td>\n",
              "      <td>0.0</td>\n",
              "      <td>0.0</td>\n",
              "      <td>1.661570e+09</td>\n",
              "      <td>ilyh5pg</td>\n",
              "      <td>t3_wymygr</td>\n",
              "      <td>t1_ilye9cf</td>\n",
              "      <td>/r/france/comments/wymygr/comment_je_me_fais_d...</td>\n",
              "      <td>1.0</td>\n",
              "      <td>False</td>\n",
              "      <td>GqiVXDrJ</td>\n",
              "    </tr>\n",
              "    <tr>\n",
              "      <th>820937</th>\n",
              "      <td>41qf9kzu</td>\n",
              "      <td>&gt;Dans la réalité, tant que tu as un salaire, t...</td>\n",
              "      <td>0.0</td>\n",
              "      <td>0.0</td>\n",
              "      <td>1.661570e+09</td>\n",
              "      <td>ilyh74f</td>\n",
              "      <td>t3_wyea0q</td>\n",
              "      <td>t1_ilwpgte</td>\n",
              "      <td>/r/france/comments/wyea0q/remettons_les_pendul...</td>\n",
              "      <td>1.0</td>\n",
              "      <td>False</td>\n",
              "      <td>udDrDZOx</td>\n",
              "    </tr>\n",
              "    <tr>\n",
              "      <th>820938</th>\n",
              "      <td>483weeqz</td>\n",
              "      <td>Une bonne bière forte !</td>\n",
              "      <td>0.0</td>\n",
              "      <td>0.0</td>\n",
              "      <td>1.661570e+09</td>\n",
              "      <td>ilyhivg</td>\n",
              "      <td>t3_wy7e8x</td>\n",
              "      <td>t3_wy7e8x</td>\n",
              "      <td>/r/france/comments/wy7e8x/mon_meilleur_pote_al...</td>\n",
              "      <td>1.0</td>\n",
              "      <td>False</td>\n",
              "      <td>WmRlWOZK</td>\n",
              "    </tr>\n",
              "  </tbody>\n",
              "</table>\n",
              "<p>77069 rows × 12 columns</p>\n",
              "</div>\n",
              "      <button class=\"colab-df-convert\" onclick=\"convertToInteractive('df-d423c6a8-5b2b-42ff-a781-37c84af7158f')\"\n",
              "              title=\"Convert this dataframe to an interactive table.\"\n",
              "              style=\"display:none;\">\n",
              "        \n",
              "  <svg xmlns=\"http://www.w3.org/2000/svg\" height=\"24px\"viewBox=\"0 0 24 24\"\n",
              "       width=\"24px\">\n",
              "    <path d=\"M0 0h24v24H0V0z\" fill=\"none\"/>\n",
              "    <path d=\"M18.56 5.44l.94 2.06.94-2.06 2.06-.94-2.06-.94-.94-2.06-.94 2.06-2.06.94zm-11 1L8.5 8.5l.94-2.06 2.06-.94-2.06-.94L8.5 2.5l-.94 2.06-2.06.94zm10 10l.94 2.06.94-2.06 2.06-.94-2.06-.94-.94-2.06-.94 2.06-2.06.94z\"/><path d=\"M17.41 7.96l-1.37-1.37c-.4-.4-.92-.59-1.43-.59-.52 0-1.04.2-1.43.59L10.3 9.45l-7.72 7.72c-.78.78-.78 2.05 0 2.83L4 21.41c.39.39.9.59 1.41.59.51 0 1.02-.2 1.41-.59l7.78-7.78 2.81-2.81c.8-.78.8-2.07 0-2.86zM5.41 20L4 18.59l7.72-7.72 1.47 1.35L5.41 20z\"/>\n",
              "  </svg>\n",
              "      </button>\n",
              "      \n",
              "  <style>\n",
              "    .colab-df-container {\n",
              "      display:flex;\n",
              "      flex-wrap:wrap;\n",
              "      gap: 12px;\n",
              "    }\n",
              "\n",
              "    .colab-df-convert {\n",
              "      background-color: #E8F0FE;\n",
              "      border: none;\n",
              "      border-radius: 50%;\n",
              "      cursor: pointer;\n",
              "      display: none;\n",
              "      fill: #1967D2;\n",
              "      height: 32px;\n",
              "      padding: 0 0 0 0;\n",
              "      width: 32px;\n",
              "    }\n",
              "\n",
              "    .colab-df-convert:hover {\n",
              "      background-color: #E2EBFA;\n",
              "      box-shadow: 0px 1px 2px rgba(60, 64, 67, 0.3), 0px 1px 3px 1px rgba(60, 64, 67, 0.15);\n",
              "      fill: #174EA6;\n",
              "    }\n",
              "\n",
              "    [theme=dark] .colab-df-convert {\n",
              "      background-color: #3B4455;\n",
              "      fill: #D2E3FC;\n",
              "    }\n",
              "\n",
              "    [theme=dark] .colab-df-convert:hover {\n",
              "      background-color: #434B5C;\n",
              "      box-shadow: 0px 1px 3px 1px rgba(0, 0, 0, 0.15);\n",
              "      filter: drop-shadow(0px 1px 2px rgba(0, 0, 0, 0.3));\n",
              "      fill: #FFFFFF;\n",
              "    }\n",
              "  </style>\n",
              "\n",
              "      <script>\n",
              "        const buttonEl =\n",
              "          document.querySelector('#df-d423c6a8-5b2b-42ff-a781-37c84af7158f button.colab-df-convert');\n",
              "        buttonEl.style.display =\n",
              "          google.colab.kernel.accessAllowed ? 'block' : 'none';\n",
              "\n",
              "        async function convertToInteractive(key) {\n",
              "          const element = document.querySelector('#df-d423c6a8-5b2b-42ff-a781-37c84af7158f');\n",
              "          const dataTable =\n",
              "            await google.colab.kernel.invokeFunction('convertToInteractive',\n",
              "                                                     [key], {});\n",
              "          if (!dataTable) return;\n",
              "\n",
              "          const docLinkHtml = 'Like what you see? Visit the ' +\n",
              "            '<a target=\"_blank\" href=https://colab.research.google.com/notebooks/data_table.ipynb>data table notebook</a>'\n",
              "            + ' to learn more about interactive tables.';\n",
              "          element.innerHTML = '';\n",
              "          dataTable['output_type'] = 'display_data';\n",
              "          await google.colab.output.renderOutput(dataTable, element);\n",
              "          const docLink = document.createElement('div');\n",
              "          docLink.innerHTML = docLinkHtml;\n",
              "          element.appendChild(docLink);\n",
              "        }\n",
              "      </script>\n",
              "    </div>\n",
              "  </div>\n",
              "  "
            ]
          },
          "metadata": {},
          "execution_count": 103
        }
      ]
    },
    {
      "cell_type": "markdown",
      "source": [
        "### Saving **timestamp-filtered master log** with darma_author and removed col\n",
        "**Note**: timestamp-filtered master log means --->This is not the complete master log that was downloaded from the server, this was filtered by timestamp in above steps"
      ],
      "metadata": {
        "id": "oz94IgSlPADV"
      }
    },
    {
      "cell_type": "code",
      "source": [
        "# Define file name\n",
        "# Check the var 'out_file_name_tag' above to confirm the date and subreddit\n",
        "new_master_outfile_name = 'new_com_stream'+out_file_name_tag+'.csv'\n",
        "print(new_master_outfile_name)"
      ],
      "metadata": {
        "id": "S3jcEzPvLmzW",
        "colab": {
          "base_uri": "https://localhost:8080/"
        },
        "outputId": "15eced74-86e4-44a1-ae29-4f2dc6de234c"
      },
      "execution_count": 104,
      "outputs": [
        {
          "output_type": "stream",
          "name": "stdout",
          "text": [
            "new_com_stream_france_15Aug2022_to_28Aug2022.csv\n"
          ]
        }
      ]
    },
    {
      "cell_type": "code",
      "source": [
        "# Saving the final data frame after creating removed col\n",
        "\n",
        "final_df.to_csv('./'+new_master_outfile_name, header=True, index=False, columns=list(final_df.axes[1]))\n",
        "files.download(\"/content/\"+new_master_outfile_name)"
      ],
      "metadata": {
        "id": "-prrRG38OGOD",
        "colab": {
          "base_uri": "https://localhost:8080/",
          "height": 17
        },
        "outputId": "cb1d4399-90c1-4441-b70e-68ca1314dcb6"
      },
      "execution_count": 105,
      "outputs": [
        {
          "output_type": "display_data",
          "data": {
            "text/plain": [
              "<IPython.core.display.Javascript object>"
            ],
            "application/javascript": [
              "\n",
              "    async function download(id, filename, size) {\n",
              "      if (!google.colab.kernel.accessAllowed) {\n",
              "        return;\n",
              "      }\n",
              "      const div = document.createElement('div');\n",
              "      const label = document.createElement('label');\n",
              "      label.textContent = `Downloading \"${filename}\": `;\n",
              "      div.appendChild(label);\n",
              "      const progress = document.createElement('progress');\n",
              "      progress.max = size;\n",
              "      div.appendChild(progress);\n",
              "      document.body.appendChild(div);\n",
              "\n",
              "      const buffers = [];\n",
              "      let downloaded = 0;\n",
              "\n",
              "      const channel = await google.colab.kernel.comms.open(id);\n",
              "      // Send a message to notify the kernel that we're ready.\n",
              "      channel.send({})\n",
              "\n",
              "      for await (const message of channel.messages) {\n",
              "        // Send a message to notify the kernel that we're ready.\n",
              "        channel.send({})\n",
              "        if (message.buffers) {\n",
              "          for (const buffer of message.buffers) {\n",
              "            buffers.push(buffer);\n",
              "            downloaded += buffer.byteLength;\n",
              "            progress.value = downloaded;\n",
              "          }\n",
              "        }\n",
              "      }\n",
              "      const blob = new Blob(buffers, {type: 'application/binary'});\n",
              "      const a = document.createElement('a');\n",
              "      a.href = window.URL.createObjectURL(blob);\n",
              "      a.download = filename;\n",
              "      div.appendChild(a);\n",
              "      a.click();\n",
              "      div.remove();\n",
              "    }\n",
              "  "
            ]
          },
          "metadata": {}
        },
        {
          "output_type": "display_data",
          "data": {
            "text/plain": [
              "<IPython.core.display.Javascript object>"
            ],
            "application/javascript": [
              "download(\"download_bb366f6a-9e1d-4f0d-a93a-f2e958510025\", \"new_com_stream_france_15Aug2022_to_28Aug2022.csv\", 32017767)"
            ]
          },
          "metadata": {}
        }
      ]
    },
    {
      "cell_type": "markdown",
      "source": [
        "### Saving **removed** comments"
      ],
      "metadata": {
        "id": "5StQRuaiOwrx"
      }
    },
    {
      "cell_type": "code",
      "source": [
        "found_removed_com = final_df[final_df.removed==True]\n",
        "print(len(found_removed_com))\n",
        "found_removed_com.head()"
      ],
      "metadata": {
        "id": "mX9MGVCgeS-I",
        "colab": {
          "base_uri": "https://localhost:8080/",
          "height": 670
        },
        "outputId": "aecb9970-6625-4ddc-edb2-39d77a62fa5a"
      },
      "execution_count": 106,
      "outputs": [
        {
          "output_type": "stream",
          "name": "stdout",
          "text": [
            "655\n"
          ]
        },
        {
          "output_type": "execute_result",
          "data": {
            "text/plain": [
              "          author                                               body  \\\n",
              "744034     fh36u                                              Women   \n",
              "745075     w1e70  Un brillant avenir dans notre pays s'ouvre dev...   \n",
              "745142  4ag4zo2i  Je trouve ça immoral. Dans le pays où j’habite...   \n",
              "745168  1a2etvkv  C’est du sarcasme ou t’es vraiment abruti ?\\n\\...   \n",
              "745194  4e1ajea7  \"pas de problème de sécurité\" .... \"Peine de m...   \n",
              "\n",
              "        collapsed  controversiality   created_utc       id    link_id  \\\n",
              "744034        0.0               0.0  1.660535e+09  ikc8yjv  t3_wog2da   \n",
              "745075        0.0               0.0  1.660556e+09  ikd27we  t3_wov5ev   \n",
              "745142        0.0               0.0  1.660556e+09  ikd2x1c  t3_wov5ev   \n",
              "745168        0.0               0.0  1.660557e+09  ikd37qh  t3_wotdwy   \n",
              "745194        0.0               0.0  1.660557e+09  ikd3ia1  t3_wov5ev   \n",
              "\n",
              "         parent_id                                          permalink  score  \\\n",
              "744034   t3_wog2da  /r/france/comments/wog2da/what_things_are_expe...    1.0   \n",
              "745075   t3_wov5ev  /r/france/comments/wov5ev/paris_des_pompiers_a...    1.0   \n",
              "745142   t3_wov5ev  /r/france/comments/wov5ev/paris_des_pompiers_a...    1.0   \n",
              "745168  t1_ikcwhoe  /r/france/comments/wotdwy/inflation_le_coût_de...    1.0   \n",
              "745194  t1_ikd2x1c  /r/france/comments/wov5ev/paris_des_pompiers_a...    1.0   \n",
              "\n",
              "        removed darma_author  \n",
              "744034     True     nOQSkhIC  \n",
              "745075     True     GSmuVoWF  \n",
              "745142     True     bduBGbsc  \n",
              "745168     True     iJFUFmEg  \n",
              "745194     True     YKfCkvdw  "
            ],
            "text/html": [
              "\n",
              "  <div id=\"df-7dd89e6b-a6a8-4a22-bb8a-5b308a2d906c\">\n",
              "    <div class=\"colab-df-container\">\n",
              "      <div>\n",
              "<style scoped>\n",
              "    .dataframe tbody tr th:only-of-type {\n",
              "        vertical-align: middle;\n",
              "    }\n",
              "\n",
              "    .dataframe tbody tr th {\n",
              "        vertical-align: top;\n",
              "    }\n",
              "\n",
              "    .dataframe thead th {\n",
              "        text-align: right;\n",
              "    }\n",
              "</style>\n",
              "<table border=\"1\" class=\"dataframe\">\n",
              "  <thead>\n",
              "    <tr style=\"text-align: right;\">\n",
              "      <th></th>\n",
              "      <th>author</th>\n",
              "      <th>body</th>\n",
              "      <th>collapsed</th>\n",
              "      <th>controversiality</th>\n",
              "      <th>created_utc</th>\n",
              "      <th>id</th>\n",
              "      <th>link_id</th>\n",
              "      <th>parent_id</th>\n",
              "      <th>permalink</th>\n",
              "      <th>score</th>\n",
              "      <th>removed</th>\n",
              "      <th>darma_author</th>\n",
              "    </tr>\n",
              "  </thead>\n",
              "  <tbody>\n",
              "    <tr>\n",
              "      <th>744034</th>\n",
              "      <td>fh36u</td>\n",
              "      <td>Women</td>\n",
              "      <td>0.0</td>\n",
              "      <td>0.0</td>\n",
              "      <td>1.660535e+09</td>\n",
              "      <td>ikc8yjv</td>\n",
              "      <td>t3_wog2da</td>\n",
              "      <td>t3_wog2da</td>\n",
              "      <td>/r/france/comments/wog2da/what_things_are_expe...</td>\n",
              "      <td>1.0</td>\n",
              "      <td>True</td>\n",
              "      <td>nOQSkhIC</td>\n",
              "    </tr>\n",
              "    <tr>\n",
              "      <th>745075</th>\n",
              "      <td>w1e70</td>\n",
              "      <td>Un brillant avenir dans notre pays s'ouvre dev...</td>\n",
              "      <td>0.0</td>\n",
              "      <td>0.0</td>\n",
              "      <td>1.660556e+09</td>\n",
              "      <td>ikd27we</td>\n",
              "      <td>t3_wov5ev</td>\n",
              "      <td>t3_wov5ev</td>\n",
              "      <td>/r/france/comments/wov5ev/paris_des_pompiers_a...</td>\n",
              "      <td>1.0</td>\n",
              "      <td>True</td>\n",
              "      <td>GSmuVoWF</td>\n",
              "    </tr>\n",
              "    <tr>\n",
              "      <th>745142</th>\n",
              "      <td>4ag4zo2i</td>\n",
              "      <td>Je trouve ça immoral. Dans le pays où j’habite...</td>\n",
              "      <td>0.0</td>\n",
              "      <td>0.0</td>\n",
              "      <td>1.660556e+09</td>\n",
              "      <td>ikd2x1c</td>\n",
              "      <td>t3_wov5ev</td>\n",
              "      <td>t3_wov5ev</td>\n",
              "      <td>/r/france/comments/wov5ev/paris_des_pompiers_a...</td>\n",
              "      <td>1.0</td>\n",
              "      <td>True</td>\n",
              "      <td>bduBGbsc</td>\n",
              "    </tr>\n",
              "    <tr>\n",
              "      <th>745168</th>\n",
              "      <td>1a2etvkv</td>\n",
              "      <td>C’est du sarcasme ou t’es vraiment abruti ?\\n\\...</td>\n",
              "      <td>0.0</td>\n",
              "      <td>0.0</td>\n",
              "      <td>1.660557e+09</td>\n",
              "      <td>ikd37qh</td>\n",
              "      <td>t3_wotdwy</td>\n",
              "      <td>t1_ikcwhoe</td>\n",
              "      <td>/r/france/comments/wotdwy/inflation_le_coût_de...</td>\n",
              "      <td>1.0</td>\n",
              "      <td>True</td>\n",
              "      <td>iJFUFmEg</td>\n",
              "    </tr>\n",
              "    <tr>\n",
              "      <th>745194</th>\n",
              "      <td>4e1ajea7</td>\n",
              "      <td>\"pas de problème de sécurité\" .... \"Peine de m...</td>\n",
              "      <td>0.0</td>\n",
              "      <td>0.0</td>\n",
              "      <td>1.660557e+09</td>\n",
              "      <td>ikd3ia1</td>\n",
              "      <td>t3_wov5ev</td>\n",
              "      <td>t1_ikd2x1c</td>\n",
              "      <td>/r/france/comments/wov5ev/paris_des_pompiers_a...</td>\n",
              "      <td>1.0</td>\n",
              "      <td>True</td>\n",
              "      <td>YKfCkvdw</td>\n",
              "    </tr>\n",
              "  </tbody>\n",
              "</table>\n",
              "</div>\n",
              "      <button class=\"colab-df-convert\" onclick=\"convertToInteractive('df-7dd89e6b-a6a8-4a22-bb8a-5b308a2d906c')\"\n",
              "              title=\"Convert this dataframe to an interactive table.\"\n",
              "              style=\"display:none;\">\n",
              "        \n",
              "  <svg xmlns=\"http://www.w3.org/2000/svg\" height=\"24px\"viewBox=\"0 0 24 24\"\n",
              "       width=\"24px\">\n",
              "    <path d=\"M0 0h24v24H0V0z\" fill=\"none\"/>\n",
              "    <path d=\"M18.56 5.44l.94 2.06.94-2.06 2.06-.94-2.06-.94-.94-2.06-.94 2.06-2.06.94zm-11 1L8.5 8.5l.94-2.06 2.06-.94-2.06-.94L8.5 2.5l-.94 2.06-2.06.94zm10 10l.94 2.06.94-2.06 2.06-.94-2.06-.94-.94-2.06-.94 2.06-2.06.94z\"/><path d=\"M17.41 7.96l-1.37-1.37c-.4-.4-.92-.59-1.43-.59-.52 0-1.04.2-1.43.59L10.3 9.45l-7.72 7.72c-.78.78-.78 2.05 0 2.83L4 21.41c.39.39.9.59 1.41.59.51 0 1.02-.2 1.41-.59l7.78-7.78 2.81-2.81c.8-.78.8-2.07 0-2.86zM5.41 20L4 18.59l7.72-7.72 1.47 1.35L5.41 20z\"/>\n",
              "  </svg>\n",
              "      </button>\n",
              "      \n",
              "  <style>\n",
              "    .colab-df-container {\n",
              "      display:flex;\n",
              "      flex-wrap:wrap;\n",
              "      gap: 12px;\n",
              "    }\n",
              "\n",
              "    .colab-df-convert {\n",
              "      background-color: #E8F0FE;\n",
              "      border: none;\n",
              "      border-radius: 50%;\n",
              "      cursor: pointer;\n",
              "      display: none;\n",
              "      fill: #1967D2;\n",
              "      height: 32px;\n",
              "      padding: 0 0 0 0;\n",
              "      width: 32px;\n",
              "    }\n",
              "\n",
              "    .colab-df-convert:hover {\n",
              "      background-color: #E2EBFA;\n",
              "      box-shadow: 0px 1px 2px rgba(60, 64, 67, 0.3), 0px 1px 3px 1px rgba(60, 64, 67, 0.15);\n",
              "      fill: #174EA6;\n",
              "    }\n",
              "\n",
              "    [theme=dark] .colab-df-convert {\n",
              "      background-color: #3B4455;\n",
              "      fill: #D2E3FC;\n",
              "    }\n",
              "\n",
              "    [theme=dark] .colab-df-convert:hover {\n",
              "      background-color: #434B5C;\n",
              "      box-shadow: 0px 1px 3px 1px rgba(0, 0, 0, 0.15);\n",
              "      filter: drop-shadow(0px 1px 2px rgba(0, 0, 0, 0.3));\n",
              "      fill: #FFFFFF;\n",
              "    }\n",
              "  </style>\n",
              "\n",
              "      <script>\n",
              "        const buttonEl =\n",
              "          document.querySelector('#df-7dd89e6b-a6a8-4a22-bb8a-5b308a2d906c button.colab-df-convert');\n",
              "        buttonEl.style.display =\n",
              "          google.colab.kernel.accessAllowed ? 'block' : 'none';\n",
              "\n",
              "        async function convertToInteractive(key) {\n",
              "          const element = document.querySelector('#df-7dd89e6b-a6a8-4a22-bb8a-5b308a2d906c');\n",
              "          const dataTable =\n",
              "            await google.colab.kernel.invokeFunction('convertToInteractive',\n",
              "                                                     [key], {});\n",
              "          if (!dataTable) return;\n",
              "\n",
              "          const docLinkHtml = 'Like what you see? Visit the ' +\n",
              "            '<a target=\"_blank\" href=https://colab.research.google.com/notebooks/data_table.ipynb>data table notebook</a>'\n",
              "            + ' to learn more about interactive tables.';\n",
              "          element.innerHTML = '';\n",
              "          dataTable['output_type'] = 'display_data';\n",
              "          await google.colab.output.renderOutput(dataTable, element);\n",
              "          const docLink = document.createElement('div');\n",
              "          docLink.innerHTML = docLinkHtml;\n",
              "          element.appendChild(docLink);\n",
              "        }\n",
              "      </script>\n",
              "    </div>\n",
              "  </div>\n",
              "  "
            ]
          },
          "metadata": {},
          "execution_count": 106
        }
      ]
    },
    {
      "cell_type": "code",
      "source": [
        "# Define file name\n",
        "# Check the var 'out_file_name_tag' above to confirm the date and subreddit\n",
        "removed_outfile_name = 'removed_com'+out_file_name_tag+'.csv'\n",
        "print(removed_outfile_name)"
      ],
      "metadata": {
        "colab": {
          "base_uri": "https://localhost:8080/"
        },
        "id": "KXZrWRuUOWJm",
        "outputId": "54e42a98-6f81-49d4-e9df-f753ef75b459"
      },
      "execution_count": 107,
      "outputs": [
        {
          "output_type": "stream",
          "name": "stdout",
          "text": [
            "removed_com_france_15Aug2022_to_28Aug2022.csv\n"
          ]
        }
      ]
    },
    {
      "cell_type": "code",
      "source": [
        "# Saving and downloading only removed comments\n",
        "\n",
        "found_removed_com.to_csv('./'+removed_outfile_name, header=True, index=False, columns=list(found_removed_com.axes[1]))\n",
        "files.download(\"/content/\"+removed_outfile_name)"
      ],
      "metadata": {
        "id": "KlhJ50AueS-I",
        "colab": {
          "base_uri": "https://localhost:8080/",
          "height": 17
        },
        "outputId": "cc102173-6d65-4ee9-d77a-c62465f5e9fa"
      },
      "execution_count": 108,
      "outputs": [
        {
          "output_type": "display_data",
          "data": {
            "text/plain": [
              "<IPython.core.display.Javascript object>"
            ],
            "application/javascript": [
              "\n",
              "    async function download(id, filename, size) {\n",
              "      if (!google.colab.kernel.accessAllowed) {\n",
              "        return;\n",
              "      }\n",
              "      const div = document.createElement('div');\n",
              "      const label = document.createElement('label');\n",
              "      label.textContent = `Downloading \"${filename}\": `;\n",
              "      div.appendChild(label);\n",
              "      const progress = document.createElement('progress');\n",
              "      progress.max = size;\n",
              "      div.appendChild(progress);\n",
              "      document.body.appendChild(div);\n",
              "\n",
              "      const buffers = [];\n",
              "      let downloaded = 0;\n",
              "\n",
              "      const channel = await google.colab.kernel.comms.open(id);\n",
              "      // Send a message to notify the kernel that we're ready.\n",
              "      channel.send({})\n",
              "\n",
              "      for await (const message of channel.messages) {\n",
              "        // Send a message to notify the kernel that we're ready.\n",
              "        channel.send({})\n",
              "        if (message.buffers) {\n",
              "          for (const buffer of message.buffers) {\n",
              "            buffers.push(buffer);\n",
              "            downloaded += buffer.byteLength;\n",
              "            progress.value = downloaded;\n",
              "          }\n",
              "        }\n",
              "      }\n",
              "      const blob = new Blob(buffers, {type: 'application/binary'});\n",
              "      const a = document.createElement('a');\n",
              "      a.href = window.URL.createObjectURL(blob);\n",
              "      a.download = filename;\n",
              "      div.appendChild(a);\n",
              "      a.click();\n",
              "      div.remove();\n",
              "    }\n",
              "  "
            ]
          },
          "metadata": {}
        },
        {
          "output_type": "display_data",
          "data": {
            "text/plain": [
              "<IPython.core.display.Javascript object>"
            ],
            "application/javascript": [
              "download(\"download_6ab5b3a5-79b1-4465-8a7a-44974b25e389\", \"removed_com_france_15Aug2022_to_28Aug2022.csv\", 298434)"
            ]
          },
          "metadata": {}
        }
      ]
    },
    {
      "cell_type": "code",
      "source": [],
      "metadata": {
        "id": "0gok9EWkHmUD"
      },
      "execution_count": null,
      "outputs": []
    }
  ]
}