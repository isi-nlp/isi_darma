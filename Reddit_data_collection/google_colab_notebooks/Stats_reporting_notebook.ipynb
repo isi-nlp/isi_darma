{
  "nbformat": 4,
  "nbformat_minor": 0,
  "metadata": {
    "colab": {
      "name": "Stats_reporting_notebook.ipynb",
      "provenance": [],
      "collapsed_sections": []
    },
    "kernelspec": {
      "name": "python3",
      "display_name": "Python 3"
    },
    "language_info": {
      "name": "python"
    }
  },
  "cells": [
    {
      "cell_type": "markdown",
      "source": [
        "## **In this notebook**, \n",
        "\n",
        "1.   Loading csv files\n",
        "3.   Checks data and cleans it\n",
        "4.   Generating stats for csv file"
      ],
      "metadata": {
        "id": "e1XBkJAdVbXB"
      }
    },
    {
      "cell_type": "markdown",
      "source": [
        "### Importing required libraries"
      ],
      "metadata": {
        "id": "zqgTApGSr3er"
      }
    },
    {
      "cell_type": "code",
      "source": [
        "import pandas as pd\n",
        "import numpy as np\n",
        "from datetime import datetime\n",
        "from nltk.tokenize import WhitespaceTokenizer"
      ],
      "metadata": {
        "id": "wtQL2UyKnNZ4"
      },
      "execution_count": 170,
      "outputs": []
    },
    {
      "cell_type": "markdown",
      "source": [
        "## **Loading and processing master log csv file for one subreddit**"
      ],
      "metadata": {
        "id": "CKLmXxUh8SQs"
      }
    },
    {
      "cell_type": "code",
      "source": [
        "com_science_df = pd.read_csv('/content/com_stream_science.csv')\n",
        "com_france_df = pd.read_csv('/content/com_stream_france.csv')\n",
        "com_rance_df = pd.read_csv('/content/com_stream_rance.csv')\n",
        "com_geopolitics_df = pd.read_csv('/content/com_stream_geopolitics.csv')\n",
        "com_europe_df = pd.read_csv('/content/com_stream_europe.csv')\n",
        "com_askeurope_df = pd.read_csv('/content/com_stream_askeurope.csv')"
      ],
      "metadata": {
        "id": "LIKAh2hj9jgs"
      },
      "execution_count": null,
      "outputs": []
    },
    {
      "cell_type": "code",
      "source": [
        "sub_science_df = pd.read_csv('/content/sub_stream_science.csv')\n",
        "sub_france_df = pd.read_csv('/content/sub_stream_france.csv')\n",
        "sub_rance_df = pd.read_csv('/content/sub_stream_rance.csv')\n",
        "sub_geopolitics_df = pd.read_csv('/content/sub_stream_geopolitics.csv')\n",
        "sub_europe_df = pd.read_csv('/content/sub_stream_europe.csv')\n",
        "sub_askeurope_df = pd.read_csv('/content/sub_stream_askeurope.csv')"
      ],
      "metadata": {
        "id": "XN30ChA7sNSP"
      },
      "execution_count": 145,
      "outputs": []
    },
    {
      "cell_type": "markdown",
      "source": [
        "# **Checking data and cleaning the master log data**"
      ],
      "metadata": {
        "id": "QzX2PjF7OBG8"
      }
    },
    {
      "cell_type": "markdown",
      "source": [
        "#### For checking and debugging dataframe data "
      ],
      "metadata": {
        "id": "R7sQXCFOtJOp"
      }
    },
    {
      "cell_type": "code",
      "source": [
        "com_science_df[com_science_df.score.isna()] #for com\n",
        "# if output is empty, we are good\n",
        "# this is the case when the csv file is not appended properly, columns are mismatched."
      ],
      "metadata": {
        "id": "Z6y5-vjP-muL"
      },
      "execution_count": null,
      "outputs": []
    },
    {
      "cell_type": "code",
      "source": [
        "sub_science_df[sub_science_df.upvote_ratio.isna()] # for posts\n",
        "# if output is empty, we are good\n",
        "# this is the case when the csv file is not appended properly, columns are mismatched."
      ],
      "metadata": {
        "id": "ig7j330RtG88"
      },
      "execution_count": null,
      "outputs": []
    },
    {
      "cell_type": "code",
      "source": [
        "# To update the dataframe after removing rows which are of no use.\n",
        "# Use the above cell to check the rows in above cell, to see if they should be removed or not.\n",
        "# score andupvote_ratio would be empty if the csv files are not being appended properly\n",
        "\n",
        "def cleaning(df, df_type):\n",
        "  # print('before: ', len(df))\n",
        "  if df_type == 'com':\n",
        "    df = df[df.body.isna()==False]\n",
        "    df = df[df.score.isna()==False]\n",
        "  else:\n",
        "    df = df[df.upvote_ratio.isna()==False]\n",
        "  \n",
        "  df = df[df.author.isna()==False]\n",
        "  df = df[df.id.isna()==False]\n",
        "  df = df[df.created_utc.isna()==False]\n",
        "  df.created_utc = df.created_utc.apply(lambda x: float(x))\n",
        "\n",
        "  # print('after: ', len(df))\n",
        "  return df"
      ],
      "metadata": {
        "id": "S6N5yqjvkykq"
      },
      "execution_count": 159,
      "outputs": []
    },
    {
      "cell_type": "markdown",
      "source": [
        "#### Cleaning **comment** dataframes"
      ],
      "metadata": {
        "id": "w9ME0vScm-yP"
      }
    },
    {
      "cell_type": "code",
      "source": [
        "com_science_df = cleaning(com_science_df, 'com')\n",
        "com_france_df = cleaning(com_france_df, 'com')\n",
        "com_rance_df = cleaning(com_rance_df, 'com')\n",
        "com_geopolitics_df = cleaning(com_geopolitics_df, 'com')\n",
        "com_askeurope_df = cleaning(com_askeurope_df, 'com')\n",
        "com_europe_df = cleaning(com_europe_df, 'com')"
      ],
      "metadata": {
        "id": "oo6feBqimGkJ"
      },
      "execution_count": null,
      "outputs": []
    },
    {
      "cell_type": "markdown",
      "source": [
        "#### Cleaning **submissions/posts** dataframes"
      ],
      "metadata": {
        "id": "GCiNb8uEqlhg"
      }
    },
    {
      "cell_type": "code",
      "source": [
        "sub_science_df = cleaning(sub_science_df, 'sub')\n",
        "sub_france_df = cleaning(sub_france_df, 'sub')\n",
        "sub_rance_df = cleaning(sub_rance_df, 'sub')\n",
        "sub_geopolitics_df = cleaning(sub_geopolitics_df, 'sub')\n",
        "sub_askeurope_df = cleaning(sub_askeurope_df, 'sub')\n",
        "sub_europe_df = cleaning(sub_europe_df, 'sub')"
      ],
      "metadata": {
        "id": "rtC4sv9tqrjz"
      },
      "execution_count": null,
      "outputs": []
    },
    {
      "cell_type": "markdown",
      "source": [
        "#**Word Count and stats**"
      ],
      "metadata": {
        "id": "lBKbQaGDT0Nd"
      }
    },
    {
      "cell_type": "code",
      "source": [
        "def word_count(df, df_type):\n",
        "  tk = WhitespaceTokenizer()\n",
        "  if df_type == 'com':\n",
        "    df['word_count'] = df.body.apply(lambda x: len(tk.tokenize(str(x))))\n",
        "  else:\n",
        "    # Concatenating selftext and title for post\n",
        "    df['content'] = np.where(df['selftext'].isnull(), df['title'], df['title']+df['selftext'])\n",
        "    df['word_count'] = df.content.apply(lambda x: len(tk.tokenize(x)))\n",
        "    \n",
        "  return str(df.word_count.sum())"
      ],
      "metadata": {
        "id": "lxa64xeq9Iov"
      },
      "execution_count": 168,
      "outputs": []
    },
    {
      "cell_type": "markdown",
      "source": [
        "#### Stats for **comments** dataframes"
      ],
      "metadata": {
        "id": "VUmtFf8Bq8dB"
      }
    },
    {
      "cell_type": "code",
      "source": [
        "print('Data Timestamp: '+str(datetime.fromtimestamp(com_france_df.created_utc.min()).date().strftime('%b-%d-%Y'))+' to '+str(datetime.fromtimestamp(com_france_df.created_utc.max()).date().strftime('%b-%d-%Y')))\n",
        "print(\"\\nScience ------- Number of comments: \"+str(len(com_science_df))+\" ------- Word count: \"+word_count(com_science_df, 'com'))\n",
        "print(\"\\nFrance ------- Number of comments: \"+str(len(com_france_df))+\" ------- Word count: \"+word_count(com_france_df, 'com'))\n",
        "print(\"\\nRance ------- Number of comments: \"+str(len(com_rance_df))+\" ------- Word count: \"+word_count(com_rance_df, 'com'))\n",
        "print(\"\\nEurope ------- Number of comments: \"+str(len(com_europe_df))+\" ------- Word count: \"+word_count(com_europe_df, 'com'))\n",
        "print(\"\\nAskEurope ------- Number of comments: \"+str(len(com_askeurope_df))+\" ------- Word count: \"+word_count(com_askeurope_df, 'com'))\n",
        "print(\"\\nGeopolitics ------- Number of comments: \"+str(len(com_geopolitics_df))+\" ------- Word count: \"+word_count(com_geopolitics_df, 'com'))\n"
      ],
      "metadata": {
        "colab": {
          "base_uri": "https://localhost:8080/"
        },
        "id": "s8mVxPgiTLh8",
        "outputId": "e035c363-bc96-4e47-8b72-51d8f9502df3"
      },
      "execution_count": 178,
      "outputs": [
        {
          "output_type": "stream",
          "name": "stdout",
          "text": [
            "Data Timestamp: May-09-2022 to Aug-27-2022\n",
            "\n",
            "Science ------- Number of comments: 523307 ------- Word count: 19979361\n",
            "\n",
            "France ------- Number of comments: 706583 ------- Word count: 30022514\n",
            "\n",
            "Rance ------- Number of comments: 112319 ------- Word count: 1999828\n",
            "\n",
            "Europe ------- Number of comments: 869751 ------- Word count: 31977386\n",
            "\n",
            "AskEurope ------- Number of comments: 72994 ------- Word count: 3512914\n",
            "\n",
            "Geopolitics ------- Number of comments: 20787 ------- Word count: 1492885\n"
          ]
        }
      ]
    },
    {
      "cell_type": "markdown",
      "source": [
        "#### Stats for **submission/posts** dataframes"
      ],
      "metadata": {
        "id": "No19BbeCrHJs"
      }
    },
    {
      "cell_type": "code",
      "source": [
        "print('Data Timestamp: '+str(datetime.fromtimestamp(sub_france_df.created_utc.min()).date().strftime('%b-%d-%Y'))+' to '+str(datetime.fromtimestamp(sub_france_df.created_utc.max()).date().strftime('%b-%d-%Y')))\n",
        "print(\"\\nScience ------- Number of posts: \"+str(len(sub_science_df))+\" ------- Word count: \"+word_count(sub_science_df, 'sub'))\n",
        "print(\"\\nFrance ------- Number of posts: \"+str(len(sub_france_df))+\" ------- Word count: \"+word_count(sub_france_df, 'sub'))\n",
        "print(\"\\nRance ------- Number of posts: \"+str(len(sub_rance_df))+\" ------- Word count: \"+word_count(sub_rance_df, 'sub'))\n",
        "print(\"\\nEurope ------- Number of posts: \"+str(len(sub_europe_df))+\" ------- Word count: \"+word_count(sub_europe_df, 'sub'))\n",
        "print(\"\\nAskEurope ------- Number of posts: \"+str(len(sub_askeurope_df))+\" ------- Word count: \"+word_count(sub_askeurope_df, 'sub'))\n",
        "print(\"\\nGeopolitics ------- Number of posts: \"+str(len(sub_geopolitics_df))+\"------- Word count: \"+word_count(sub_geopolitics_df, 'sub'))\n"
      ],
      "metadata": {
        "colab": {
          "base_uri": "https://localhost:8080/"
        },
        "id": "5gvg3TDCkevv",
        "outputId": "f9aab00e-8449-40ea-fecb-ab791807e1ff"
      },
      "execution_count": 179,
      "outputs": [
        {
          "output_type": "stream",
          "name": "stdout",
          "text": [
            "Data Timestamp: May-09-2022 to Aug-27-2022\n",
            "\n",
            "Science ------- Number of posts: 5890 ------- Word count: 128157\n",
            "\n",
            "France ------- Number of posts: 15862 ------- Word count: 1053922\n",
            "\n",
            "Rance ------- Number of posts: 5196 ------- Word count: 59373\n",
            "\n",
            "Europe ------- Number of posts: 11676 ------- Word count: 158378\n",
            "\n",
            "AskEurope ------- Number of posts: 984 ------- Word count: 91475\n"
          ]
        }
      ]
    },
    {
      "cell_type": "code",
      "source": [],
      "metadata": {
        "id": "xP8iJeGavwn6"
      },
      "execution_count": null,
      "outputs": []
    }
  ]
}
