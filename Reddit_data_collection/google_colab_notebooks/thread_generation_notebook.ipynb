{
  "cells": [
    {
      "cell_type": "markdown",
      "source": [
        "## **In this notebook**, \n",
        "\n",
        "1.   Generating threads with full details\n",
        "2.   Sort the generated thread from root to leaf\n",
        "2.   Filtering out threads with no repeated of toxic author\n",
        "3.   Filtering out threads with gaps ( body == [removed] and Not found )\n",
        "4.   Filtering out tthreads by LangID\n",
        "6.   Generating threads with author, text, and permalink (for verification)\n",
        "5. Cleaning and Formating final json file according to offline protocol\n",
        "\n",
        "**Note:** I have broken down several actions in section, so that we can an action if the resultant threads are very less.\n",
        "Ex: while removing gaps in thread, a lot of threads get discarded, so that is why I am saving the threads at all points. Similarly for langID filter.\n",
        "\n",
        "**Note**: Make sure that the master log and removed comments are from the same time stamp\n",
        "\n"
      ],
      "metadata": {
        "id": "FCMtW54psunG"
      },
      "id": "FCMtW54psunG"
    },
    {
      "cell_type": "code",
      "source": [
        "import json\n",
        "import hashlib\n",
        "import pandas as pd\n",
        "from datetime import datetime\n",
        "from google.colab import files"
      ],
      "metadata": {
        "id": "x547LWZbtljV"
      },
      "id": "x547LWZbtljV",
      "execution_count": 2,
      "outputs": []
    },
    {
      "cell_type": "markdown",
      "metadata": {
        "id": "528eNb_hauMO"
      },
      "source": [
        "# **Loading and processing master log for comments and posts and removed comments**"
      ],
      "id": "528eNb_hauMO"
    },
    {
      "cell_type": "markdown",
      "source": [
        "After running the [**Removed_com_collection_notebook**](https://colab.research.google.com/drive/1zialczWr7qdN9hfEatYIJpdk5kquCkWb?usp=sharing)\n",
        "\n",
        "You would get ***new_com_stream_{subreddit}_{timestamp}.csv file*** files which need to be uploaded here.\n",
        "\n",
        "For post stream you can upload the csv file directly downloaded from the server, as posts csv are small in size "
      ],
      "metadata": {
        "id": "2uoZ5VpQTmWH"
      },
      "id": "2uoZ5VpQTmWH"
    },
    {
      "cell_type": "code",
      "execution_count": 3,
      "metadata": {
        "id": "nKamZ60W0MxH"
      },
      "outputs": [],
      "source": [
        "# from the removed_com_collection_notebook, the dataframe that is saved and downloaded after updating the removed and darma_author column\n",
        "master_log = pd.read_csv('/content/new_com_stream_france_15Aug2022_to_28Aug2022.csv')\n",
        "\n",
        "# downloaded from the server\n",
        "post_stream = pd.read_csv('/content/sub_stream_france.csv')\n",
        "\n",
        "# final_removed_df = pd.read_csv('/content/removed_com_science_20july_to_15aug.csv')"
      ],
      "id": "nKamZ60W0MxH"
    },
    {
      "cell_type": "markdown",
      "source": [
        "### To check the schema of hte above dataframes\n",
        "\n"
      ],
      "metadata": {
        "id": "R6JOiPr1U7v9"
      },
      "id": "R6JOiPr1U7v9"
    },
    {
      "cell_type": "code",
      "execution_count": 4,
      "metadata": {
        "id": "NhPrg627D1be",
        "colab": {
          "base_uri": "https://localhost:8080/"
        },
        "outputId": "067f165d-bb21-4e13-959d-eb473eccbef9"
      },
      "outputs": [
        {
          "output_type": "stream",
          "name": "stdout",
          "text": [
            "<class 'pandas.core.frame.DataFrame'>\n",
            "RangeIndex: 15862 entries, 0 to 15861\n",
            "Data columns (total 9 columns):\n",
            " #   Column        Non-Null Count  Dtype  \n",
            "---  ------        --------------  -----  \n",
            " 0   author        15862 non-null  object \n",
            " 1   created_utc   15862 non-null  float64\n",
            " 2   id            15862 non-null  object \n",
            " 3   num_comments  15862 non-null  float64\n",
            " 4   permalink     15862 non-null  object \n",
            " 5   score         15862 non-null  float64\n",
            " 6   selftext      6515 non-null   object \n",
            " 7   title         15862 non-null  object \n",
            " 8   upvote_ratio  15862 non-null  float64\n",
            "dtypes: float64(4), object(5)\n",
            "memory usage: 1.1+ MB\n"
          ]
        }
      ],
      "source": [
        "post_stream.info()"
      ],
      "id": "NhPrg627D1be"
    },
    {
      "cell_type": "code",
      "execution_count": 5,
      "metadata": {
        "id": "d6bj5xY1NoUl",
        "colab": {
          "base_uri": "https://localhost:8080/"
        },
        "outputId": "33b09b44-0b86-4089-a293-156b493c0db5"
      },
      "outputs": [
        {
          "output_type": "stream",
          "name": "stdout",
          "text": [
            "<class 'pandas.core.frame.DataFrame'>\n",
            "RangeIndex: 77069 entries, 0 to 77068\n",
            "Data columns (total 12 columns):\n",
            " #   Column            Non-Null Count  Dtype  \n",
            "---  ------            --------------  -----  \n",
            " 0   author            77069 non-null  object \n",
            " 1   body              77069 non-null  object \n",
            " 2   collapsed         77069 non-null  float64\n",
            " 3   controversiality  77069 non-null  float64\n",
            " 4   created_utc       77069 non-null  float64\n",
            " 5   id                77069 non-null  object \n",
            " 6   link_id           77069 non-null  object \n",
            " 7   parent_id         77069 non-null  object \n",
            " 8   permalink         77069 non-null  object \n",
            " 9   score             77069 non-null  float64\n",
            " 10  removed           77069 non-null  bool   \n",
            " 11  darma_author      77069 non-null  object \n",
            "dtypes: bool(1), float64(4), object(7)\n",
            "memory usage: 6.5+ MB\n"
          ]
        }
      ],
      "source": [
        "master_log.info()"
      ],
      "id": "d6bj5xY1NoUl"
    },
    {
      "cell_type": "markdown",
      "source": [
        "### **Check in above step, using info()**\n",
        "\n",
        "For **comment** log,\n",
        "\n",
        "> If the comment master log is loaded from **new_com_stream**... (i.e. from the **removed_com_collection_notebook**) it would have the **darma_author** and **removed** col, then you would **not require** to run the next few steps of **author mapping** and **removed column**.\n",
        "\n",
        "> Else, If in some case you have the **removed_com** file for a particular **timestamp** but do not have **new_com_stream**, then you can upload the **comment master log csv file** (com_stream) directly downloaded from the server and in that case, the next steps--**author mapping step** and **removed column** are **required**.\n",
        "(overhead is that it would be large file, hence many comparison to do while generating threads.)\n",
        "\n",
        "Although this case should not arrive if you have run the **removed_com_collection_notebook**\n",
        "\n",
        "\n",
        "---\n",
        "\n",
        "\n",
        "For **post** log, author mapping step is **required**."
      ],
      "metadata": {
        "id": "TNtWED2YXCji"
      },
      "id": "TNtWED2YXCji"
    },
    {
      "cell_type": "markdown",
      "source": [
        "### **Author mapping Step** if **darma_author** and **removed** col are not present in the comment stream"
      ],
      "metadata": {
        "id": "hWcpjxPN2QcW"
      },
      "id": "hWcpjxPN2QcW"
    },
    {
      "cell_type": "code",
      "execution_count": 6,
      "metadata": {
        "id": "GXbEyBdQxNJl"
      },
      "outputs": [],
      "source": [
        "def map_author(input):\n",
        "  hash = hashlib.sha256()\n",
        "  hash.update(input.encode('utf-8'))\n",
        "  digested = hash.digest()\n",
        "  output_string = \"\"\n",
        "\n",
        "  for iter in range (0,8):\n",
        "      mod_result = ord(chr(digested[iter])) % 52\n",
        "      if mod_result < 26:\n",
        "          output_string += chr(65 + mod_result)\n",
        "      else:\n",
        "          mod_result -= 26\n",
        "          output_string += chr(97 + mod_result)\n",
        "  return output_string"
      ],
      "id": "GXbEyBdQxNJl"
    },
    {
      "cell_type": "markdown",
      "source": [
        "Auhtor mapping for post stream is **required**"
      ],
      "metadata": {
        "id": "pg-jHURJ2Yl_"
      },
      "id": "pg-jHURJ2Yl_"
    },
    {
      "cell_type": "code",
      "execution_count": 7,
      "metadata": {
        "id": "whL48ogwE-6R"
      },
      "outputs": [],
      "source": [
        "post_stream['darma_author'] = post_stream['author'].apply(lambda x: map_author(x))"
      ],
      "id": "whL48ogwE-6R"
    },
    {
      "cell_type": "markdown",
      "source": [
        "Creating darma_author column if the **comment** master log is directly downloaded from the server"
      ],
      "metadata": {
        "id": "aXxKdEXb2eiK"
      },
      "id": "aXxKdEXb2eiK"
    },
    {
      "cell_type": "code",
      "execution_count": null,
      "metadata": {
        "id": "BRJXzVEkNxul"
      },
      "outputs": [],
      "source": [
        "# master_log['darma_author'] = master_log['author'].apply(lambda x: map_author(x))"
      ],
      "id": "BRJXzVEkNxul"
    },
    {
      "cell_type": "markdown",
      "source": [
        "### **Removed column step** ONLY if the **comment** master log is directly downloaded from the server and you have the removec_com csv file"
      ],
      "metadata": {
        "id": "D1kxeTvD2nL2"
      },
      "id": "D1kxeTvD2nL2"
    },
    {
      "cell_type": "code",
      "execution_count": null,
      "metadata": {
        "id": "BkLHi-hLNxiP"
      },
      "outputs": [],
      "source": [
        "# master_log['removed'] = master_log['id'].isin(set(list(final_removed_df['id'])))"
      ],
      "id": "BkLHi-hLNxiP"
    },
    {
      "cell_type": "markdown",
      "source": [
        "### **Finalizing Removed com dataframe from master_log so that it has darma_author and removed col**"
      ],
      "metadata": {
        "id": "ZSZLMnG65EbY"
      },
      "id": "ZSZLMnG65EbY"
    },
    {
      "cell_type": "code",
      "execution_count": 8,
      "metadata": {
        "id": "DmPNRtFPSPNr",
        "colab": {
          "base_uri": "https://localhost:8080/"
        },
        "outputId": "7a2c99ca-fefd-4172-f2c4-4748e58b6f62"
      },
      "outputs": [
        {
          "output_type": "execute_result",
          "data": {
            "text/plain": [
              "655"
            ]
          },
          "metadata": {},
          "execution_count": 8
        }
      ],
      "source": [
        "removed_com = master_log[master_log['removed']==True]\n",
        "len(removed_com)"
      ],
      "id": "DmPNRtFPSPNr"
    },
    {
      "cell_type": "markdown",
      "metadata": {
        "id": "5ndWwx_vQpvt"
      },
      "source": [
        "# **Generate threads**\n",
        "This section takes a lot of time to generate"
      ],
      "id": "5ndWwx_vQpvt"
    },
    {
      "cell_type": "markdown",
      "metadata": {
        "id": "noW-TRbOapZ8"
      },
      "source": [
        "### Connecting to Reddit API"
      ],
      "id": "noW-TRbOapZ8"
    },
    {
      "cell_type": "code",
      "execution_count": 9,
      "metadata": {
        "id": "BCa5U7HPWbNh",
        "colab": {
          "base_uri": "https://localhost:8080/"
        },
        "outputId": "1020cae6-d33d-4a9c-9665-ddb6482df00b"
      },
      "outputs": [
        {
          "output_type": "stream",
          "name": "stdout",
          "text": [
            "Looking in indexes: https://pypi.org/simple, https://us-python.pkg.dev/colab-wheels/public/simple/\n",
            "Requirement already satisfied: praw in /usr/local/lib/python3.7/dist-packages (7.6.0)\n",
            "Requirement already satisfied: prawcore<3,>=2.1 in /usr/local/lib/python3.7/dist-packages (from praw) (2.3.0)\n",
            "Requirement already satisfied: update-checker>=0.18 in /usr/local/lib/python3.7/dist-packages (from praw) (0.18.0)\n",
            "Requirement already satisfied: websocket-client>=0.54.0 in /usr/local/lib/python3.7/dist-packages (from praw) (1.4.0)\n",
            "Requirement already satisfied: requests<3.0,>=2.6.0 in /usr/local/lib/python3.7/dist-packages (from prawcore<3,>=2.1->praw) (2.23.0)\n",
            "Requirement already satisfied: urllib3!=1.25.0,!=1.25.1,<1.26,>=1.21.1 in /usr/local/lib/python3.7/dist-packages (from requests<3.0,>=2.6.0->prawcore<3,>=2.1->praw) (1.24.3)\n",
            "Requirement already satisfied: certifi>=2017.4.17 in /usr/local/lib/python3.7/dist-packages (from requests<3.0,>=2.6.0->prawcore<3,>=2.1->praw) (2022.6.15)\n",
            "Requirement already satisfied: idna<3,>=2.5 in /usr/local/lib/python3.7/dist-packages (from requests<3.0,>=2.6.0->prawcore<3,>=2.1->praw) (2.10)\n",
            "Requirement already satisfied: chardet<4,>=3.0.2 in /usr/local/lib/python3.7/dist-packages (from requests<3.0,>=2.6.0->prawcore<3,>=2.1->praw) (3.0.4)\n"
          ]
        }
      ],
      "source": [
        "pip install praw"
      ],
      "id": "BCa5U7HPWbNh"
    },
    {
      "cell_type": "code",
      "execution_count": 10,
      "metadata": {
        "id": "damaged-classics"
      },
      "outputs": [],
      "source": [
        "credentials = 'client_secret.json'\n",
        "\n",
        "with open(credentials) as f:\n",
        "    creds = json.load(f)"
      ],
      "id": "damaged-classics"
    },
    {
      "cell_type": "code",
      "execution_count": 11,
      "metadata": {
        "id": "broad-saudi"
      },
      "outputs": [],
      "source": [
        "import praw\n",
        "reddit = praw.Reddit(client_id = creds['client_id'],\n",
        "                    client_secret = creds['client_secret'],\n",
        "                    user_agent = creds['user_agent'],\n",
        "                    redirect_uri = creds['redirect_uri'],\n",
        "                    refresh_token = creds['refresh_token'],\n",
        "                     check_for_async = False)"
      ],
      "id": "broad-saudi"
    },
    {
      "cell_type": "markdown",
      "source": [
        "### Functions for finding parent by comment ID"
      ],
      "metadata": {
        "id": "Zy7F1LvtBVFD"
      },
      "id": "Zy7F1LvtBVFD"
    },
    {
      "cell_type": "code",
      "execution_count": 12,
      "metadata": {
        "id": "SsnE8B2yF09o"
      },
      "outputs": [],
      "source": [
        "# function which find parent post by id\n",
        "# first looks in the post stream\n",
        "# if not found, then fetchs it from reddit directly and appends in the post stream\n",
        "\n",
        "def find_parent_post(id):\n",
        "  global post_stream\n",
        "\n",
        "  if id in set(list(post_stream['id'])):\n",
        "    par_post = post_stream[post_stream['id']==id]\n",
        "    # print(\">>>post found in master\")\n",
        "    return par_post.to_dict('records')[0]\n",
        "\n",
        "  else:\n",
        "    parent_post = reddit.submission(id = str(id))\n",
        "\n",
        "    sub_dict = {}\n",
        "    sub_dict['id'] = parent_post.id\n",
        "    sub_dict['title'] = parent_post.title\n",
        "    sub_dict['selftext'] = parent_post.selftext\n",
        "    sub_dict['score'] = parent_post.score\n",
        "    sub_dict['upvote_ratio'] = parent_post.upvote_ratio\n",
        "    sub_dict['num_comments'] = parent_post.num_comments\n",
        "    sub_dict['permalink'] = parent_post.permalink\n",
        "    sub_dict['created_utc'] = parent_post.created_utc\n",
        "\n",
        "    try:\n",
        "      if parent_post.author != None:\n",
        "        sub_dict['author'] = parent_post.author.id\n",
        "        sub_dict['darma_author'] = map_author(parent_post.author.id)\n",
        "      else:\n",
        "        sub_dict['author'] = 'Not found'\n",
        "        sub_dict['darma_author'] = 'Not found'\n",
        "    except Exception as e:\n",
        "      print(\"Post Author ERROR: author is \", parent_post.author, \"Exception: \", e)\n",
        "      sub_dict['author'] = 'Not found'\n",
        "      sub_dict['darma_author'] = 'Not found'\n",
        "\n",
        "    df_dictionary = pd.DataFrame([sub_dict])\n",
        "    post_stream = pd.concat([post_stream, df_dictionary], ignore_index=True)\n",
        "\n",
        "    print(\">>>post Not found in master \", id)\n",
        "    return sub_dict"
      ],
      "id": "SsnE8B2yF09o"
    },
    {
      "cell_type": "code",
      "execution_count": 13,
      "metadata": {
        "id": "UJTzZTBcjUtv"
      },
      "outputs": [],
      "source": [
        "# function which find parent comment by id\n",
        "# first looks in the comment stream\n",
        "# if not found, then fetchs it from reddit directly and appends in the comment stream\n",
        "\n",
        "def find_parent_com(par_id):\n",
        "  global master_log\n",
        "\n",
        "  if par_id in set(list(master_log['id'])):\n",
        "    par_com = master_log[master_log['id']==par_id]\n",
        "    c_dict = par_com.to_dict('records')[0]\n",
        "    c_dict['removed'] = 0 if c_dict['removed'] == False else 1\n",
        "    return c_dict\n",
        "    \n",
        "  else:\n",
        "    p = reddit.comment(id = par_id)\n",
        "    temp_dict = {}\n",
        "    temp_dict['id'] = p.id\n",
        "    temp_dict['parent_id'] = p.parent_id\n",
        "    temp_dict['link_id'] = p.link_id\n",
        "    temp_dict['body'] = p.body\n",
        "    temp_dict['collapsed'] = 0 if p.collapsed == False else 1\n",
        "    temp_dict['score'] = p.score\n",
        "    temp_dict['controversiality'] = p.controversiality\n",
        "    temp_dict['permalink'] = p.permalink\n",
        "    temp_dict['created_utc'] = p.created_utc\n",
        "\n",
        "    if p.body == '[removed]':\n",
        "      temp_dict['body'] =  '[removed] and NOT FOUND'\n",
        "      temp_dict['removed'] = True\n",
        "    else:\n",
        "      temp_dict['removed'] = False\n",
        "\n",
        "    try: \n",
        "      if p.author != None:\n",
        "        temp_dict['author'] = p.author.id\n",
        "        temp_dict ['darma_author'] = map_author(p.author.id)\n",
        "      else:\n",
        "        temp_dict ['author'] = 'Not found'\n",
        "        temp_dict['darma_author'] = 'Not found'\n",
        "    except Exception as e:\n",
        "      temp_dict ['author'] = 'Not found'\n",
        "      temp_dict['darma_author'] = 'Not found'\n",
        "      print(\"Comment Author ERROR: author is \", p.author, \"Exception: \", e)\n",
        "\n",
        "    df_com_dict = pd.DataFrame([temp_dict])\n",
        "    master_log = pd.concat([master_log, df_com_dict], ignore_index=True)\n",
        "\n",
        "    temp_dict['removed'] = 0 if temp_dict['removed'] == False else 1\n",
        "    print(\">>>comment Not found in master \", par_id)\n",
        "    return temp_dict"
      ],
      "id": "UJTzZTBcjUtv"
    },
    {
      "cell_type": "code",
      "execution_count": 14,
      "metadata": {
        "id": "_rSUnS5Xn6lc"
      },
      "outputs": [],
      "source": [
        "# Generates and returns complete thread starting from the leaf (removed comment) till the root (post)\n",
        "# using the above 2 function\n",
        "\n",
        "def find_parent(com, level, parent_dict):\n",
        "  result = parent_dict\n",
        "\n",
        "  if com['parent_id'] == com['link_id']:\n",
        "    try:\n",
        "      sub_dict = find_parent_post(com['parent_id'][3:])\n",
        "      result[level] = [\"Level \"+str(level), \"Parent Post\", sub_dict]\n",
        "      return result\n",
        "    except Exception as e:\n",
        "      print(\"Post ERROR: \", e)\n",
        "      print(\"Comment number:\" + com['id'])\n",
        "  else:\n",
        "    try:\n",
        "      com_dict = find_parent_com(com['parent_id'][3:])\n",
        "      result[level] = [\"Level \"+str(level), \"Parent comment\", com_dict]\n",
        "      level = level +1\n",
        "\n",
        "      find_parent(com_dict, level, result)\n",
        "    except Exception as e:\n",
        "      print(\"Comment ERROR: \", e)\n",
        "      print(\"Comment number:\" + com['id'])\n",
        "  return result"
      ],
      "id": "_rSUnS5Xn6lc"
    },
    {
      "cell_type": "markdown",
      "source": [
        "### Generating threads using the above function and Saving in JSON format\n",
        "**Note:** This step takes a lot of time so maeke sure you run. Check the output file name in the cell before running."
      ],
      "metadata": {
        "id": "-bbozPrXBklz"
      },
      "id": "-bbozPrXBklz"
    },
    {
      "cell_type": "markdown",
      "source": [
        "Defining **timestamp** and **output file name tag** used for all files that would be downloaded during this process.\n",
        "\n",
        "**DO NOT** forget to set the subreddit correctly"
      ],
      "metadata": {
        "id": "PbPNBFgNeaAh"
      },
      "id": "PbPNBFgNeaAh"
    },
    {
      "cell_type": "code",
      "source": [
        "# IMP NOTE see if the subreddit is set correctly.\n",
        "subreddit = '_france_'\n",
        "\n",
        "# example for 15th August 2022\n",
        "date1 = datetime(2022,8,15)\n",
        "date2 = datetime.today() #Because com_stream csv loaded above was downloaded from server today\n",
        "\n",
        "dates_str = str(date1.date().strftime('%d%b%Y'))+'_to_'+str(date2.date().strftime('%d%b%Y'))\n",
        "\n",
        "out_file_name_tag = subreddit+dates_str\n",
        "print(out_file_name_tag)"
      ],
      "metadata": {
        "colab": {
          "base_uri": "https://localhost:8080/"
        },
        "id": "-zQATr8JeYyK",
        "outputId": "5e94367e-66ae-4e02-d2e6-e69b723ef8af"
      },
      "id": "-zQATr8JeYyK",
      "execution_count": 15,
      "outputs": [
        {
          "output_type": "stream",
          "name": "stdout",
          "text": [
            "_france_15Aug2022_to_28Aug2022\n"
          ]
        }
      ]
    },
    {
      "cell_type": "code",
      "execution_count": 16,
      "metadata": {
        "id": "WLuvRCN2xZZW",
        "colab": {
          "base_uri": "https://localhost:8080/",
          "height": 1000
        },
        "outputId": "6fbf3fe7-261f-4854-9dd1-547a26ccea6f"
      },
      "outputs": [
        {
          "output_type": "stream",
          "name": "stdout",
          "text": [
            "-----count:  1\n",
            "-----count:  2\n",
            "-----count:  3\n",
            "-----count:  4\n",
            ">>>comment Not found in master  ikcwhoe\n",
            "-----count:  5\n",
            "-----count:  6\n",
            "-----count:  7\n",
            "-----count:  8\n",
            "-----count:  9\n",
            "-----count:  10\n",
            "-----count:  11\n",
            "-----count:  12\n",
            "-----count:  13\n",
            "-----count:  14\n",
            "-----count:  15\n",
            "-----count:  16\n",
            "-----count:  17\n",
            "-----count:  18\n",
            "-----count:  19\n",
            "-----count:  20\n",
            "-----count:  21\n",
            "-----count:  22\n",
            "-----count:  23\n",
            "-----count:  24\n",
            ">>>comment Not found in master  ijuzl3f\n",
            ">>>comment Not found in master  ijux1cx\n",
            "-----count:  25\n",
            "-----count:  26\n",
            "-----count:  27\n",
            "-----count:  28\n",
            "-----count:  29\n",
            "-----count:  30\n",
            "-----count:  31\n",
            "-----count:  32\n",
            "-----count:  33\n",
            "-----count:  34\n",
            "-----count:  35\n",
            "-----count:  36\n",
            "-----count:  37\n",
            "-----count:  38\n",
            "-----count:  39\n",
            "-----count:  40\n",
            "-----count:  41\n",
            "-----count:  42\n",
            "-----count:  43\n",
            "-----count:  44\n",
            "-----count:  45\n",
            "-----count:  46\n",
            "-----count:  47\n",
            "-----count:  48\n",
            "-----count:  49\n",
            "-----count:  50\n",
            "-----count:  51\n",
            "-----count:  52\n",
            "-----count:  53\n",
            "-----count:  54\n",
            "-----count:  55\n",
            "-----count:  56\n",
            "-----count:  57\n",
            "-----count:  58\n",
            "-----count:  59\n",
            "-----count:  60\n",
            "-----count:  61\n",
            "-----count:  62\n",
            "-----count:  63\n",
            "-----count:  64\n",
            "-----count:  65\n",
            "-----count:  66\n",
            "-----count:  67\n",
            "-----count:  68\n",
            "-----count:  69\n",
            "-----count:  70\n",
            "-----count:  71\n",
            "-----count:  72\n",
            "-----count:  73\n",
            "-----count:  74\n",
            "-----count:  75\n",
            "-----count:  76\n",
            "-----count:  77\n",
            "-----count:  78\n",
            "-----count:  79\n",
            "-----count:  80\n",
            "-----count:  81\n",
            "-----count:  82\n",
            "-----count:  83\n",
            "-----count:  84\n",
            "-----count:  85\n",
            "-----count:  86\n",
            "-----count:  87\n",
            "-----count:  88\n",
            "-----count:  89\n",
            "-----count:  90\n",
            "-----count:  91\n",
            "-----count:  92\n",
            "-----count:  93\n",
            "-----count:  94\n",
            "-----count:  95\n",
            "-----count:  96\n",
            "-----count:  97\n",
            "-----count:  98\n",
            "-----count:  99\n",
            "-----count:  100\n",
            "-----count:  101\n",
            "-----count:  102\n",
            "-----count:  103\n",
            "-----count:  104\n",
            "-----count:  105\n",
            "-----count:  106\n",
            "-----count:  107\n",
            "-----count:  108\n",
            "-----count:  109\n",
            "-----count:  110\n",
            "-----count:  111\n",
            "-----count:  112\n",
            "-----count:  113\n",
            "-----count:  114\n",
            "-----count:  115\n",
            "-----count:  116\n",
            "-----count:  117\n",
            "-----count:  118\n",
            "-----count:  119\n",
            "-----count:  120\n",
            "-----count:  121\n",
            "-----count:  122\n",
            "-----count:  123\n",
            "-----count:  124\n",
            "-----count:  125\n",
            "-----count:  126\n",
            "-----count:  127\n",
            "-----count:  128\n",
            "-----count:  129\n",
            "-----count:  130\n",
            "-----count:  131\n",
            "-----count:  132\n",
            "-----count:  133\n",
            "-----count:  134\n",
            "-----count:  135\n",
            "-----count:  136\n",
            "-----count:  137\n",
            "-----count:  138\n",
            "-----count:  139\n",
            "-----count:  140\n",
            "-----count:  141\n",
            "-----count:  142\n",
            "-----count:  143\n",
            "-----count:  144\n",
            "-----count:  145\n",
            "-----count:  146\n",
            "-----count:  147\n",
            "-----count:  148\n",
            "-----count:  149\n",
            "-----count:  150\n",
            "-----count:  151\n",
            "-----count:  152\n",
            "-----count:  153\n",
            "-----count:  154\n",
            "-----count:  155\n",
            "-----count:  156\n",
            "-----count:  157\n",
            "-----count:  158\n",
            "-----count:  159\n",
            "-----count:  160\n",
            "-----count:  161\n",
            "-----count:  162\n",
            "-----count:  163\n",
            "-----count:  164\n",
            "-----count:  165\n",
            "-----count:  166\n",
            "-----count:  167\n",
            "-----count:  168\n",
            "-----count:  169\n",
            "-----count:  170\n",
            "-----count:  171\n",
            "-----count:  172\n",
            "-----count:  173\n",
            "-----count:  174\n",
            "-----count:  175\n",
            "-----count:  176\n",
            "-----count:  177\n",
            "-----count:  178\n",
            "-----count:  179\n",
            "-----count:  180\n",
            "-----count:  181\n",
            "-----count:  182\n",
            "-----count:  183\n",
            "-----count:  184\n",
            "-----count:  185\n",
            "-----count:  186\n",
            "-----count:  187\n",
            "-----count:  188\n",
            "-----count:  189\n",
            "-----count:  190\n",
            "-----count:  191\n",
            "-----count:  192\n",
            "-----count:  193\n",
            "-----count:  194\n",
            "-----count:  195\n",
            "-----count:  196\n",
            "-----count:  197\n",
            "-----count:  198\n",
            "-----count:  199\n",
            "-----count:  200\n",
            "-----count:  201\n",
            "-----count:  202\n",
            "-----count:  203\n",
            "-----count:  204\n",
            "-----count:  205\n",
            "-----count:  206\n",
            "-----count:  207\n",
            "-----count:  208\n",
            "-----count:  209\n",
            "-----count:  210\n",
            "-----count:  211\n",
            "-----count:  212\n",
            "-----count:  213\n",
            "-----count:  214\n",
            "-----count:  215\n",
            "-----count:  216\n",
            "-----count:  217\n",
            "-----count:  218\n",
            "-----count:  219\n",
            "-----count:  220\n",
            "-----count:  221\n",
            "-----count:  222\n",
            "-----count:  223\n",
            "-----count:  224\n",
            "-----count:  225\n",
            "-----count:  226\n",
            "-----count:  227\n",
            "-----count:  228\n",
            "-----count:  229\n",
            "-----count:  230\n",
            "-----count:  231\n",
            "-----count:  232\n",
            "-----count:  233\n",
            "-----count:  234\n",
            "-----count:  235\n",
            "-----count:  236\n",
            "-----count:  237\n",
            "-----count:  238\n",
            "-----count:  239\n",
            "-----count:  240\n",
            "-----count:  241\n",
            "-----count:  242\n",
            "-----count:  243\n",
            "-----count:  244\n",
            "-----count:  245\n",
            "-----count:  246\n",
            "-----count:  247\n",
            "-----count:  248\n",
            "-----count:  249\n",
            "-----count:  250\n",
            "-----count:  251\n",
            "-----count:  252\n",
            "-----count:  253\n",
            "-----count:  254\n",
            "-----count:  255\n",
            "-----count:  256\n",
            "-----count:  257\n",
            "-----count:  258\n",
            "-----count:  259\n",
            "-----count:  260\n",
            "-----count:  261\n",
            "-----count:  262\n",
            "-----count:  263\n",
            "-----count:  264\n",
            "-----count:  265\n",
            "-----count:  266\n",
            "-----count:  267\n",
            "-----count:  268\n",
            "-----count:  269\n",
            "-----count:  270\n",
            "-----count:  271\n",
            "-----count:  272\n",
            "-----count:  273\n",
            "-----count:  274\n",
            "-----count:  275\n",
            "-----count:  276\n",
            "-----count:  277\n",
            "-----count:  278\n",
            "-----count:  279\n",
            "-----count:  280\n",
            "-----count:  281\n",
            "-----count:  282\n",
            "-----count:  283\n",
            "-----count:  284\n",
            "-----count:  285\n",
            "-----count:  286\n",
            "-----count:  287\n",
            "-----count:  288\n",
            "-----count:  289\n",
            "-----count:  290\n",
            "-----count:  291\n",
            "-----count:  292\n",
            "-----count:  293\n",
            "-----count:  294\n",
            "-----count:  295\n",
            "-----count:  296\n",
            "-----count:  297\n",
            "-----count:  298\n",
            "-----count:  299\n",
            "-----count:  300\n",
            "-----count:  301\n",
            "-----count:  302\n",
            "-----count:  303\n",
            "-----count:  304\n",
            "-----count:  305\n",
            "-----count:  306\n",
            "-----count:  307\n",
            "-----count:  308\n",
            "-----count:  309\n",
            "-----count:  310\n",
            "-----count:  311\n",
            "-----count:  312\n",
            "-----count:  313\n",
            "-----count:  314\n",
            "-----count:  315\n",
            "-----count:  316\n",
            "-----count:  317\n",
            "-----count:  318\n",
            "-----count:  319\n",
            "-----count:  320\n",
            "-----count:  321\n",
            "-----count:  322\n",
            ">>>post Not found in master  thayfo\n",
            "-----count:  323\n",
            "-----count:  324\n",
            "-----count:  325\n",
            "-----count:  326\n",
            "-----count:  327\n",
            "-----count:  328\n",
            "-----count:  329\n",
            "-----count:  330\n",
            "-----count:  331\n",
            "-----count:  332\n",
            "-----count:  333\n",
            "-----count:  334\n",
            "-----count:  335\n",
            "-----count:  336\n",
            "-----count:  337\n",
            "-----count:  338\n",
            "-----count:  339\n",
            "-----count:  340\n",
            "-----count:  341\n",
            "-----count:  342\n",
            "-----count:  343\n",
            "-----count:  344\n",
            "-----count:  345\n",
            "-----count:  346\n",
            "-----count:  347\n",
            "-----count:  348\n",
            "-----count:  349\n",
            "-----count:  350\n",
            "-----count:  351\n",
            "-----count:  352\n",
            "-----count:  353\n",
            "-----count:  354\n",
            "-----count:  355\n",
            "-----count:  356\n",
            "-----count:  357\n",
            "-----count:  358\n",
            "-----count:  359\n",
            "-----count:  360\n",
            "-----count:  361\n",
            "-----count:  362\n",
            "-----count:  363\n",
            "-----count:  364\n",
            "-----count:  365\n",
            "-----count:  366\n",
            "-----count:  367\n",
            "-----count:  368\n",
            "-----count:  369\n",
            "-----count:  370\n",
            "-----count:  371\n",
            "-----count:  372\n",
            "-----count:  373\n",
            "-----count:  374\n",
            "-----count:  375\n",
            "-----count:  376\n",
            "-----count:  377\n",
            "-----count:  378\n",
            "-----count:  379\n",
            "-----count:  380\n",
            "-----count:  381\n",
            "-----count:  382\n",
            "-----count:  383\n",
            "-----count:  384\n",
            "-----count:  385\n",
            "-----count:  386\n",
            "-----count:  387\n",
            "-----count:  388\n",
            "-----count:  389\n",
            "-----count:  390\n",
            "-----count:  391\n",
            "-----count:  392\n",
            "-----count:  393\n",
            "-----count:  394\n",
            "-----count:  395\n",
            "-----count:  396\n",
            "-----count:  397\n",
            "-----count:  398\n",
            "-----count:  399\n",
            "-----count:  400\n",
            "-----count:  401\n",
            "-----count:  402\n",
            "-----count:  403\n",
            "-----count:  404\n",
            "-----count:  405\n",
            "-----count:  406\n",
            "-----count:  407\n",
            "-----count:  408\n",
            "-----count:  409\n",
            "-----count:  410\n",
            "-----count:  411\n",
            "-----count:  412\n",
            "-----count:  413\n",
            "-----count:  414\n",
            "-----count:  415\n",
            "-----count:  416\n",
            "-----count:  417\n",
            "-----count:  418\n",
            "-----count:  419\n",
            "-----count:  420\n",
            "-----count:  421\n",
            "-----count:  422\n",
            "-----count:  423\n",
            "-----count:  424\n",
            "-----count:  425\n",
            "-----count:  426\n",
            "-----count:  427\n",
            "-----count:  428\n",
            "-----count:  429\n",
            "-----count:  430\n",
            "-----count:  431\n",
            "-----count:  432\n",
            "-----count:  433\n",
            "-----count:  434\n",
            "-----count:  435\n",
            "-----count:  436\n",
            "-----count:  437\n",
            "-----count:  438\n",
            "-----count:  439\n",
            "-----count:  440\n",
            "-----count:  441\n",
            "-----count:  442\n",
            "-----count:  443\n",
            "-----count:  444\n",
            "-----count:  445\n",
            "-----count:  446\n",
            "-----count:  447\n",
            "-----count:  448\n",
            "-----count:  449\n",
            "-----count:  450\n",
            "-----count:  451\n",
            "-----count:  452\n",
            "-----count:  453\n",
            "-----count:  454\n",
            ">>>comment Not found in master  ijytt9a\n",
            "-----count:  455\n",
            "-----count:  456\n",
            "-----count:  457\n",
            "-----count:  458\n",
            "-----count:  459\n",
            "-----count:  460\n",
            "-----count:  461\n",
            "-----count:  462\n",
            "-----count:  463\n",
            "-----count:  464\n",
            "-----count:  465\n",
            "-----count:  466\n",
            "-----count:  467\n",
            "-----count:  468\n",
            "-----count:  469\n",
            "-----count:  470\n",
            "-----count:  471\n",
            "-----count:  472\n",
            "-----count:  473\n",
            "-----count:  474\n",
            "-----count:  475\n",
            "-----count:  476\n",
            "-----count:  477\n",
            "-----count:  478\n",
            "-----count:  479\n",
            "-----count:  480\n",
            "-----count:  481\n",
            "-----count:  482\n",
            "-----count:  483\n",
            "-----count:  484\n",
            "-----count:  485\n",
            "-----count:  486\n",
            "-----count:  487\n",
            "-----count:  488\n",
            "-----count:  489\n",
            "-----count:  490\n",
            "-----count:  491\n",
            "-----count:  492\n",
            "-----count:  493\n",
            "-----count:  494\n",
            "-----count:  495\n",
            "-----count:  496\n",
            "-----count:  497\n",
            "-----count:  498\n",
            "-----count:  499\n",
            "-----count:  500\n",
            "-----count:  501\n",
            "-----count:  502\n",
            "-----count:  503\n",
            "-----count:  504\n",
            "-----count:  505\n",
            "-----count:  506\n",
            "-----count:  507\n",
            "-----count:  508\n",
            "-----count:  509\n",
            "-----count:  510\n",
            "-----count:  511\n",
            "-----count:  512\n",
            "-----count:  513\n",
            "-----count:  514\n",
            "-----count:  515\n",
            "-----count:  516\n",
            "-----count:  517\n",
            "-----count:  518\n",
            "-----count:  519\n",
            "-----count:  520\n",
            "-----count:  521\n",
            "-----count:  522\n",
            ">>>comment Not found in master  icq4roz\n",
            ">>>comment Not found in master  icprod4\n",
            "-----count:  523\n",
            "-----count:  524\n",
            "-----count:  525\n",
            "-----count:  526\n",
            "-----count:  527\n",
            "-----count:  528\n",
            "-----count:  529\n",
            "-----count:  530\n",
            "-----count:  531\n",
            "-----count:  532\n",
            "-----count:  533\n",
            "-----count:  534\n",
            "-----count:  535\n",
            "-----count:  536\n",
            "-----count:  537\n",
            "-----count:  538\n",
            "-----count:  539\n",
            "-----count:  540\n",
            "-----count:  541\n",
            "-----count:  542\n",
            "-----count:  543\n",
            "-----count:  544\n",
            "-----count:  545\n",
            "-----count:  546\n",
            "-----count:  547\n",
            "-----count:  548\n",
            "-----count:  549\n",
            "-----count:  550\n",
            "-----count:  551\n",
            "-----count:  552\n",
            "-----count:  553\n",
            "-----count:  554\n",
            "-----count:  555\n",
            "-----count:  556\n",
            "-----count:  557\n",
            "-----count:  558\n",
            "-----count:  559\n",
            "-----count:  560\n",
            "-----count:  561\n",
            "-----count:  562\n",
            "-----count:  563\n",
            "-----count:  564\n",
            "-----count:  565\n",
            "-----count:  566\n",
            "-----count:  567\n",
            "-----count:  568\n",
            "-----count:  569\n",
            "-----count:  570\n",
            "-----count:  571\n",
            "-----count:  572\n",
            "-----count:  573\n",
            "-----count:  574\n",
            "-----count:  575\n",
            "-----count:  576\n",
            "-----count:  577\n",
            "-----count:  578\n",
            "-----count:  579\n",
            "-----count:  580\n",
            "-----count:  581\n",
            "-----count:  582\n",
            "-----count:  583\n",
            "-----count:  584\n",
            "-----count:  585\n",
            "-----count:  586\n",
            "-----count:  587\n",
            "-----count:  588\n",
            "-----count:  589\n",
            "-----count:  590\n",
            "-----count:  591\n",
            "-----count:  592\n",
            "-----count:  593\n",
            "-----count:  594\n",
            "-----count:  595\n",
            "-----count:  596\n",
            ">>>comment Not found in master  ilnu3pw\n",
            "-----count:  597\n",
            "-----count:  598\n",
            "-----count:  599\n",
            "-----count:  600\n",
            "-----count:  601\n",
            "-----count:  602\n",
            "-----count:  603\n",
            "-----count:  604\n",
            "-----count:  605\n",
            "-----count:  606\n",
            "-----count:  607\n",
            "-----count:  608\n",
            "-----count:  609\n",
            "-----count:  610\n",
            "-----count:  611\n",
            "-----count:  612\n",
            "-----count:  613\n",
            "-----count:  614\n",
            "-----count:  615\n",
            "-----count:  616\n",
            "-----count:  617\n",
            "-----count:  618\n",
            "-----count:  619\n",
            "-----count:  620\n",
            "-----count:  621\n",
            "-----count:  622\n",
            "-----count:  623\n",
            "-----count:  624\n",
            "-----count:  625\n",
            "-----count:  626\n",
            "-----count:  627\n",
            "-----count:  628\n",
            "-----count:  629\n",
            "-----count:  630\n",
            "-----count:  631\n",
            "-----count:  632\n",
            "-----count:  633\n",
            "-----count:  634\n",
            "-----count:  635\n",
            "-----count:  636\n",
            "-----count:  637\n",
            "-----count:  638\n",
            "-----count:  639\n",
            "-----count:  640\n",
            "-----count:  641\n",
            "-----count:  642\n",
            "-----count:  643\n",
            "-----count:  644\n",
            "-----count:  645\n",
            "-----count:  646\n",
            "-----count:  647\n",
            "-----count:  648\n",
            "-----count:  649\n",
            "-----count:  650\n",
            "-----count:  651\n",
            "-----count:  652\n",
            "-----count:  653\n",
            "-----count:  654\n",
            "-----count:  655\n",
            "initial_detailed_threads_france_15Aug2022_to_28Aug2022.json\n"
          ]
        },
        {
          "output_type": "display_data",
          "data": {
            "text/plain": [
              "<IPython.core.display.Javascript object>"
            ],
            "application/javascript": [
              "\n",
              "    async function download(id, filename, size) {\n",
              "      if (!google.colab.kernel.accessAllowed) {\n",
              "        return;\n",
              "      }\n",
              "      const div = document.createElement('div');\n",
              "      const label = document.createElement('label');\n",
              "      label.textContent = `Downloading \"${filename}\": `;\n",
              "      div.appendChild(label);\n",
              "      const progress = document.createElement('progress');\n",
              "      progress.max = size;\n",
              "      div.appendChild(progress);\n",
              "      document.body.appendChild(div);\n",
              "\n",
              "      const buffers = [];\n",
              "      let downloaded = 0;\n",
              "\n",
              "      const channel = await google.colab.kernel.comms.open(id);\n",
              "      // Send a message to notify the kernel that we're ready.\n",
              "      channel.send({})\n",
              "\n",
              "      for await (const message of channel.messages) {\n",
              "        // Send a message to notify the kernel that we're ready.\n",
              "        channel.send({})\n",
              "        if (message.buffers) {\n",
              "          for (const buffer of message.buffers) {\n",
              "            buffers.push(buffer);\n",
              "            downloaded += buffer.byteLength;\n",
              "            progress.value = downloaded;\n",
              "          }\n",
              "        }\n",
              "      }\n",
              "      const blob = new Blob(buffers, {type: 'application/binary'});\n",
              "      const a = document.createElement('a');\n",
              "      a.href = window.URL.createObjectURL(blob);\n",
              "      a.download = filename;\n",
              "      div.appendChild(a);\n",
              "      a.click();\n",
              "      div.remove();\n",
              "    }\n",
              "  "
            ]
          },
          "metadata": {}
        },
        {
          "output_type": "display_data",
          "data": {
            "text/plain": [
              "<IPython.core.display.Javascript object>"
            ],
            "application/javascript": [
              "download(\"download_bd0266f8-2927-4624-be2e-61dde0b46a18\", \"initial_detailed_threads_france_15Aug2022_to_28Aug2022.json\", 2313176)"
            ]
          },
          "metadata": {}
        }
      ],
      "source": [
        "# For each comment in removed_com dataframe, call the find_parent function to generate the threads corresponding to that commnet\n",
        "# Check the file name and dates before running this cell\n",
        "\n",
        "result_json = {}\n",
        "temp_list = []\n",
        "counter = 1\n",
        "\n",
        "for idx, com in removed_com.iterrows():\n",
        "  print(\"-----count: \", counter)\n",
        "  temp = {}\n",
        "  x = find_parent(com, 1, temp)\n",
        "  \n",
        "  com_dict = com.to_dict()\n",
        "  com_dict['removed'] = 0 if com_dict['removed'] == False else 1\n",
        "  final_thread = {0: [\"Level 0\", \"Removed comment\", com_dict], **x}\n",
        "  \n",
        "  temp_list.append(final_thread)\n",
        "  # print(\"RESULT: \", final_thread)\n",
        "  counter +=1\n",
        "\n",
        "  # if counter>5:\n",
        "  #   break;\n",
        "  # else:\n",
        "  #   pass\n",
        "\n",
        "result_json['result'] = temp_list\n",
        "\n",
        "f_name = \"initial_detailed_threads\"+out_file_name_tag+'.json'\n",
        "print(f_name)\n",
        "\n",
        "with open(f_name, \"w\") as outfile:\n",
        "    json.dump(result_json, outfile)\n",
        "\n",
        "files.download(\"/content/\"+f_name)"
      ],
      "id": "WLuvRCN2xZZW"
    },
    {
      "cell_type": "code",
      "execution_count": 17,
      "metadata": {
        "colab": {
          "base_uri": "https://localhost:8080/"
        },
        "id": "eeVZIvnkRdBm",
        "outputId": "191deb3c-1042-4594-c453-6d0387954972"
      },
      "outputs": [
        {
          "output_type": "execute_result",
          "data": {
            "text/plain": [
              "655"
            ]
          },
          "metadata": {},
          "execution_count": 17
        }
      ],
      "source": [
        "len(temp_list)"
      ],
      "id": "eeVZIvnkRdBm"
    },
    {
      "cell_type": "markdown",
      "metadata": {
        "id": "RSD9NELPQwnR"
      },
      "source": [
        "# **Sorting the threads** root---->leaf"
      ],
      "id": "RSD9NELPQwnR"
    },
    {
      "cell_type": "code",
      "execution_count": 18,
      "metadata": {
        "id": "m6AD_dTLz1IV"
      },
      "outputs": [],
      "source": [
        "# in case the notebook timeouts, load the json file from your downloads folder\n",
        "# IMP load file from your downloads folder\n",
        "\n",
        "f = open(\"/content/initial_detailed_threads_france_15Aug2022_to_28Aug2022.json\")\n",
        "json_file = json.load(f)"
      ],
      "id": "m6AD_dTLz1IV"
    },
    {
      "cell_type": "code",
      "execution_count": 19,
      "metadata": {
        "id": "hlS5fciW0U00"
      },
      "outputs": [],
      "source": [
        "final = []\n",
        "for discussion_dict in json_file['result']:\n",
        "  # print(discussion_dict)\n",
        "  discussion_dict = {int(k): v for k,v in discussion_dict.items()}\n",
        "  sorted_dict = dict(sorted(discussion_dict.items(), reverse=True))\n",
        "  new_dict = {}\n",
        "  i = 0\n",
        "  for k,v in sorted_dict.items():\n",
        "    new_dict[i] = v[2]\n",
        "    i+=1\n",
        "  # print(new_dict)\n",
        "  final.append(new_dict)\n",
        "\n",
        "final_json = {}\n",
        "final_json['result'] = final"
      ],
      "id": "hlS5fciW0U00"
    },
    {
      "cell_type": "markdown",
      "source": [
        "### Saving json file"
      ],
      "metadata": {
        "id": "TXjYrye-if90"
      },
      "id": "TXjYrye-if90"
    },
    {
      "cell_type": "code",
      "execution_count": 21,
      "metadata": {
        "id": "2uwBj3AX_UgX",
        "colab": {
          "base_uri": "https://localhost:8080/",
          "height": 35
        },
        "outputId": "50e46259-811c-4003-f51b-ae1cd48f51ec"
      },
      "outputs": [
        {
          "output_type": "stream",
          "name": "stdout",
          "text": [
            "sorted_detailed_threads_france_15Aug2022_to_28Aug2022.json\n"
          ]
        },
        {
          "output_type": "display_data",
          "data": {
            "text/plain": [
              "<IPython.core.display.Javascript object>"
            ],
            "application/javascript": [
              "\n",
              "    async function download(id, filename, size) {\n",
              "      if (!google.colab.kernel.accessAllowed) {\n",
              "        return;\n",
              "      }\n",
              "      const div = document.createElement('div');\n",
              "      const label = document.createElement('label');\n",
              "      label.textContent = `Downloading \"${filename}\": `;\n",
              "      div.appendChild(label);\n",
              "      const progress = document.createElement('progress');\n",
              "      progress.max = size;\n",
              "      div.appendChild(progress);\n",
              "      document.body.appendChild(div);\n",
              "\n",
              "      const buffers = [];\n",
              "      let downloaded = 0;\n",
              "\n",
              "      const channel = await google.colab.kernel.comms.open(id);\n",
              "      // Send a message to notify the kernel that we're ready.\n",
              "      channel.send({})\n",
              "\n",
              "      for await (const message of channel.messages) {\n",
              "        // Send a message to notify the kernel that we're ready.\n",
              "        channel.send({})\n",
              "        if (message.buffers) {\n",
              "          for (const buffer of message.buffers) {\n",
              "            buffers.push(buffer);\n",
              "            downloaded += buffer.byteLength;\n",
              "            progress.value = downloaded;\n",
              "          }\n",
              "        }\n",
              "      }\n",
              "      const blob = new Blob(buffers, {type: 'application/binary'});\n",
              "      const a = document.createElement('a');\n",
              "      a.href = window.URL.createObjectURL(blob);\n",
              "      a.download = filename;\n",
              "      div.appendChild(a);\n",
              "      a.click();\n",
              "      div.remove();\n",
              "    }\n",
              "  "
            ]
          },
          "metadata": {}
        },
        {
          "output_type": "display_data",
          "data": {
            "text/plain": [
              "<IPython.core.display.Javascript object>"
            ],
            "application/javascript": [
              "download(\"download_ab8080b3-0581-4951-aab0-3ac5784ac023\", \"sorted_detailed_threads_france_15Aug2022_to_28Aug2022.json\", 2219009)"
            ]
          },
          "metadata": {}
        }
      ],
      "source": [
        "# save the sorted threads if required\n",
        "sorted_f_name = \"sorted_detailed_threads\"+out_file_name_tag+'.json'\n",
        "print(sorted_f_name)\n",
        "\n",
        "with open(sorted_f_name, \"w\") as outfile:\n",
        "    json.dump(final_json, outfile)\n",
        "\n",
        "files.download(\"/content/\"+sorted_f_name)"
      ],
      "id": "2uwBj3AX_UgX"
    },
    {
      "cell_type": "markdown",
      "metadata": {
        "id": "zOEubqZ1Q73_"
      },
      "source": [
        "# **Threads for verification with only author, text, permalink, removed attr**"
      ],
      "id": "zOEubqZ1Q73_"
    },
    {
      "cell_type": "code",
      "execution_count": 22,
      "metadata": {
        "id": "31eMSBX6zK9V",
        "colab": {
          "base_uri": "https://localhost:8080/"
        },
        "outputId": "9d8a011d-a0c1-4f1e-ce9c-852bb5bfb0f0"
      },
      "outputs": [
        {
          "output_type": "execute_result",
          "data": {
            "text/plain": [
              "{0: {'author': '7epqlahm',\n",
              "  'created_utc': 1660509374.0,\n",
              "  'id': 'wog2da',\n",
              "  'num_comments': 0.0,\n",
              "  'permalink': '/r/france/comments/wog2da/what_things_are_expensive_in_france_but_so_cheap/',\n",
              "  'score': 1.0,\n",
              "  'selftext': 'I only know about cigarettes but nothing more 👉👈.',\n",
              "  'title': 'What things are expensive in France but so cheap in Algeria?',\n",
              "  'upvote_ratio': 1.0,\n",
              "  'darma_author': 'wWRMANMl'},\n",
              " 1: {'author': 'fh36u',\n",
              "  'body': 'Women',\n",
              "  'collapsed': 0.0,\n",
              "  'controversiality': 0.0,\n",
              "  'created_utc': 1660534818.0,\n",
              "  'id': 'ikc8yjv',\n",
              "  'link_id': 't3_wog2da',\n",
              "  'parent_id': 't3_wog2da',\n",
              "  'permalink': '/r/france/comments/wog2da/what_things_are_expensive_in_france_but_so_cheap/ikc8yjv/',\n",
              "  'score': 1.0,\n",
              "  'removed': 1,\n",
              "  'darma_author': 'nOQSkhIC'}}"
            ]
          },
          "metadata": {},
          "execution_count": 22
        }
      ],
      "source": [
        "final[0]"
      ],
      "id": "31eMSBX6zK9V"
    },
    {
      "cell_type": "code",
      "execution_count": 23,
      "metadata": {
        "id": "xAog8GoGBUfk"
      },
      "outputs": [],
      "source": [
        "# Generating author text permalink threads respectively for post and comments\n",
        "author_text = []\n",
        "\n",
        "for item in final:\n",
        "  dis ={}\n",
        "  for k,v in item.items():\n",
        "    # print(k,v)\n",
        "    if int(k) == 0:\n",
        "      # this is a post\n",
        "      dis[k] = {\"speaker_id\" : v['darma_author'], \"text\" : v['title'] +' '+ v['selftext'] if str(v['selftext']) != 'nan' else v['title'], \"permalink\": v['permalink']}\n",
        "    else:\n",
        "      dis[k] = {\"speaker_id\": v['darma_author'] , \"text\": v['body'], \"permalink\": v['permalink'], \"removed\": v['removed']}\n",
        "  # print(\"\\n\")\n",
        "  author_text.append(dis)"
      ],
      "id": "xAog8GoGBUfk"
    },
    {
      "cell_type": "code",
      "execution_count": 24,
      "metadata": {
        "id": "r2UtR6Jcz2Zf",
        "colab": {
          "base_uri": "https://localhost:8080/"
        },
        "outputId": "84e212a6-80f9-44a3-98ba-5ad1fc438eaa"
      },
      "outputs": [
        {
          "output_type": "execute_result",
          "data": {
            "text/plain": [
              "{0: {'speaker_id': 'wWRMANMl',\n",
              "  'text': 'What things are expensive in France but so cheap in Algeria? I only know about cigarettes but nothing more 👉👈.',\n",
              "  'permalink': '/r/france/comments/wog2da/what_things_are_expensive_in_france_but_so_cheap/'},\n",
              " 1: {'speaker_id': 'nOQSkhIC',\n",
              "  'text': 'Women',\n",
              "  'permalink': '/r/france/comments/wog2da/what_things_are_expensive_in_france_but_so_cheap/ikc8yjv/',\n",
              "  'removed': 1}}"
            ]
          },
          "metadata": {},
          "execution_count": 24
        }
      ],
      "source": [
        "author_text[0]"
      ],
      "id": "r2UtR6Jcz2Zf"
    },
    {
      "cell_type": "code",
      "execution_count": 25,
      "metadata": {
        "colab": {
          "base_uri": "https://localhost:8080/"
        },
        "id": "TEDjZzWYREr8",
        "outputId": "5d167c95-c5d9-4703-ace0-93106cbb8448"
      },
      "outputs": [
        {
          "output_type": "execute_result",
          "data": {
            "text/plain": [
              "655"
            ]
          },
          "metadata": {},
          "execution_count": 25
        }
      ],
      "source": [
        "len(author_text)"
      ],
      "id": "TEDjZzWYREr8"
    },
    {
      "cell_type": "markdown",
      "source": [
        "### Saving json file"
      ],
      "metadata": {
        "id": "mQIE2dLsinFi"
      },
      "id": "mQIE2dLsinFi"
    },
    {
      "cell_type": "code",
      "execution_count": 26,
      "metadata": {
        "id": "C3EiGmDxEb_V",
        "colab": {
          "base_uri": "https://localhost:8080/",
          "height": 35
        },
        "outputId": "4aff2283-7b32-4426-aac0-9214fe1ed84e"
      },
      "outputs": [
        {
          "output_type": "stream",
          "name": "stdout",
          "text": [
            "verify_threads_france_15Aug2022_to_28Aug2022.json\n"
          ]
        },
        {
          "output_type": "display_data",
          "data": {
            "text/plain": [
              "<IPython.core.display.Javascript object>"
            ],
            "application/javascript": [
              "\n",
              "    async function download(id, filename, size) {\n",
              "      if (!google.colab.kernel.accessAllowed) {\n",
              "        return;\n",
              "      }\n",
              "      const div = document.createElement('div');\n",
              "      const label = document.createElement('label');\n",
              "      label.textContent = `Downloading \"${filename}\": `;\n",
              "      div.appendChild(label);\n",
              "      const progress = document.createElement('progress');\n",
              "      progress.max = size;\n",
              "      div.appendChild(progress);\n",
              "      document.body.appendChild(div);\n",
              "\n",
              "      const buffers = [];\n",
              "      let downloaded = 0;\n",
              "\n",
              "      const channel = await google.colab.kernel.comms.open(id);\n",
              "      // Send a message to notify the kernel that we're ready.\n",
              "      channel.send({})\n",
              "\n",
              "      for await (const message of channel.messages) {\n",
              "        // Send a message to notify the kernel that we're ready.\n",
              "        channel.send({})\n",
              "        if (message.buffers) {\n",
              "          for (const buffer of message.buffers) {\n",
              "            buffers.push(buffer);\n",
              "            downloaded += buffer.byteLength;\n",
              "            progress.value = downloaded;\n",
              "          }\n",
              "        }\n",
              "      }\n",
              "      const blob = new Blob(buffers, {type: 'application/binary'});\n",
              "      const a = document.createElement('a');\n",
              "      a.href = window.URL.createObjectURL(blob);\n",
              "      a.download = filename;\n",
              "      div.appendChild(a);\n",
              "      a.click();\n",
              "      div.remove();\n",
              "    }\n",
              "  "
            ]
          },
          "metadata": {}
        },
        {
          "output_type": "display_data",
          "data": {
            "text/plain": [
              "<IPython.core.display.Javascript object>"
            ],
            "application/javascript": [
              "download(\"download_a49bbb50-6df0-4e91-b40d-d2125499487e\", \"verify_threads_france_15Aug2022_to_28Aug2022.json\", 1697711)"
            ]
          },
          "metadata": {}
        }
      ],
      "source": [
        "#save and download the files\n",
        "author_text_json = {}\n",
        "author_text_json['result'] = author_text\n",
        "\n",
        "verify_f_name = \"verify_threads\"+out_file_name_tag+'.json'\n",
        "print(verify_f_name)\n",
        "\n",
        "with open(verify_f_name, \"w\") as outfile:\n",
        "    json.dump(author_text_json, outfile)\n",
        "\n",
        "files.download(\"/content/\"+verify_f_name)"
      ],
      "id": "C3EiGmDxEb_V"
    },
    {
      "cell_type": "markdown",
      "metadata": {
        "id": "3czeFF_uAO1L"
      },
      "source": [
        "**Display**"
      ],
      "id": "3czeFF_uAO1L"
    },
    {
      "cell_type": "code",
      "execution_count": null,
      "metadata": {
        "id": "sBk-_vuLAYoa"
      },
      "outputs": [],
      "source": [
        "# for threads in author_text[:10]:\n",
        "#   for k,v in threads.items():\n",
        "#     print(k,v)\n",
        "#   print('\\n')"
      ],
      "id": "sBk-_vuLAYoa"
    },
    {
      "cell_type": "markdown",
      "metadata": {
        "id": "vVnFDofhRmpj"
      },
      "source": [
        "# **Filter threads by toxic author repetition**"
      ],
      "id": "vVnFDofhRmpj"
    },
    {
      "cell_type": "code",
      "execution_count": 27,
      "metadata": {
        "colab": {
          "base_uri": "https://localhost:8080/"
        },
        "id": "l0s3z9jzS4d6",
        "outputId": "e5919ff0-b3dc-4124-b2e0-6fc9316e5c34"
      },
      "outputs": [
        {
          "output_type": "execute_result",
          "data": {
            "text/plain": [
              "655"
            ]
          },
          "metadata": {},
          "execution_count": 27
        }
      ],
      "source": [
        "len(author_text)"
      ],
      "id": "l0s3z9jzS4d6"
    },
    {
      "cell_type": "code",
      "execution_count": 28,
      "metadata": {
        "id": "u7QNAuzwaXk9"
      },
      "outputs": [],
      "source": [
        "# function that returns true/false based on the frequency of toxic author in a thread\n",
        "\n",
        "def repeated_tox_author(thread):\n",
        "  # print(\"thread of len:\", len(thread), thread)\n",
        "  tox_author = list(thread.values())[-1]['speaker_id']\n",
        "  all_authors = {}\n",
        "\n",
        "  for k,v in thread.items():\n",
        "    # print(k,v)\n",
        "    temp_key = v['speaker_id']\n",
        "    all_authors[temp_key] = all_authors.get(temp_key,0) + 1\n",
        "\n",
        "  keep = True if all_authors[tox_author]>1 else False\n",
        "  # print(\"authors freq: \", all_authors)\n",
        "  # print(\"toxic author: \", tox_author, \"freq: \", all_authors[tox_author])\n",
        "  # print(\"keep thread: \", keep)\n",
        "  # print(\"\\n\")\n",
        "\n",
        "  return keep"
      ],
      "id": "u7QNAuzwaXk9"
    },
    {
      "cell_type": "code",
      "execution_count": 29,
      "metadata": {
        "id": "48ULjmLvPtl8"
      },
      "outputs": [],
      "source": [
        "# filtering the threads using above funciton\n",
        "filtered_by_author = []\n",
        "for thread in author_text:\n",
        "  if repeated_tox_author(thread):\n",
        "    filtered_by_author.append(dict(conversation = list(thread.values()), target_user = list(thread.values())[-1]['speaker_id']))"
      ],
      "id": "48ULjmLvPtl8"
    },
    {
      "cell_type": "code",
      "execution_count": 30,
      "metadata": {
        "colab": {
          "base_uri": "https://localhost:8080/"
        },
        "id": "7GdwsEUNcbCl",
        "outputId": "9ed44385-1503-4e46-e90e-5961c4f81d79"
      },
      "outputs": [
        {
          "output_type": "execute_result",
          "data": {
            "text/plain": [
              "253"
            ]
          },
          "metadata": {},
          "execution_count": 30
        }
      ],
      "source": [
        "len(filtered_by_author)"
      ],
      "id": "7GdwsEUNcbCl"
    },
    {
      "cell_type": "code",
      "execution_count": 31,
      "metadata": {
        "id": "VXRri3aizrL_",
        "colab": {
          "base_uri": "https://localhost:8080/"
        },
        "outputId": "d979159c-bcde-4125-8093-858a726cce5d"
      },
      "outputs": [
        {
          "output_type": "stream",
          "name": "stdout",
          "text": [
            "{'speaker_id': 'TowlHeSV', 'text': 'Paris : des pompiers agressés dans un foyer de jeunes résidents étrangers', 'permalink': '/r/france/comments/wov5ev/paris_des_pompiers_agressés_dans_un_foyer_de/'}\n",
            "{'speaker_id': 'bduBGbsc', 'text': 'Je trouve ça immoral. Dans le pays où j’habite un incident pareil est synonyme de condamnation au caning (châtiment corporel) et potentiellement de peine de mort si les autorités jugent que les individus ne sont pas apte à vivre sans troubler l’harmonie sociale. Et je trouve ça extrêmement sain, c’est d’ailleurs pour ça qu’il n’y a pas de problème de sécurité ici', 'permalink': '/r/france/comments/wov5ev/paris_des_pompiers_agressés_dans_un_foyer_de/ikd2x1c/', 'removed': 1}\n",
            "{'speaker_id': 'LfQnFwoB', 'text': '> les autorités jugent que les individus ne sont pas apte à vivre sans troubler l’harmonie sociale.\\n\\nallez, je mords. et si les autorités sont pourries jusqu\\'à la moelle et décident (au hasard le plus complet) que ton orientation sexuelle ou ta religion sont de nature à \"troubler l\\'harmonie sociale\" ?\\n\\nun peu comme dans chaque pays ou ton système a cours, en fait.', 'permalink': '/r/france/comments/wov5ev/paris_des_pompiers_agressés_dans_un_foyer_de/ikd3io7/', 'removed': 0}\n",
            "{'speaker_id': 'bduBGbsc', 'text': 'Le gars en question a juste fait du copier coller donc il ne pouvait pas prétendre à recevoir le paiement. Techniquement c’est lui qui devrait être torturé pour tentative d’escroquerie', 'permalink': '/r/france/comments/wov5ev/paris_des_pompiers_agressés_dans_un_foyer_de/ikd3zzu/', 'removed': 1}\n",
            "\n",
            "\n",
            "{'speaker_id': 'ZbpgISZS', 'text': 'Comment aider ma voisine avec des troubles psy Bonjour AirFrance,\\n\\nDepuis qu\\'une nouvelle voisine (la soixantaine) à emménager dans l\\'appart acollé au miens on a remarqué qu\\'elle a des soucis psy, je m\\'explique.\\n\\nElle hurle et crie \"arrêter de taper aux mur\" en tapant aux murs alors que le silence est complet.\\n\"Ils sont malveillant\" suivi d\\'éclat de rire qui fait penser qu\\'elle parle avec quelqu\\'un hors elle est seule.\\nIl y a de nombreux autres exemples qui indique un trouble psy, ce trouble s\\'accroît avec le temps, elle était plus discrète en arrivant.\\n\\nOn s\\'inquiète pour notre sécurité car lorsqu\\'elle parle seule elle est agressive et pour sa santé évidemment...\\nQue faire ?\\n\\nMerci de vos conseils !', 'permalink': '/r/france/comments/wovfd7/comment_aider_ma_voisine_avec_des_troubles_psy/'}\n",
            "{'speaker_id': 'IbEleGcD', 'text': \"Essayer d'entrer en contacte avec sa famille. Un parent peut la faire interner contre son gré, un juge aussi mais c'est beaucoup plus compliqué.\", 'permalink': '/r/france/comments/wovfd7/comment_aider_ma_voisine_avec_des_troubles_psy/ikd4igi/', 'removed': 0}\n",
            "{'speaker_id': 'YmpCENuB', 'text': \"Ah oui toi direct l'internement forcé.\", 'permalink': '/r/france/comments/wovfd7/comment_aider_ma_voisine_avec_des_troubles_psy/ikd9vi8/', 'removed': 1}\n",
            "{'speaker_id': 'IbEleGcD', 'text': \"L'internement c'est pas forcement a vie. C'est une étape très efficace pour des gens qui sont dangereux pour eux même ou pour les autres, le temps de trouver une médication adaptée.\", 'permalink': '/r/france/comments/wovfd7/comment_aider_ma_voisine_avec_des_troubles_psy/ikdacb9/', 'removed': 0}\n",
            "{'speaker_id': 'YmpCENuB', 'text': \"Et ils parlent encore aux proches en questions ?\\n\\nMoi je sais pas quand j'imagine un proche quelqu'un en qui j'ai confiance qui m'envoie me faire interner de force, bourré de médocs comme un légume dans un HP glauque, j'ai du mal à imaginer pardonner un jour. Après je dis pas qu'il y a pas des gens vraiment dangereux pour qui c'est nécessaire mais enfin...\", 'permalink': '/r/france/comments/wovfd7/comment_aider_ma_voisine_avec_des_troubles_psy/ikdb75o/', 'removed': 1}\n",
            "\n",
            "\n",
            "{'speaker_id': 'bsBjpqSk', 'text': \"Inflation : le coût de la vie augmente plus vite pour les étudiants que pour la moyenne des Français, selon l'Unef\", 'permalink': '/r/france/comments/wotdwy/inflation_le_coût_de_la_vie_augmente_plus_vite/'}\n",
            "{'speaker_id': 'LFQaLiou', 'text': \"Mais bien sûr...\\nQuelle connerie encore pour changer.\\n\\nL'inflation touche tout le monde de le même façon sans discriminiatiin\", 'permalink': '/r/france/comments/wotdwy/inflation_le_coût_de_la_vie_augmente_plus_vite/ikcwhoe/', 'removed': 0}\n",
            "{'speaker_id': 'mxVTjlUs', 'text': \"C'est vraiment dur de ne pas se faire supprimer ses messages lorsqu'on lit des trucs pareils :)   \\nBref tu as tord, Quelles conneries encore pour changer.\", 'permalink': '/r/france/comments/wotdwy/inflation_le_coût_de_la_vie_augmente_plus_vite/ikd8khm/', 'removed': 0}\n",
            "{'speaker_id': 'LFQaLiou', 'text': \"Mais bien sûr \\nSinon tu peux prendre des cours basiques d'économie et on en reparle\\nIgnare\", 'permalink': '/r/france/comments/wotdwy/inflation_le_coût_de_la_vie_augmente_plus_vite/ikdb5cm/', 'removed': 1}\n",
            "\n",
            "\n",
            "{'speaker_id': 'FmGpGuaw', 'text': 'La France est-elle réellement envahie (plus que les autres années) par les guêpes cet été ?', 'permalink': '/r/france/comments/wosn8f/la_france_estelle_réellement_envahie_plus_que_les/'}\n",
            "{'speaker_id': 'otJMdenG', 'text': \"Toute cette haine dans les commentaires de l'article sur 20mn\\n\\nC'est fou la capacité des gens à se haïr sur n'importe quel sujet\", 'permalink': '/r/france/comments/wosn8f/la_france_estelle_réellement_envahie_plus_que_les/ikcs540/', 'removed': 0}\n",
            "{'speaker_id': 'hzBRkEab', 'text': 'Connard', 'permalink': '/r/france/comments/wosn8f/la_france_estelle_réellement_envahie_plus_que_les/ikdc3i7/', 'removed': 1}\n",
            "{'speaker_id': 'otJMdenG', 'text': \"J'vais te souler tes gros morts, t'entends?!\", 'permalink': '/r/france/comments/wosn8f/la_france_estelle_réellement_envahie_plus_que_les/ikdctuw/', 'removed': 1}\n",
            "\n",
            "\n",
            "{'speaker_id': 'ZcaUTkFp', 'text': 'On a un problème de pauvreté en France, et plein d\\'!@#@$ prennent ça pour un problème d\\'immigration. **En France nous avons un certain nombre d\\'immigrants pauvres.** Mais pas forcément sans travail, non, souvent ils travaillent, et tout comme les français au salaire minimum ou en emploi précaire ou temps partiel, ils sont pauvres. Et tout comme les français les plus pauvres, ils sont sur-représentés dans les statistiques sur le crime. À cause de leur pauvreté.\\n\\n**Alors, quelle est la solution?**\\n\\n- **C\\'est pas limiter l\\'immigration.** L\\'essentiel de l\\'immigration légale n\\'est pas pauvre. Et on est déjà au maximum en lutte contre l\\'immigration illégale: on ne peut pas renvoyer des gens dans un pays qui ne veut pas d\\'eux, et les protections aux frontières c\\'est notoirement inefficace (voir par exemple le mur de Trump).\\n\\n- **C\\'est limiter la pauvreté.** Tout emploi doit être au salaire minimum, pas d\\'exception, et le salaire minimum doit permettre de payer son loyer près de son lieu de travail plus un train de vie décent. Il faut une assurance chômage de qualité pour que les précaires ne soient pas sous une pression excessive. Quand les plus précaires ne seront plus sous la menace permanente de la pauvreté, on aura probablement une situation  avec très peu de crime. C\\'est pas compliqué: si t\\'as quelque chose à perdre, si ta vie te semble agréable, tu veux pas prendre de risque illégal.\\n\\n----------------------------\\n\\n*\"Mais je veut pas payer plus de taxes!\"* Nan moi non plus, et dans l\\'ensemble ce que je propose ne nécessite pas forcément de taxes supplémentaires. Mais en France on a plusieurs millions de millionnaires (dans les statistiques d\\'il y a quelques années c\\'était de l\\'ordre de 2,5 millions, maintenant ça doit être plus). Il est temps de les taxer comme il faut pour baisser les taxes sur le travail des non-millionnaires.\\n\\n*\"Mais si on augmente le salaire minimum ...\"* Je propose pas forcément d\\'augmenter les salaires, on pourrait aussi construire beaucoup, beaucoup de logements, jusqu\\'à ce que par les lois de l\\'offre et de la demande, les prix des loyers reviennent à un niveau acceptable.', 'permalink': '/r/france/comments/woymdh/on_a_un_problème_de_pauvreté_en_france_et_plein_d/'}\n",
            "{'speaker_id': 'TEnRNudf', 'text': '> Quand les plus précaires ne seront plus sous la menace permanente de la pauvreté, on aura probablement une situation avec très peu de crime\\n\\nLa fameuse pauvreté qui rend les gens violents. En Asie du sud est, les gens sont beaucoup plus pauvres que nos \"pauvres\" français et pourtant ça part pas en voitures brûlées ou en coup de couteau dans la rue.\\n\\nCe qui génère la violence, c\\'est avant tout la culture, la religion et l\\'éducation de l\\'individu.', 'permalink': '/r/france/comments/woymdh/on_a_un_problème_de_pauvreté_en_france_et_plein_d/ikdm23d/', 'removed': 0}\n",
            "{'speaker_id': 'EwmaJemb', 'text': \">Ce qui génère la violence, c'est avant tout la culture, la religion et l'éducation de l'individu.\\n\\nVous attendiez le frontiste con en embuscade, il est là. :-)\", 'permalink': '/r/france/comments/woymdh/on_a_un_problème_de_pauvreté_en_france_et_plein_d/ikeijqc/', 'removed': 1}\n",
            "{'speaker_id': 'TEnRNudf', 'text': \"Pas besoin d'insulter\", 'permalink': '/r/france/comments/woymdh/on_a_un_problème_de_pauvreté_en_france_et_plein_d/ikel315/', 'removed': 0}\n",
            "{'speaker_id': 'EwmaJemb', 'text': \"Ha si, si ! C'est une question d'hygiène et de salubrité publique. Vous êtes des déchets moraux et intellectuels, avoir l'air poli et porter une cravate ne vous rend ni respectables ni fréquentables.\", 'permalink': '/r/france/comments/woymdh/on_a_un_problème_de_pauvreté_en_france_et_plein_d/ikelmdw/', 'removed': 1}\n",
            "\n",
            "\n",
            "{'speaker_id': 'bsBjpqSk', 'text': \"Inflation : le coût de la vie augmente plus vite pour les étudiants que pour la moyenne des Français, selon l'Unef\", 'permalink': '/r/france/comments/wotdwy/inflation_le_coût_de_la_vie_augmente_plus_vite/'}\n",
            "{'speaker_id': 'AdAYxsIN', 'text': '>La hausse des prix des produits alimentaires se fait également sentir, 15% sur un an pour les pâtes et 23% pour le café. Pour manger, les étudiants devront débourser à la rentrée prochaine entre 10 et 14 euros en plus chaque mois, calcule l\\'Unef, qui estime qu\\'il devient \"de plus en plus compliqué pour un étudiant de se nourrir correctement\".\\n\\nAh zut, la très objective UNEF a complètement oublié de prendre en compte les repas à 1€ au RU, mis en place pendant la crise Covid, prolongés jusqu\\'au 31 août, et que Borne souhaite prolonger encore à partir de septembre, pour l\\'année universitaire 2022/2023.\\n\\nDu coup, les calculs sont faux et l\\'UNEF ment.', 'permalink': '/r/france/comments/wotdwy/inflation_le_coût_de_la_vie_augmente_plus_vite/ikcwdco/', 'removed': 0}\n",
            "{'speaker_id': 'QYNZaKDo', 'text': \"Tu oublies de mentionner que c'est soumis à condition de ressource.\\n\\nhttps://www.crous-paris.fr/restauration/tarifs/\\n\\nDu coup ton argumentaire est faux et u/GwenFRA ment.\", 'permalink': '/r/france/comments/wotdwy/inflation_le_coût_de_la_vie_augmente_plus_vite/ikcyfsz/', 'removed': 0}\n",
            "{'speaker_id': 'AdAYxsIN', 'text': 'Si l\\'application dépend des RU, alors le calcul de l\\'UNEF reste faux, eux qui annonçaient ce matin le coût mensuel de la vie d\\'un étudiant AU CENTIME PRES...\\n\\nL\\'UNEF est malhonnête : ils ont fait leurs calculs biaisés dans leur coin, et lancent cela avant les annonces du gouvernement, pour \"mettre la pression\" et \"créer un rapport de force\" en syndicalistes arriérés qui refusent de prendre part aux concertations, et hurlent ensuite de ne pas être consultés.\\n\\nParce que derrière cela, ils n\\'ont qu\\'une proposition, c\\'est l\\'extension du RSA aux étudiants avec un statut spécial étudiant : donc quelle que soit la mesure annoncée, ils diront \"ce n\\'est pas assez\" pour boucler sur leur RSA étudiant.\\n\\nUn peu d\\'honnêteté intellectuelle et de courage leur ferait du bien avant leur annexion par LFI.', 'permalink': '/r/france/comments/wotdwy/inflation_le_coût_de_la_vie_augmente_plus_vite/ikd072n/', 'removed': 0}\n",
            "{'speaker_id': 'elmXAUSS', 'text': \"À t'écouter, un étudiant devrait vivre en permanence dans sa chambre et n'en sortir que pour feux occasions :\\n\\nAller étudié, aller manger. Franchement super projet de société. Projet qui a d'ailleurs été réalisé pendant le covid, avec les résultats qu'on lui connaît (dépression, suicide toussa toussa).\", 'permalink': '/r/france/comments/wotdwy/inflation_le_coût_de_la_vie_augmente_plus_vite/ikd8yu5/', 'removed': 0}\n",
            "{'speaker_id': 'AdAYxsIN', 'text': \"L'UNEF pourrait demander plus de postes à temps partiel pour les étudiants, mais ils font le choix d'en appeler à la solidarité nationale.\\n\\nJe bossais  quand j'étais étudiant, ça m'a beaucoup servi. C'est quoi le projet de société ? Au RSA de 18 ans à 25 ans ? C'est ça l'objectif ?\", 'permalink': '/r/france/comments/wotdwy/inflation_le_coût_de_la_vie_augmente_plus_vite/ikdq5fi/', 'removed': 0}\n",
            "{'speaker_id': 'nSzpFYNp', 'text': \">Je bossais quand j'étais étudiant, ça m'a beaucoup servi.\\n\\n[oh ben ca alors, les étudiants qui travaillent ont beaucoup plus de chances de rater leurs études](https://www.publicsenat.fr/article/parlementaire/emplois-etudiants-quels-sont-les-impacts-sur-la-reussite-des-etudes-189270).\\n\\nPtet que t'es un miraculé, un génie ou un privilegié. Dans tous les cas, c'est pas à un étudiant de travailler putain, il a déjà largement assez a gérer. Mentalité de merde.\", 'permalink': '/r/france/comments/wotdwy/inflation_le_coût_de_la_vie_augmente_plus_vite/ikelw7n/', 'removed': 0}\n",
            "{'speaker_id': 'AdAYxsIN', 'text': \"C'est ta mentalité d'assisté qui est merdique : les universités et écoles ont des besoins administratifs par exemple, et ça peut s'intégrer à tes horaires et à ton cursus. Les pions, les moniteurs, les soutiens, tout ça n'a pas l'air de te parler.\\n\\nDe plus, avec l'explosion de la formation continue, la demande est énorme et durable. Pour tous ceux qui se destinent à être prof, c'est une opportunité.\\n\\nComme s'il fallait vivre coupé du monde professionnel pendant ses études : ça oui ça conduit à l'échec.\", 'permalink': '/r/france/comments/wotdwy/inflation_le_coût_de_la_vie_augmente_plus_vite/ikeprln/', 'removed': 1}\n",
            "\n",
            "\n",
            "{'speaker_id': 'bsBjpqSk', 'text': \"Inflation : le coût de la vie augmente plus vite pour les étudiants que pour la moyenne des Français, selon l'Unef\", 'permalink': '/r/france/comments/wotdwy/inflation_le_coût_de_la_vie_augmente_plus_vite/'}\n",
            "{'speaker_id': 'AdAYxsIN', 'text': '>La hausse des prix des produits alimentaires se fait également sentir, 15% sur un an pour les pâtes et 23% pour le café. Pour manger, les étudiants devront débourser à la rentrée prochaine entre 10 et 14 euros en plus chaque mois, calcule l\\'Unef, qui estime qu\\'il devient \"de plus en plus compliqué pour un étudiant de se nourrir correctement\".\\n\\nAh zut, la très objective UNEF a complètement oublié de prendre en compte les repas à 1€ au RU, mis en place pendant la crise Covid, prolongés jusqu\\'au 31 août, et que Borne souhaite prolonger encore à partir de septembre, pour l\\'année universitaire 2022/2023.\\n\\nDu coup, les calculs sont faux et l\\'UNEF ment.', 'permalink': '/r/france/comments/wotdwy/inflation_le_coût_de_la_vie_augmente_plus_vite/ikcwdco/', 'removed': 0}\n",
            "{'speaker_id': 'jbShKhIe', 'text': 'Ah zut, ton commentaire était bien, mais malheureusement ce que tu dénonces est un faux. Dommage.', 'permalink': '/r/france/comments/wotdwy/inflation_le_coût_de_la_vie_augmente_plus_vite/ikczmnp/', 'removed': 0}\n",
            "{'speaker_id': 'AdAYxsIN', 'text': \"Et les 20 millions de repas à 1€ distribués en 2021, ils n'existent pas, ou bien tu as un problème avec la réalité ?\", 'permalink': '/r/france/comments/wotdwy/inflation_le_coût_de_la_vie_augmente_plus_vite/ikduxk4/', 'removed': 0}\n",
            "{'speaker_id': 'nSzpFYNp', 'text': \"20 millions de repas.\\n1.65 millions d'étudiants dans les études sup.\\n\\nT'as besoin qu'on te fasse le calcul pour voir que ca ne couvre pas grand chose ou tu y arriveras ?\", 'permalink': '/r/france/comments/wotdwy/inflation_le_coût_de_la_vie_augmente_plus_vite/iken31i/', 'removed': 0}\n",
            "{'speaker_id': 'AdAYxsIN', 'text': \"On recommence pour Bah\\\\_si\\\\_en\\\\_fait.  \\nJ'ai 100 personnes qui paient un truc 1€ ; quelle est la dépense moyenne en truc ?Maintenant, 10 d'entre elles bénéficient de la gratuité. Quelle est la dépense moyenne en truc ?\\n\\nPourquoi l'UNEF ne demande pas l'extension de la mesure si le problème est une couverture trop faible ?  \\nRéponse : parce que le but n'est pas d'améliorer les conditions de vie des étudiants, mais de trouver un prétexte pour descendre dans la rue à la rentrée.\", 'permalink': '/r/france/comments/wotdwy/inflation_le_coût_de_la_vie_augmente_plus_vite/ikeoiws/', 'removed': 0}\n",
            "{'speaker_id': 'nSzpFYNp', 'text': \"On recommence pour GwenFRA qui a, visiblement, raté ses cours de statistiques en 4e.\\n\\n100 personnes payent 1€: Moyenne a 1\\n\\n90 personnes payent 1€, 10 ne paient rien: Moyenne a 0.9\\n\\nJe sais que t'as Bac+10 mauvaise foi spé réthorique de droite, mais même toi t'es capable de voir que c'est pas en rendant moins cher la vie d'une infime minorité que ca change la réalité en fait. Demander plus de repas a 1€ c'est tres con, ca ne s'attaque pas a la racine du probleme.\", 'permalink': '/r/france/comments/wotdwy/inflation_le_coût_de_la_vie_augmente_plus_vite/ikeq7c1/', 'removed': 0}\n",
            "{'speaker_id': 'AdAYxsIN', 'text': \"Tu viens donc de comprendre que si une mesure touche partiellement une population, elle a néanmoins des conséquences sur les indicateurs de la population générale.\\n\\nEt que donc les calculs de l'UNEF sont faux, archi faux, et que s'ils étaient honnêtes intellectuellement, ils la prendraient en compte dans leur calcul, et demanderaient son élargissement.\\n\\nCela ne résout pas tout bien entendu, mais cela montre clairement que l'UNEF se fout de la gueule du monde et n'a rien d'un syndicat qui défend les étudiants, et n'est que l'antichambre de LFI. Parce qu'ils publient les résultats de leurs calculs au centime près pour se donner un air scientifique, mais le calcul est faux, et ne demandent pas d'amélioration de cette mesure : leur programme, c'est RSA étudiant ou rien.\\n\\nBah ça sera rien avec eux, et tout ce qui sera fait le sera sans eux.\", 'permalink': '/r/france/comments/wotdwy/inflation_le_coût_de_la_vie_augmente_plus_vite/ikerid4/', 'removed': 0}\n",
            "{'speaker_id': 'nSzpFYNp', 'text': \"> les calculs de l'UNEF sont faux, archi faux,\\n\\nMa couille, rapporté a la population étudiante, les repas a 1€ ne font même pas descendre le prix moyen du repas d'un centime. T'as pas l'air de comprendre qu'une petite baisse de valeur, sur une petite population parmis une très grande population, ca ne fait rien. Et si tu rapporte ca en plus a tout leur budget (logement, etc), ca ne compte pour que dalle. Niveau malhonneteté intellectuelle, tu te poses plutot haut quand même, t'as l'air d'être spécialiste.\", 'permalink': '/r/france/comments/wotdwy/inflation_le_coût_de_la_vie_augmente_plus_vite/ikesqzg/', 'removed': 0}\n",
            "{'speaker_id': 'AdAYxsIN', 'text': \"Le repas à 1€ ça ne change rien.  \\nPar contre l'APL à 5€ c'est la révolution.\\n\\nBrave bestiole.\", 'permalink': '/r/france/comments/wotdwy/inflation_le_coût_de_la_vie_augmente_plus_vite/iket2mo/', 'removed': 1}\n",
            "\n",
            "\n",
            "{'speaker_id': 'VrnfUiXf', 'text': 'Où est le connard.... ??', 'permalink': '/r/france/comments/wp7frh/où_est_le_connard/'}\n",
            "{'speaker_id': 'VrnfUiXf', 'text': \"A tous ceux qui considèrent (à juste titre) qu'il y a plus grave,\\n\\nJe vous l'accorde, il y a bien plus grave que ce manque d'humilité, de civisme,..\\n\\nMais ne vous semble t-il pas fondamental de commencer par là ??\", 'permalink': '/r/france/comments/wp7frh/où_est_le_connard/ikf7fuq/', 'removed': 0}\n",
            "{'speaker_id': 'iJFUFmEg', 'text': 'Sauf que tu sais pas si il a était obligé de ce garer la.\\n\\nReddit commence a avoir beaucoup de post debile quand meme.', 'permalink': '/r/france/comments/wp7frh/où_est_le_connard/ikfbmkw/', 'removed': 0}\n",
            "{'speaker_id': 'lctPHuxY', 'text': '>tu sais pas si il a _été_ obligé de *se* garer _là_\\n\\n...', 'permalink': '/r/france/comments/wp7frh/où_est_le_connard/ikff0ej/', 'removed': 0}\n",
            "{'speaker_id': 'iJFUFmEg', 'text': 'Et alors ?', 'permalink': '/r/france/comments/wp7frh/où_est_le_connard/ikg455l/', 'removed': 0}\n",
            "{'speaker_id': 'sFBfsCuk', 'text': 'Bah corriges toi et dis merci', 'permalink': '/r/france/comments/wp7frh/où_est_le_connard/ikiazr7/', 'removed': 0}\n",
            "{'speaker_id': 'iJFUFmEg', 'text': 'Non\\n\\nLes nazi grammar sont arrivés sur reddit ?', 'permalink': '/r/france/comments/wp7frh/où_est_le_connard/ikicvpd/', 'removed': 0}\n",
            "{'speaker_id': 'sFBfsCuk', 'text': \"Ok boomer reste dans l'ignorance si tu préfères\", 'permalink': '/r/france/comments/wp7frh/où_est_le_connard/ikif2wl/', 'removed': 0}\n",
            "{'speaker_id': 'iJFUFmEg', 'text': 'Boomer, j’ai moins de 30 ans, ok..\\n\\nC’est plutot les veilles generation qui juge et sont a cheval sur des regles de français.', 'permalink': '/r/france/comments/wp7frh/où_est_le_connard/ikif85l/', 'removed': 0}\n",
            "{'speaker_id': 'njoAjDHM', 'text': \"Peu importe ton âge, faire autant de fautes en une seule phrase te fait passer pour un débile profond. Après, vu le reste de tes commentaires, on a tous compris ici que c'était pas qu'une impression\", 'permalink': '/r/france/comments/wp7frh/où_est_le_connard/ikifwsp/', 'removed': 1}\n",
            "{'speaker_id': 'iJFUFmEg', 'text': 'Tu sais que les insulte sont interdit ? On est pas sur twitter.', 'permalink': '/r/france/comments/wp7frh/où_est_le_connard/ikig8jz/', 'removed': 0}\n",
            "{'speaker_id': 'njoAjDHM', 'text': 'Je parle à un enfant de 12 ans ou bien ?', 'permalink': '/r/france/comments/wp7frh/où_est_le_connard/ikigrw2/', 'removed': 1}\n",
            "\n",
            "\n",
            "{'speaker_id': 'uJZcqWGs', 'text': \"Nancy : 135 euros d'amende si vous laissez le moteur allumé à l'arrêt\", 'permalink': '/r/france/comments/wovlta/nancy_135_euros_damende_si_vous_laissez_le_moteur/'}\n",
            "{'speaker_id': 'DPCPWhpv', 'text': \"Toujours la même stratégie : \\nFaible avec les forts et fort avec les faibles. \\n\\nLes abrutis s'extasiant devant ces injonctions sont les idiots utiles de la ploutocratie policière, qui continue de polluer, en culpabilisant les premières victimes (humaines) de ce qu'elle fait semblant de vouloir changer.\", 'permalink': '/r/france/comments/wovlta/nancy_135_euros_damende_si_vous_laissez_le_moteur/ikd715e/', 'removed': 0}\n",
            "{'speaker_id': 'viJyIMCC', 'text': \"quelqu'un qui a une voiture avec clim est un faible? ça me semble plutot quelqu'un avec de l'argent deja, et pas specialement en train de l'economiser\", 'permalink': '/r/france/comments/wovlta/nancy_135_euros_damende_si_vous_laissez_le_moteur/ikdae5j/', 'removed': 0}\n",
            "{'speaker_id': 'LdPAZfwx', 'text': 'ah oui d’accord on en est là maintenant, la définition de l’élite c’est d’avoir la clim dans sa voiture. Eh beh continuons de bien niveler par le bas', 'permalink': '/r/france/comments/wovlta/nancy_135_euros_damende_si_vous_laissez_le_moteur/ikdauh1/', 'removed': 0}\n",
            "{'speaker_id': 'PLsTWHnI', 'text': \"la définition de l'élite c'est d'avoir une voiture. ça fait plus d'un siècle que c'est le cas.\", 'permalink': '/r/france/comments/wovlta/nancy_135_euros_damende_si_vous_laissez_le_moteur/ikdihqn/', 'removed': 0}\n",
            "{'speaker_id': 'nKEkTIjY', 'text': \"La définition de l'élite c'est d'être remarquable. Autrement dit c'est d'être une minorité différente de la majorité. Et ca fait depuis l'invention du mot élite que c'est comme cela. \\n\\nAujourd'hui tu as 90% de la population qui possède une voiture, donc c'est dur de faire moins élitiste que cela. \\n\\nPs : Dès fois j'ai du mal a comprendre comment on peux essayer d'argumenter quelques chose d'aussi stupide sur un sujet aussi simple.\", 'permalink': '/r/france/comments/wovlta/nancy_135_euros_damende_si_vous_laissez_le_moteur/ikfd0qi/', 'removed': 0}\n",
            "{'speaker_id': 'PLsTWHnI', 'text': \"Je suis d'accord avec toi, c'est surprenant de voir des argumentations comme la tienne qui sont totalement fausses et sans rapport avec la réalité.\\n\\nEn 2022 il y a 1,5 milliards de voitures pour une population de 8 milliards, explique comment tu arrives à trouver que 90% des gens ont une voiture ?\\n\\nEt regarde la répartition, les voitures sont concentrées dans les pays riches (qui font partie de l'élite), et dans les autres pays ce sont les plus riches qui possèdent des voitures donc qui font partie de l'élite.\\n\\nEt c'est comme ça depuis l'apparition des premières voitures. \\n\\nFaut pousser fort mamie dans les orties pour tenir un argumentaire comme le tien qui est la négation des faits établis et de l'histoire de l'automobile.\", 'permalink': '/r/france/comments/wovlta/nancy_135_euros_damende_si_vous_laissez_le_moteur/ikhvprk/', 'removed': 0}\n",
            "{'speaker_id': 'nKEkTIjY', 'text': \"Depuis le début on parle de la France, qu'est ce que tu viens nous parler de la situation dans le monde ? C'est pas étonnant que dès que t'écris quelques chose c'est de la merde.\", 'permalink': '/r/france/comments/wovlta/nancy_135_euros_damende_si_vous_laissez_le_moteur/ikipoca/', 'removed': 1}\n",
            "\n",
            "\n",
            "{'speaker_id': 'hJMeQBOP', 'text': 'Les réflexes d’éco-conduite', 'permalink': '/r/france/comments/wprhid/les_réflexes_décoconduite/'}\n",
            "{'speaker_id': 'oosxbtRM', 'text': 'Vendre sa voiture : 100%', 'permalink': '/r/france/comments/wprhid/les_réflexes_décoconduite/ikidgco/', 'removed': 0}\n",
            "{'speaker_id': 'xkJKmsPt', 'text': 'Ecraser un cycliste : quelques tonnes de CO2 en moins par an.', 'permalink': '/r/france/comments/wprhid/les_réflexes_décoconduite/ikiebze/', 'removed': 1}\n",
            "{'speaker_id': 'XFQDpuFO', 'text': \"T'écraser contre un arbre : des dizaines de fois plus de tonnes de CO2 en moins par an.\", 'permalink': '/r/france/comments/wprhid/les_réflexes_décoconduite/ikiq190/', 'removed': 1}\n",
            "{'speaker_id': 'xkJKmsPt', 'text': \"Oui mais je fais faire du mal à l'arbre :(\", 'permalink': '/r/france/comments/wprhid/les_réflexes_décoconduite/ikiqt1q/', 'removed': 1}\n",
            "\n",
            "\n"
          ]
        }
      ],
      "source": [
        "#display\n",
        "for threads in filtered_by_author[:10]:\n",
        "  conv = threads['conversation']\n",
        "  for i in conv:\n",
        "    print(i)\n",
        "  print('\\n')"
      ],
      "id": "VXRri3aizrL_"
    },
    {
      "cell_type": "markdown",
      "source": [
        "### Saving json file"
      ],
      "metadata": {
        "id": "Ox_okgHnjAE-"
      },
      "id": "Ox_okgHnjAE-"
    },
    {
      "cell_type": "code",
      "execution_count": 32,
      "metadata": {
        "id": "rvAIKMUx8Kq7",
        "colab": {
          "base_uri": "https://localhost:8080/",
          "height": 35
        },
        "outputId": "97fca6c6-42c8-4b5b-cd75-5df963f2d8ce"
      },
      "outputs": [
        {
          "output_type": "stream",
          "name": "stdout",
          "text": [
            "tox_author_threads_france_15Aug2022_to_28Aug2022.json\n"
          ]
        },
        {
          "output_type": "display_data",
          "data": {
            "text/plain": [
              "<IPython.core.display.Javascript object>"
            ],
            "application/javascript": [
              "\n",
              "    async function download(id, filename, size) {\n",
              "      if (!google.colab.kernel.accessAllowed) {\n",
              "        return;\n",
              "      }\n",
              "      const div = document.createElement('div');\n",
              "      const label = document.createElement('label');\n",
              "      label.textContent = `Downloading \"${filename}\": `;\n",
              "      div.appendChild(label);\n",
              "      const progress = document.createElement('progress');\n",
              "      progress.max = size;\n",
              "      div.appendChild(progress);\n",
              "      document.body.appendChild(div);\n",
              "\n",
              "      const buffers = [];\n",
              "      let downloaded = 0;\n",
              "\n",
              "      const channel = await google.colab.kernel.comms.open(id);\n",
              "      // Send a message to notify the kernel that we're ready.\n",
              "      channel.send({})\n",
              "\n",
              "      for await (const message of channel.messages) {\n",
              "        // Send a message to notify the kernel that we're ready.\n",
              "        channel.send({})\n",
              "        if (message.buffers) {\n",
              "          for (const buffer of message.buffers) {\n",
              "            buffers.push(buffer);\n",
              "            downloaded += buffer.byteLength;\n",
              "            progress.value = downloaded;\n",
              "          }\n",
              "        }\n",
              "      }\n",
              "      const blob = new Blob(buffers, {type: 'application/binary'});\n",
              "      const a = document.createElement('a');\n",
              "      a.href = window.URL.createObjectURL(blob);\n",
              "      a.download = filename;\n",
              "      div.appendChild(a);\n",
              "      a.click();\n",
              "      div.remove();\n",
              "    }\n",
              "  "
            ]
          },
          "metadata": {}
        },
        {
          "output_type": "display_data",
          "data": {
            "text/plain": [
              "<IPython.core.display.Javascript object>"
            ],
            "application/javascript": [
              "download(\"download_22762121-d296-49b0-9c69-27f850a5a86c\", \"tox_author_threads_france_15Aug2022_to_28Aug2022.json\", 1054056)"
            ]
          },
          "metadata": {}
        }
      ],
      "source": [
        "filtered_by_author_json = {}\n",
        "filtered_by_author_json['result'] = filtered_by_author\n",
        "\n",
        "tox_author_f_name = \"tox_author_threads\"+out_file_name_tag+'.json'\n",
        "print(tox_author_f_name)\n",
        "\n",
        "with open(tox_author_f_name,'w') as outfile:\n",
        "  json.dump(filtered_by_author_json, outfile) \n",
        "\n",
        "files.download(\"/content/\"+tox_author_f_name)"
      ],
      "id": "rvAIKMUx8Kq7"
    },
    {
      "cell_type": "markdown",
      "metadata": {
        "id": "y15EHIDT6Ozi"
      },
      "source": [
        "# **Filter out the gaps-- \"Removed and Not Found\"**"
      ],
      "id": "y15EHIDT6Ozi"
    },
    {
      "cell_type": "code",
      "execution_count": 33,
      "metadata": {
        "id": "2mFUMhQa6OJp"
      },
      "outputs": [],
      "source": [
        "without_gap = []\n",
        "count = 0\n",
        "\n",
        "for threads in filtered_by_author:\n",
        "  conv = threads['conversation']\n",
        "  flag = 0\n",
        "  for i in conv:\n",
        "    # print(i)\n",
        "    if i['text'] == \"[removed] and NOT FOUND\":\n",
        "      flag = 1\n",
        "      break\n",
        "\n",
        "  # print('flag: ', flag)  \n",
        "  if flag == 1:\n",
        "    pass\n",
        "  else:\n",
        "    without_gap.append(threads)\n",
        "    count+=1\n",
        "  # print(count, '\\n')"
      ],
      "id": "2mFUMhQa6OJp"
    },
    {
      "cell_type": "code",
      "execution_count": 34,
      "metadata": {
        "colab": {
          "base_uri": "https://localhost:8080/"
        },
        "id": "ZPnzZ-s3Eyq1",
        "outputId": "1a9117b5-7c41-4572-c09f-8026ba7b3af3"
      },
      "outputs": [
        {
          "output_type": "execute_result",
          "data": {
            "text/plain": [
              "252"
            ]
          },
          "metadata": {},
          "execution_count": 34
        }
      ],
      "source": [
        "len(without_gap)"
      ],
      "id": "ZPnzZ-s3Eyq1"
    },
    {
      "cell_type": "code",
      "source": [
        "for threads in without_gap[:5]:\n",
        "  conv = threads['conversation']\n",
        "  for i in conv:\n",
        "    print(i)\n",
        "  print('\\n')"
      ],
      "metadata": {
        "id": "ipeBExY6cNUu",
        "colab": {
          "base_uri": "https://localhost:8080/"
        },
        "outputId": "8ae44aa4-a707-4307-e60d-2d7f3f17af08"
      },
      "id": "ipeBExY6cNUu",
      "execution_count": 35,
      "outputs": [
        {
          "output_type": "stream",
          "name": "stdout",
          "text": [
            "{'speaker_id': 'TowlHeSV', 'text': 'Paris : des pompiers agressés dans un foyer de jeunes résidents étrangers', 'permalink': '/r/france/comments/wov5ev/paris_des_pompiers_agressés_dans_un_foyer_de/'}\n",
            "{'speaker_id': 'bduBGbsc', 'text': 'Je trouve ça immoral. Dans le pays où j’habite un incident pareil est synonyme de condamnation au caning (châtiment corporel) et potentiellement de peine de mort si les autorités jugent que les individus ne sont pas apte à vivre sans troubler l’harmonie sociale. Et je trouve ça extrêmement sain, c’est d’ailleurs pour ça qu’il n’y a pas de problème de sécurité ici', 'permalink': '/r/france/comments/wov5ev/paris_des_pompiers_agressés_dans_un_foyer_de/ikd2x1c/', 'removed': 1}\n",
            "{'speaker_id': 'LfQnFwoB', 'text': '> les autorités jugent que les individus ne sont pas apte à vivre sans troubler l’harmonie sociale.\\n\\nallez, je mords. et si les autorités sont pourries jusqu\\'à la moelle et décident (au hasard le plus complet) que ton orientation sexuelle ou ta religion sont de nature à \"troubler l\\'harmonie sociale\" ?\\n\\nun peu comme dans chaque pays ou ton système a cours, en fait.', 'permalink': '/r/france/comments/wov5ev/paris_des_pompiers_agressés_dans_un_foyer_de/ikd3io7/', 'removed': 0}\n",
            "{'speaker_id': 'bduBGbsc', 'text': 'Le gars en question a juste fait du copier coller donc il ne pouvait pas prétendre à recevoir le paiement. Techniquement c’est lui qui devrait être torturé pour tentative d’escroquerie', 'permalink': '/r/france/comments/wov5ev/paris_des_pompiers_agressés_dans_un_foyer_de/ikd3zzu/', 'removed': 1}\n",
            "\n",
            "\n",
            "{'speaker_id': 'ZbpgISZS', 'text': 'Comment aider ma voisine avec des troubles psy Bonjour AirFrance,\\n\\nDepuis qu\\'une nouvelle voisine (la soixantaine) à emménager dans l\\'appart acollé au miens on a remarqué qu\\'elle a des soucis psy, je m\\'explique.\\n\\nElle hurle et crie \"arrêter de taper aux mur\" en tapant aux murs alors que le silence est complet.\\n\"Ils sont malveillant\" suivi d\\'éclat de rire qui fait penser qu\\'elle parle avec quelqu\\'un hors elle est seule.\\nIl y a de nombreux autres exemples qui indique un trouble psy, ce trouble s\\'accroît avec le temps, elle était plus discrète en arrivant.\\n\\nOn s\\'inquiète pour notre sécurité car lorsqu\\'elle parle seule elle est agressive et pour sa santé évidemment...\\nQue faire ?\\n\\nMerci de vos conseils !', 'permalink': '/r/france/comments/wovfd7/comment_aider_ma_voisine_avec_des_troubles_psy/'}\n",
            "{'speaker_id': 'IbEleGcD', 'text': \"Essayer d'entrer en contacte avec sa famille. Un parent peut la faire interner contre son gré, un juge aussi mais c'est beaucoup plus compliqué.\", 'permalink': '/r/france/comments/wovfd7/comment_aider_ma_voisine_avec_des_troubles_psy/ikd4igi/', 'removed': 0}\n",
            "{'speaker_id': 'YmpCENuB', 'text': \"Ah oui toi direct l'internement forcé.\", 'permalink': '/r/france/comments/wovfd7/comment_aider_ma_voisine_avec_des_troubles_psy/ikd9vi8/', 'removed': 1}\n",
            "{'speaker_id': 'IbEleGcD', 'text': \"L'internement c'est pas forcement a vie. C'est une étape très efficace pour des gens qui sont dangereux pour eux même ou pour les autres, le temps de trouver une médication adaptée.\", 'permalink': '/r/france/comments/wovfd7/comment_aider_ma_voisine_avec_des_troubles_psy/ikdacb9/', 'removed': 0}\n",
            "{'speaker_id': 'YmpCENuB', 'text': \"Et ils parlent encore aux proches en questions ?\\n\\nMoi je sais pas quand j'imagine un proche quelqu'un en qui j'ai confiance qui m'envoie me faire interner de force, bourré de médocs comme un légume dans un HP glauque, j'ai du mal à imaginer pardonner un jour. Après je dis pas qu'il y a pas des gens vraiment dangereux pour qui c'est nécessaire mais enfin...\", 'permalink': '/r/france/comments/wovfd7/comment_aider_ma_voisine_avec_des_troubles_psy/ikdb75o/', 'removed': 1}\n",
            "\n",
            "\n",
            "{'speaker_id': 'bsBjpqSk', 'text': \"Inflation : le coût de la vie augmente plus vite pour les étudiants que pour la moyenne des Français, selon l'Unef\", 'permalink': '/r/france/comments/wotdwy/inflation_le_coût_de_la_vie_augmente_plus_vite/'}\n",
            "{'speaker_id': 'LFQaLiou', 'text': \"Mais bien sûr...\\nQuelle connerie encore pour changer.\\n\\nL'inflation touche tout le monde de le même façon sans discriminiatiin\", 'permalink': '/r/france/comments/wotdwy/inflation_le_coût_de_la_vie_augmente_plus_vite/ikcwhoe/', 'removed': 0}\n",
            "{'speaker_id': 'mxVTjlUs', 'text': \"C'est vraiment dur de ne pas se faire supprimer ses messages lorsqu'on lit des trucs pareils :)   \\nBref tu as tord, Quelles conneries encore pour changer.\", 'permalink': '/r/france/comments/wotdwy/inflation_le_coût_de_la_vie_augmente_plus_vite/ikd8khm/', 'removed': 0}\n",
            "{'speaker_id': 'LFQaLiou', 'text': \"Mais bien sûr \\nSinon tu peux prendre des cours basiques d'économie et on en reparle\\nIgnare\", 'permalink': '/r/france/comments/wotdwy/inflation_le_coût_de_la_vie_augmente_plus_vite/ikdb5cm/', 'removed': 1}\n",
            "\n",
            "\n",
            "{'speaker_id': 'FmGpGuaw', 'text': 'La France est-elle réellement envahie (plus que les autres années) par les guêpes cet été ?', 'permalink': '/r/france/comments/wosn8f/la_france_estelle_réellement_envahie_plus_que_les/'}\n",
            "{'speaker_id': 'otJMdenG', 'text': \"Toute cette haine dans les commentaires de l'article sur 20mn\\n\\nC'est fou la capacité des gens à se haïr sur n'importe quel sujet\", 'permalink': '/r/france/comments/wosn8f/la_france_estelle_réellement_envahie_plus_que_les/ikcs540/', 'removed': 0}\n",
            "{'speaker_id': 'hzBRkEab', 'text': 'Connard', 'permalink': '/r/france/comments/wosn8f/la_france_estelle_réellement_envahie_plus_que_les/ikdc3i7/', 'removed': 1}\n",
            "{'speaker_id': 'otJMdenG', 'text': \"J'vais te souler tes gros morts, t'entends?!\", 'permalink': '/r/france/comments/wosn8f/la_france_estelle_réellement_envahie_plus_que_les/ikdctuw/', 'removed': 1}\n",
            "\n",
            "\n",
            "{'speaker_id': 'ZcaUTkFp', 'text': 'On a un problème de pauvreté en France, et plein d\\'!@#@$ prennent ça pour un problème d\\'immigration. **En France nous avons un certain nombre d\\'immigrants pauvres.** Mais pas forcément sans travail, non, souvent ils travaillent, et tout comme les français au salaire minimum ou en emploi précaire ou temps partiel, ils sont pauvres. Et tout comme les français les plus pauvres, ils sont sur-représentés dans les statistiques sur le crime. À cause de leur pauvreté.\\n\\n**Alors, quelle est la solution?**\\n\\n- **C\\'est pas limiter l\\'immigration.** L\\'essentiel de l\\'immigration légale n\\'est pas pauvre. Et on est déjà au maximum en lutte contre l\\'immigration illégale: on ne peut pas renvoyer des gens dans un pays qui ne veut pas d\\'eux, et les protections aux frontières c\\'est notoirement inefficace (voir par exemple le mur de Trump).\\n\\n- **C\\'est limiter la pauvreté.** Tout emploi doit être au salaire minimum, pas d\\'exception, et le salaire minimum doit permettre de payer son loyer près de son lieu de travail plus un train de vie décent. Il faut une assurance chômage de qualité pour que les précaires ne soient pas sous une pression excessive. Quand les plus précaires ne seront plus sous la menace permanente de la pauvreté, on aura probablement une situation  avec très peu de crime. C\\'est pas compliqué: si t\\'as quelque chose à perdre, si ta vie te semble agréable, tu veux pas prendre de risque illégal.\\n\\n----------------------------\\n\\n*\"Mais je veut pas payer plus de taxes!\"* Nan moi non plus, et dans l\\'ensemble ce que je propose ne nécessite pas forcément de taxes supplémentaires. Mais en France on a plusieurs millions de millionnaires (dans les statistiques d\\'il y a quelques années c\\'était de l\\'ordre de 2,5 millions, maintenant ça doit être plus). Il est temps de les taxer comme il faut pour baisser les taxes sur le travail des non-millionnaires.\\n\\n*\"Mais si on augmente le salaire minimum ...\"* Je propose pas forcément d\\'augmenter les salaires, on pourrait aussi construire beaucoup, beaucoup de logements, jusqu\\'à ce que par les lois de l\\'offre et de la demande, les prix des loyers reviennent à un niveau acceptable.', 'permalink': '/r/france/comments/woymdh/on_a_un_problème_de_pauvreté_en_france_et_plein_d/'}\n",
            "{'speaker_id': 'TEnRNudf', 'text': '> Quand les plus précaires ne seront plus sous la menace permanente de la pauvreté, on aura probablement une situation avec très peu de crime\\n\\nLa fameuse pauvreté qui rend les gens violents. En Asie du sud est, les gens sont beaucoup plus pauvres que nos \"pauvres\" français et pourtant ça part pas en voitures brûlées ou en coup de couteau dans la rue.\\n\\nCe qui génère la violence, c\\'est avant tout la culture, la religion et l\\'éducation de l\\'individu.', 'permalink': '/r/france/comments/woymdh/on_a_un_problème_de_pauvreté_en_france_et_plein_d/ikdm23d/', 'removed': 0}\n",
            "{'speaker_id': 'EwmaJemb', 'text': \">Ce qui génère la violence, c'est avant tout la culture, la religion et l'éducation de l'individu.\\n\\nVous attendiez le frontiste con en embuscade, il est là. :-)\", 'permalink': '/r/france/comments/woymdh/on_a_un_problème_de_pauvreté_en_france_et_plein_d/ikeijqc/', 'removed': 1}\n",
            "{'speaker_id': 'TEnRNudf', 'text': \"Pas besoin d'insulter\", 'permalink': '/r/france/comments/woymdh/on_a_un_problème_de_pauvreté_en_france_et_plein_d/ikel315/', 'removed': 0}\n",
            "{'speaker_id': 'EwmaJemb', 'text': \"Ha si, si ! C'est une question d'hygiène et de salubrité publique. Vous êtes des déchets moraux et intellectuels, avoir l'air poli et porter une cravate ne vous rend ni respectables ni fréquentables.\", 'permalink': '/r/france/comments/woymdh/on_a_un_problème_de_pauvreté_en_france_et_plein_d/ikelmdw/', 'removed': 1}\n",
            "\n",
            "\n"
          ]
        }
      ]
    },
    {
      "cell_type": "code",
      "source": [
        "for threads in without_gap:\n",
        "  for i in threads['conversation']:\n",
        "    # print(i)\n",
        "    if i['text']==\"[deleted]\":\n",
        "      threads['conversation'].remove(i)\n",
        "      print(i)\n",
        "    else:\n",
        "      pass\n",
        "\n",
        "  # print('flag: ', flag)  \n",
        "  # if flag == 1:\n",
        "  #   pass\n",
        "  # else:\n",
        "  #   without_gap.append(threads)\n",
        "  #   count+=1\n",
        "  # print(count, '\\n')"
      ],
      "metadata": {
        "id": "YQ8U2mauckWD"
      },
      "id": "YQ8U2mauckWD",
      "execution_count": 36,
      "outputs": []
    },
    {
      "cell_type": "code",
      "source": [
        "len(without_gap)"
      ],
      "metadata": {
        "colab": {
          "base_uri": "https://localhost:8080/"
        },
        "id": "Op7Fz-a7pZ1v",
        "outputId": "4270f525-0651-4385-bfef-0f1396bc750b"
      },
      "id": "Op7Fz-a7pZ1v",
      "execution_count": 37,
      "outputs": [
        {
          "output_type": "execute_result",
          "data": {
            "text/plain": [
              "252"
            ]
          },
          "metadata": {},
          "execution_count": 37
        }
      ]
    },
    {
      "cell_type": "markdown",
      "source": [
        "### Saving json file"
      ],
      "metadata": {
        "id": "U1kJ9JyUjD0t"
      },
      "id": "U1kJ9JyUjD0t"
    },
    {
      "cell_type": "code",
      "execution_count": 38,
      "metadata": {
        "colab": {
          "base_uri": "https://localhost:8080/",
          "height": 35
        },
        "id": "7DLmHJR7EK9m",
        "outputId": "41da8af3-2f06-45c9-e65a-c415a2a03d65"
      },
      "outputs": [
        {
          "output_type": "stream",
          "name": "stdout",
          "text": [
            "without_gap_threads_france_15Aug2022_to_28Aug2022.json\n"
          ]
        },
        {
          "output_type": "display_data",
          "data": {
            "text/plain": [
              "<IPython.core.display.Javascript object>"
            ],
            "application/javascript": [
              "\n",
              "    async function download(id, filename, size) {\n",
              "      if (!google.colab.kernel.accessAllowed) {\n",
              "        return;\n",
              "      }\n",
              "      const div = document.createElement('div');\n",
              "      const label = document.createElement('label');\n",
              "      label.textContent = `Downloading \"${filename}\": `;\n",
              "      div.appendChild(label);\n",
              "      const progress = document.createElement('progress');\n",
              "      progress.max = size;\n",
              "      div.appendChild(progress);\n",
              "      document.body.appendChild(div);\n",
              "\n",
              "      const buffers = [];\n",
              "      let downloaded = 0;\n",
              "\n",
              "      const channel = await google.colab.kernel.comms.open(id);\n",
              "      // Send a message to notify the kernel that we're ready.\n",
              "      channel.send({})\n",
              "\n",
              "      for await (const message of channel.messages) {\n",
              "        // Send a message to notify the kernel that we're ready.\n",
              "        channel.send({})\n",
              "        if (message.buffers) {\n",
              "          for (const buffer of message.buffers) {\n",
              "            buffers.push(buffer);\n",
              "            downloaded += buffer.byteLength;\n",
              "            progress.value = downloaded;\n",
              "          }\n",
              "        }\n",
              "      }\n",
              "      const blob = new Blob(buffers, {type: 'application/binary'});\n",
              "      const a = document.createElement('a');\n",
              "      a.href = window.URL.createObjectURL(blob);\n",
              "      a.download = filename;\n",
              "      div.appendChild(a);\n",
              "      a.click();\n",
              "      div.remove();\n",
              "    }\n",
              "  "
            ]
          },
          "metadata": {}
        },
        {
          "output_type": "display_data",
          "data": {
            "text/plain": [
              "<IPython.core.display.Javascript object>"
            ],
            "application/javascript": [
              "download(\"download_a6827e18-20f9-462b-9e27-7db94cbb7205\", \"without_gap_threads_france_15Aug2022_to_28Aug2022.json\", 1051809)"
            ]
          },
          "metadata": {}
        }
      ],
      "source": [
        "without_gap_json = {}\n",
        "without_gap_json['result'] = without_gap\n",
        "\n",
        "wihtout_gap_f_name = \"without_gap_threads\"+out_file_name_tag+'.json'\n",
        "print(wihtout_gap_f_name)\n",
        "\n",
        "with open(wihtout_gap_f_name,'w') as outfile:\n",
        "  json.dump(without_gap_json, outfile)\n",
        "\n",
        "files.download(\"/content/\"+wihtout_gap_f_name)"
      ],
      "id": "7DLmHJR7EK9m"
    },
    {
      "cell_type": "markdown",
      "metadata": {
        "id": "hGJJkc0h8Lxg"
      },
      "source": [
        "# **Filter by langID**\n",
        "**Note**: for **french** use lang='fr', for **english** use lang='en'"
      ],
      "id": "hGJJkc0h8Lxg"
    },
    {
      "cell_type": "code",
      "execution_count": 39,
      "metadata": {
        "id": "vcMOfqzw_uyx",
        "colab": {
          "base_uri": "https://localhost:8080/"
        },
        "outputId": "17cf4717-80a3-4dcb-a4d8-4ce172cdb6e6"
      },
      "outputs": [
        {
          "output_type": "stream",
          "name": "stdout",
          "text": [
            "Looking in indexes: https://pypi.org/simple, https://us-python.pkg.dev/colab-wheels/public/simple/\n",
            "Requirement already satisfied: langid in /usr/local/lib/python3.7/dist-packages (1.1.6)\n",
            "Requirement already satisfied: numpy in /usr/local/lib/python3.7/dist-packages (from langid) (1.21.6)\n"
          ]
        }
      ],
      "source": [
        "pip install langid"
      ],
      "id": "vcMOfqzw_uyx"
    },
    {
      "cell_type": "code",
      "execution_count": 40,
      "metadata": {
        "id": "jRsv30Pe_tHh"
      },
      "outputs": [],
      "source": [
        "import langid\n",
        "from langid.langid import LanguageIdentifier, model\n",
        "\n",
        "identifier = LanguageIdentifier.from_modelstring(model, norm_probs=True)\n",
        "\n",
        "#checking if the thread is of a particular lang\n",
        "def check_thread_language(thread, lang):\n",
        "  thread_len = len(thread['conversation'])\n",
        "\n",
        "  class_list = []\n",
        "  for com in thread['conversation']:\n",
        "    # print(\">>>comment: \", com)\n",
        "    class_list.append(identifier.classify(com['text'])[0])\n",
        "\n",
        "  count_fr = class_list.count(lang)\n",
        "  is_french = count_fr > thread_len/2\n",
        "\n",
        "  # print(class_list, count_fr, thread_len, is_french)\n",
        "  return is_french\n",
        "\n",
        "# print(identifier.rank(input3)[:3])"
      ],
      "id": "jRsv30Pe_tHh"
    },
    {
      "cell_type": "markdown",
      "source": [
        "**Note**: for **french** use lang='fr', for **english** use lang='en'"
      ],
      "metadata": {
        "id": "ChYXLU6MrjvE"
      },
      "id": "ChYXLU6MrjvE"
    },
    {
      "cell_type": "code",
      "execution_count": 41,
      "metadata": {
        "id": "UrKZNRsr8TRa",
        "colab": {
          "base_uri": "https://localhost:8080/"
        },
        "outputId": "9b23edd5-0c11-4b1d-c341-f18310cec097"
      },
      "outputs": [
        {
          "output_type": "stream",
          "name": "stdout",
          "text": [
            "Count:  242\n"
          ]
        }
      ],
      "source": [
        "selected_count = 0\n",
        "filtered_by_lang = []\n",
        "not_selected = []\n",
        "\n",
        "#IMP read note\n",
        "for thread in without_gap:\n",
        "  keep = check_thread_language(thread,lang = 'fr')\n",
        "  if keep:\n",
        "    filtered_by_lang.append(thread)\n",
        "    selected_count += 1\n",
        "  else:\n",
        "    not_selected.append(thread)\n",
        "\n",
        "print(\"Count: \", selected_count)"
      ],
      "id": "UrKZNRsr8TRa"
    },
    {
      "cell_type": "code",
      "execution_count": 45,
      "metadata": {
        "colab": {
          "base_uri": "https://localhost:8080/"
        },
        "id": "kf17ciWkfRUe",
        "outputId": "f3c5844a-fb40-4017-eabb-e2cc73c83a36"
      },
      "outputs": [
        {
          "output_type": "stream",
          "name": "stdout",
          "text": [
            "selected threads:  242\n",
            "not-selected threads:  10\n"
          ]
        }
      ],
      "source": [
        "print(\"selected threads: \", len(filtered_by_lang))\n",
        "print(\"not-selected threads: \", len(not_selected))"
      ],
      "id": "kf17ciWkfRUe"
    },
    {
      "cell_type": "code",
      "execution_count": null,
      "metadata": {
        "id": "jSi7hl_Z1vPX"
      },
      "outputs": [],
      "source": [
        "#thread not selected by langID filter\n",
        "\n",
        "# for item in not_selected:\n",
        "#   print(\"\\n Thread len: \", len(item['conversation']))\n",
        "#   o = check_thread_language(item, lang='fr')\n",
        "#   print(o)"
      ],
      "id": "jSi7hl_Z1vPX"
    },
    {
      "cell_type": "markdown",
      "source": [
        "### Saving json file"
      ],
      "metadata": {
        "id": "Lk564cD6jI3B"
      },
      "id": "Lk564cD6jI3B"
    },
    {
      "cell_type": "code",
      "execution_count": 46,
      "metadata": {
        "id": "5rYVWvu96MOo",
        "colab": {
          "base_uri": "https://localhost:8080/",
          "height": 35
        },
        "outputId": "d4db961f-f7f6-40cb-9e09-da9ff538c251"
      },
      "outputs": [
        {
          "output_type": "stream",
          "name": "stdout",
          "text": [
            "langID_filter_threads_france_15Aug2022_to_28Aug2022.json\n"
          ]
        },
        {
          "output_type": "display_data",
          "data": {
            "text/plain": [
              "<IPython.core.display.Javascript object>"
            ],
            "application/javascript": [
              "\n",
              "    async function download(id, filename, size) {\n",
              "      if (!google.colab.kernel.accessAllowed) {\n",
              "        return;\n",
              "      }\n",
              "      const div = document.createElement('div');\n",
              "      const label = document.createElement('label');\n",
              "      label.textContent = `Downloading \"${filename}\": `;\n",
              "      div.appendChild(label);\n",
              "      const progress = document.createElement('progress');\n",
              "      progress.max = size;\n",
              "      div.appendChild(progress);\n",
              "      document.body.appendChild(div);\n",
              "\n",
              "      const buffers = [];\n",
              "      let downloaded = 0;\n",
              "\n",
              "      const channel = await google.colab.kernel.comms.open(id);\n",
              "      // Send a message to notify the kernel that we're ready.\n",
              "      channel.send({})\n",
              "\n",
              "      for await (const message of channel.messages) {\n",
              "        // Send a message to notify the kernel that we're ready.\n",
              "        channel.send({})\n",
              "        if (message.buffers) {\n",
              "          for (const buffer of message.buffers) {\n",
              "            buffers.push(buffer);\n",
              "            downloaded += buffer.byteLength;\n",
              "            progress.value = downloaded;\n",
              "          }\n",
              "        }\n",
              "      }\n",
              "      const blob = new Blob(buffers, {type: 'application/binary'});\n",
              "      const a = document.createElement('a');\n",
              "      a.href = window.URL.createObjectURL(blob);\n",
              "      a.download = filename;\n",
              "      div.appendChild(a);\n",
              "      a.click();\n",
              "      div.remove();\n",
              "    }\n",
              "  "
            ]
          },
          "metadata": {}
        },
        {
          "output_type": "display_data",
          "data": {
            "text/plain": [
              "<IPython.core.display.Javascript object>"
            ],
            "application/javascript": [
              "download(\"download_8add31a1-923c-4e30-80fa-b345b9e2454b\", \"langID_filter_threads_france_15Aug2022_to_28Aug2022.json\", 1037100)"
            ]
          },
          "metadata": {}
        }
      ],
      "source": [
        "filtered_by_lang_json = {}\n",
        "filtered_by_lang_json['result'] = filtered_by_lang\n",
        "\n",
        "lang_f_name = \"langID_filter_threads\"+out_file_name_tag+'.json'\n",
        "print(lang_f_name)\n",
        "\n",
        "with open(lang_f_name, \"w\") as outfile:\n",
        "    json.dump(filtered_by_lang_json, outfile)\n",
        "\n",
        "files.download(\"/content/\"+lang_f_name)"
      ],
      "id": "5rYVWvu96MOo"
    },
    {
      "cell_type": "markdown",
      "metadata": {
        "id": "IUn0PCwkIWi3"
      },
      "source": [
        "# **Text preprocessing: Removing qouted text, new lines, etc**"
      ],
      "id": "IUn0PCwkIWi3"
    },
    {
      "cell_type": "code",
      "execution_count": null,
      "metadata": {
        "colab": {
          "base_uri": "https://localhost:8080/"
        },
        "id": "eaHe7bAq174U",
        "outputId": "5a72db85-03dc-41fd-f363-4da5897f812c"
      },
      "outputs": [
        {
          "name": "stdout",
          "output_type": "stream",
          "text": [
            "['Bonjour,\\r', '\\r', 'Ce commentaire a été supprimé. Merci de t’exprimer de façon moins agressive.\\r']\n",
            "Bonjour,\r \r Ce commentaire a été supprimé. Merci de t’exprimer de façon moins agressive.\r\n"
          ]
        }
      ],
      "source": [
        "# new_list=['Bonjour,\\r', '\\r', 'Ce commentaire a été supprimé. Merci de t’exprimer de façon moins agressive.\\r']\n",
        "# # new_list = [x.replace('\\r','') for x in new_list]\n",
        "# print(new_list)\n",
        "# # ['Bonjour,\\r', '\\r', 'Ce commentaire a été supprimé. Merci de t’exprimer de façon moins agressive.\\r', '\\r', ' ------------------------ \\r', '\\r', 'This comment has been removed. Please do not be agressive towards other users.\\r', '\\r', '\\r', '\\r', \"Les règles de /r/france sont [disponibles ici](https://www.reddit.com/r/france/wiki/regles). Pour contester cette action, ou pour toute question, merci d'envoyer un [message aux modérateurs](https://www.reddit.com/message/compose?to=%2Fr%2Ffrance).\\r\", '\\r', 'Merci de ta compréhension.']\n",
        "\n",
        "# print(\" \".join(new_list))"
      ],
      "id": "eaHe7bAq174U"
    },
    {
      "cell_type": "code",
      "execution_count": 47,
      "metadata": {
        "id": "a0z_6YKQIcCL"
      },
      "outputs": [],
      "source": [
        "for thread in filtered_by_lang:\n",
        "  for com in thread['conversation']:\n",
        "    # print('OLD: ', com['text'])\n",
        "    com_list = com['text'].split('\\n')\n",
        "\n",
        "    new_com_list = [x if x.startswith('>')==False else \"\\n\" for x in com_list]\n",
        "    new_com_list = [x.replace('\\r','') for x in new_com_list]\n",
        "    new_com_list = [x.replace('\\n','') for x in new_com_list]\n",
        "\n",
        "    temp_text = ' '.join(new_com_list)\n",
        "    new_text = ' '.join(temp_text.split())\n",
        "\n",
        "    com['text'] = new_text\n",
        "    \n",
        "    # print(\"NEW: \", com['text'])\n",
        "  # print(\"-------------------------------------------\")"
      ],
      "id": "a0z_6YKQIcCL"
    },
    {
      "cell_type": "code",
      "execution_count": 48,
      "metadata": {
        "colab": {
          "base_uri": "https://localhost:8080/"
        },
        "id": "ZdeGiUo1MBa-",
        "outputId": "25f38fbf-7745-45d5-e59d-21ee7b4727f3"
      },
      "outputs": [
        {
          "output_type": "execute_result",
          "data": {
            "text/plain": [
              "242"
            ]
          },
          "metadata": {},
          "execution_count": 48
        }
      ],
      "source": [
        "len(filtered_by_lang)"
      ],
      "id": "ZdeGiUo1MBa-"
    },
    {
      "cell_type": "code",
      "execution_count": 49,
      "metadata": {
        "id": "--vJOTrDVYLW",
        "colab": {
          "base_uri": "https://localhost:8080/"
        },
        "outputId": "8f1763f8-f5b0-47e0-e5da-72cacb89e47d"
      },
      "outputs": [
        {
          "output_type": "stream",
          "name": "stdout",
          "text": [
            "Paris : des pompiers agressés dans un foyer de jeunes résidents étrangers\n",
            "Je trouve ça immoral. Dans le pays où j’habite un incident pareil est synonyme de condamnation au caning (châtiment corporel) et potentiellement de peine de mort si les autorités jugent que les individus ne sont pas apte à vivre sans troubler l’harmonie sociale. Et je trouve ça extrêmement sain, c’est d’ailleurs pour ça qu’il n’y a pas de problème de sécurité ici\n",
            "allez, je mords. et si les autorités sont pourries jusqu'à la moelle et décident (au hasard le plus complet) que ton orientation sexuelle ou ta religion sont de nature à \"troubler l'harmonie sociale\" ? un peu comme dans chaque pays ou ton système a cours, en fait.\n",
            "Le gars en question a juste fait du copier coller donc il ne pouvait pas prétendre à recevoir le paiement. Techniquement c’est lui qui devrait être torturé pour tentative d’escroquerie\n",
            "--------------------------------\n",
            "Comment aider ma voisine avec des troubles psy Bonjour AirFrance, Depuis qu'une nouvelle voisine (la soixantaine) à emménager dans l'appart acollé au miens on a remarqué qu'elle a des soucis psy, je m'explique. Elle hurle et crie \"arrêter de taper aux mur\" en tapant aux murs alors que le silence est complet. \"Ils sont malveillant\" suivi d'éclat de rire qui fait penser qu'elle parle avec quelqu'un hors elle est seule. Il y a de nombreux autres exemples qui indique un trouble psy, ce trouble s'accroît avec le temps, elle était plus discrète en arrivant. On s'inquiète pour notre sécurité car lorsqu'elle parle seule elle est agressive et pour sa santé évidemment... Que faire ? Merci de vos conseils !\n",
            "Essayer d'entrer en contacte avec sa famille. Un parent peut la faire interner contre son gré, un juge aussi mais c'est beaucoup plus compliqué.\n",
            "Ah oui toi direct l'internement forcé.\n",
            "L'internement c'est pas forcement a vie. C'est une étape très efficace pour des gens qui sont dangereux pour eux même ou pour les autres, le temps de trouver une médication adaptée.\n",
            "Et ils parlent encore aux proches en questions ? Moi je sais pas quand j'imagine un proche quelqu'un en qui j'ai confiance qui m'envoie me faire interner de force, bourré de médocs comme un légume dans un HP glauque, j'ai du mal à imaginer pardonner un jour. Après je dis pas qu'il y a pas des gens vraiment dangereux pour qui c'est nécessaire mais enfin...\n",
            "--------------------------------\n"
          ]
        }
      ],
      "source": [
        "for i in filtered_by_lang[:2]:\n",
        "  for com in i['conversation']:\n",
        "    print(com['text'])\n",
        "  print(\"--------------------------------\")"
      ],
      "id": "--vJOTrDVYLW"
    },
    {
      "cell_type": "markdown",
      "source": [
        "### Saving json file"
      ],
      "metadata": {
        "id": "vfc7V_EbjNoJ"
      },
      "id": "vfc7V_EbjNoJ"
    },
    {
      "cell_type": "code",
      "execution_count": 50,
      "metadata": {
        "id": "rhcBeEZ8WELb",
        "colab": {
          "base_uri": "https://localhost:8080/",
          "height": 35
        },
        "outputId": "4fc4ab47-2c35-436a-deb0-5fb94492c075"
      },
      "outputs": [
        {
          "output_type": "stream",
          "name": "stdout",
          "text": [
            "fltr_clean_threads_france_15Aug2022_to_28Aug2022.json\n"
          ]
        },
        {
          "output_type": "display_data",
          "data": {
            "text/plain": [
              "<IPython.core.display.Javascript object>"
            ],
            "application/javascript": [
              "\n",
              "    async function download(id, filename, size) {\n",
              "      if (!google.colab.kernel.accessAllowed) {\n",
              "        return;\n",
              "      }\n",
              "      const div = document.createElement('div');\n",
              "      const label = document.createElement('label');\n",
              "      label.textContent = `Downloading \"${filename}\": `;\n",
              "      div.appendChild(label);\n",
              "      const progress = document.createElement('progress');\n",
              "      progress.max = size;\n",
              "      div.appendChild(progress);\n",
              "      document.body.appendChild(div);\n",
              "\n",
              "      const buffers = [];\n",
              "      let downloaded = 0;\n",
              "\n",
              "      const channel = await google.colab.kernel.comms.open(id);\n",
              "      // Send a message to notify the kernel that we're ready.\n",
              "      channel.send({})\n",
              "\n",
              "      for await (const message of channel.messages) {\n",
              "        // Send a message to notify the kernel that we're ready.\n",
              "        channel.send({})\n",
              "        if (message.buffers) {\n",
              "          for (const buffer of message.buffers) {\n",
              "            buffers.push(buffer);\n",
              "            downloaded += buffer.byteLength;\n",
              "            progress.value = downloaded;\n",
              "          }\n",
              "        }\n",
              "      }\n",
              "      const blob = new Blob(buffers, {type: 'application/binary'});\n",
              "      const a = document.createElement('a');\n",
              "      a.href = window.URL.createObjectURL(blob);\n",
              "      a.download = filename;\n",
              "      div.appendChild(a);\n",
              "      a.click();\n",
              "      div.remove();\n",
              "    }\n",
              "  "
            ]
          },
          "metadata": {}
        },
        {
          "output_type": "display_data",
          "data": {
            "text/plain": [
              "<IPython.core.display.Javascript object>"
            ],
            "application/javascript": [
              "download(\"download_253e13f8-20e4-4049-a02b-7cd840c0676a\", \"fltr_clean_threads_france_15Aug2022_to_28Aug2022.json\", 950894)"
            ]
          },
          "metadata": {}
        }
      ],
      "source": [
        "filtered_clean_f_name = \"fltr_clean_threads\"+out_file_name_tag+'.json'\n",
        "print(filtered_clean_f_name)\n",
        "\n",
        "with open(filtered_clean_f_name, 'w') as op_f:\n",
        "  json.dump(filtered_by_lang, op_f)\n",
        "\n",
        "files.download(\"/content/\"+filtered_clean_f_name)"
      ],
      "id": "rhcBeEZ8WELb"
    },
    {
      "cell_type": "markdown",
      "source": [
        "# **Final format (Text and speaker_id)**"
      ],
      "metadata": {
        "id": "ftG9ZXmxtaBP"
      },
      "id": "ftG9ZXmxtaBP"
    },
    {
      "cell_type": "code",
      "source": [
        "for i in filtered_by_lang[:2]:\n",
        "  for com in i['conversation']:\n",
        "    print(json.dumps(com, indent=1))\n",
        "  print(\"--------------------------------\")"
      ],
      "metadata": {
        "id": "7ikvXAwStg4e",
        "colab": {
          "base_uri": "https://localhost:8080/"
        },
        "outputId": "6c506485-989f-4fdd-d545-a6e5d1769459"
      },
      "id": "7ikvXAwStg4e",
      "execution_count": 51,
      "outputs": [
        {
          "output_type": "stream",
          "name": "stdout",
          "text": [
            "{\n",
            " \"speaker_id\": \"TowlHeSV\",\n",
            " \"text\": \"Paris : des pompiers agress\\u00e9s dans un foyer de jeunes r\\u00e9sidents \\u00e9trangers\",\n",
            " \"permalink\": \"/r/france/comments/wov5ev/paris_des_pompiers_agress\\u00e9s_dans_un_foyer_de/\"\n",
            "}\n",
            "{\n",
            " \"speaker_id\": \"bduBGbsc\",\n",
            " \"text\": \"Je trouve \\u00e7a immoral. Dans le pays o\\u00f9 j\\u2019habite un incident pareil est synonyme de condamnation au caning (ch\\u00e2timent corporel) et potentiellement de peine de mort si les autorit\\u00e9s jugent que les individus ne sont pas apte \\u00e0 vivre sans troubler l\\u2019harmonie sociale. Et je trouve \\u00e7a extr\\u00eamement sain, c\\u2019est d\\u2019ailleurs pour \\u00e7a qu\\u2019il n\\u2019y a pas de probl\\u00e8me de s\\u00e9curit\\u00e9 ici\",\n",
            " \"permalink\": \"/r/france/comments/wov5ev/paris_des_pompiers_agress\\u00e9s_dans_un_foyer_de/ikd2x1c/\",\n",
            " \"removed\": 1\n",
            "}\n",
            "{\n",
            " \"speaker_id\": \"LfQnFwoB\",\n",
            " \"text\": \"allez, je mords. et si les autorit\\u00e9s sont pourries jusqu'\\u00e0 la moelle et d\\u00e9cident (au hasard le plus complet) que ton orientation sexuelle ou ta religion sont de nature \\u00e0 \\\"troubler l'harmonie sociale\\\" ? un peu comme dans chaque pays ou ton syst\\u00e8me a cours, en fait.\",\n",
            " \"permalink\": \"/r/france/comments/wov5ev/paris_des_pompiers_agress\\u00e9s_dans_un_foyer_de/ikd3io7/\",\n",
            " \"removed\": 0\n",
            "}\n",
            "{\n",
            " \"speaker_id\": \"bduBGbsc\",\n",
            " \"text\": \"Le gars en question a juste fait du copier coller donc il ne pouvait pas pr\\u00e9tendre \\u00e0 recevoir le paiement. Techniquement c\\u2019est lui qui devrait \\u00eatre tortur\\u00e9 pour tentative d\\u2019escroquerie\",\n",
            " \"permalink\": \"/r/france/comments/wov5ev/paris_des_pompiers_agress\\u00e9s_dans_un_foyer_de/ikd3zzu/\",\n",
            " \"removed\": 1\n",
            "}\n",
            "--------------------------------\n",
            "{\n",
            " \"speaker_id\": \"ZbpgISZS\",\n",
            " \"text\": \"Comment aider ma voisine avec des troubles psy Bonjour AirFrance, Depuis qu'une nouvelle voisine (la soixantaine) \\u00e0 emm\\u00e9nager dans l'appart acoll\\u00e9 au miens on a remarqu\\u00e9 qu'elle a des soucis psy, je m'explique. Elle hurle et crie \\\"arr\\u00eater de taper aux mur\\\" en tapant aux murs alors que le silence est complet. \\\"Ils sont malveillant\\\" suivi d'\\u00e9clat de rire qui fait penser qu'elle parle avec quelqu'un hors elle est seule. Il y a de nombreux autres exemples qui indique un trouble psy, ce trouble s'accro\\u00eet avec le temps, elle \\u00e9tait plus discr\\u00e8te en arrivant. On s'inqui\\u00e8te pour notre s\\u00e9curit\\u00e9 car lorsqu'elle parle seule elle est agressive et pour sa sant\\u00e9 \\u00e9videmment... Que faire ? Merci de vos conseils !\",\n",
            " \"permalink\": \"/r/france/comments/wovfd7/comment_aider_ma_voisine_avec_des_troubles_psy/\"\n",
            "}\n",
            "{\n",
            " \"speaker_id\": \"IbEleGcD\",\n",
            " \"text\": \"Essayer d'entrer en contacte avec sa famille. Un parent peut la faire interner contre son gr\\u00e9, un juge aussi mais c'est beaucoup plus compliqu\\u00e9.\",\n",
            " \"permalink\": \"/r/france/comments/wovfd7/comment_aider_ma_voisine_avec_des_troubles_psy/ikd4igi/\",\n",
            " \"removed\": 0\n",
            "}\n",
            "{\n",
            " \"speaker_id\": \"YmpCENuB\",\n",
            " \"text\": \"Ah oui toi direct l'internement forc\\u00e9.\",\n",
            " \"permalink\": \"/r/france/comments/wovfd7/comment_aider_ma_voisine_avec_des_troubles_psy/ikd9vi8/\",\n",
            " \"removed\": 1\n",
            "}\n",
            "{\n",
            " \"speaker_id\": \"IbEleGcD\",\n",
            " \"text\": \"L'internement c'est pas forcement a vie. C'est une \\u00e9tape tr\\u00e8s efficace pour des gens qui sont dangereux pour eux m\\u00eame ou pour les autres, le temps de trouver une m\\u00e9dication adapt\\u00e9e.\",\n",
            " \"permalink\": \"/r/france/comments/wovfd7/comment_aider_ma_voisine_avec_des_troubles_psy/ikdacb9/\",\n",
            " \"removed\": 0\n",
            "}\n",
            "{\n",
            " \"speaker_id\": \"YmpCENuB\",\n",
            " \"text\": \"Et ils parlent encore aux proches en questions ? Moi je sais pas quand j'imagine un proche quelqu'un en qui j'ai confiance qui m'envoie me faire interner de force, bourr\\u00e9 de m\\u00e9docs comme un l\\u00e9gume dans un HP glauque, j'ai du mal \\u00e0 imaginer pardonner un jour. Apr\\u00e8s je dis pas qu'il y a pas des gens vraiment dangereux pour qui c'est n\\u00e9cessaire mais enfin...\",\n",
            " \"permalink\": \"/r/france/comments/wovfd7/comment_aider_ma_voisine_avec_des_troubles_psy/ikdb75o/\",\n",
            " \"removed\": 1\n",
            "}\n",
            "--------------------------------\n"
          ]
        }
      ]
    },
    {
      "cell_type": "code",
      "source": [
        "for i in filtered_by_lang:\n",
        "  t_temp=[]\n",
        "  for com in i['conversation']:\n",
        "    com = {k:v for k,v in com.items() if k in ['speaker_id', 'text']}\n",
        "    t_temp.append(com)\n",
        "  i['conversation'] = t_temp\n",
        "    # print(json.dumps(com, indent=1))\n",
        "  # print(\"--------------------------------\")"
      ],
      "metadata": {
        "id": "gwLjsSgFuuZe"
      },
      "id": "gwLjsSgFuuZe",
      "execution_count": 52,
      "outputs": []
    },
    {
      "cell_type": "code",
      "source": [
        "for i in filtered_by_lang[:2]:\n",
        "  for com in i['conversation']:\n",
        "    print(json.dumps(com, indent=1))\n",
        "  print(\"--------------------------------\")"
      ],
      "metadata": {
        "colab": {
          "base_uri": "https://localhost:8080/"
        },
        "id": "VA93D9HFV7__",
        "outputId": "2e5b5550-e2bf-4b27-f554-028eb3f496e4"
      },
      "id": "VA93D9HFV7__",
      "execution_count": 53,
      "outputs": [
        {
          "output_type": "stream",
          "name": "stdout",
          "text": [
            "{\n",
            " \"speaker_id\": \"TowlHeSV\",\n",
            " \"text\": \"Paris : des pompiers agress\\u00e9s dans un foyer de jeunes r\\u00e9sidents \\u00e9trangers\"\n",
            "}\n",
            "{\n",
            " \"speaker_id\": \"bduBGbsc\",\n",
            " \"text\": \"Je trouve \\u00e7a immoral. Dans le pays o\\u00f9 j\\u2019habite un incident pareil est synonyme de condamnation au caning (ch\\u00e2timent corporel) et potentiellement de peine de mort si les autorit\\u00e9s jugent que les individus ne sont pas apte \\u00e0 vivre sans troubler l\\u2019harmonie sociale. Et je trouve \\u00e7a extr\\u00eamement sain, c\\u2019est d\\u2019ailleurs pour \\u00e7a qu\\u2019il n\\u2019y a pas de probl\\u00e8me de s\\u00e9curit\\u00e9 ici\"\n",
            "}\n",
            "{\n",
            " \"speaker_id\": \"LfQnFwoB\",\n",
            " \"text\": \"allez, je mords. et si les autorit\\u00e9s sont pourries jusqu'\\u00e0 la moelle et d\\u00e9cident (au hasard le plus complet) que ton orientation sexuelle ou ta religion sont de nature \\u00e0 \\\"troubler l'harmonie sociale\\\" ? un peu comme dans chaque pays ou ton syst\\u00e8me a cours, en fait.\"\n",
            "}\n",
            "{\n",
            " \"speaker_id\": \"bduBGbsc\",\n",
            " \"text\": \"Le gars en question a juste fait du copier coller donc il ne pouvait pas pr\\u00e9tendre \\u00e0 recevoir le paiement. Techniquement c\\u2019est lui qui devrait \\u00eatre tortur\\u00e9 pour tentative d\\u2019escroquerie\"\n",
            "}\n",
            "--------------------------------\n",
            "{\n",
            " \"speaker_id\": \"ZbpgISZS\",\n",
            " \"text\": \"Comment aider ma voisine avec des troubles psy Bonjour AirFrance, Depuis qu'une nouvelle voisine (la soixantaine) \\u00e0 emm\\u00e9nager dans l'appart acoll\\u00e9 au miens on a remarqu\\u00e9 qu'elle a des soucis psy, je m'explique. Elle hurle et crie \\\"arr\\u00eater de taper aux mur\\\" en tapant aux murs alors que le silence est complet. \\\"Ils sont malveillant\\\" suivi d'\\u00e9clat de rire qui fait penser qu'elle parle avec quelqu'un hors elle est seule. Il y a de nombreux autres exemples qui indique un trouble psy, ce trouble s'accro\\u00eet avec le temps, elle \\u00e9tait plus discr\\u00e8te en arrivant. On s'inqui\\u00e8te pour notre s\\u00e9curit\\u00e9 car lorsqu'elle parle seule elle est agressive et pour sa sant\\u00e9 \\u00e9videmment... Que faire ? Merci de vos conseils !\"\n",
            "}\n",
            "{\n",
            " \"speaker_id\": \"IbEleGcD\",\n",
            " \"text\": \"Essayer d'entrer en contacte avec sa famille. Un parent peut la faire interner contre son gr\\u00e9, un juge aussi mais c'est beaucoup plus compliqu\\u00e9.\"\n",
            "}\n",
            "{\n",
            " \"speaker_id\": \"YmpCENuB\",\n",
            " \"text\": \"Ah oui toi direct l'internement forc\\u00e9.\"\n",
            "}\n",
            "{\n",
            " \"speaker_id\": \"IbEleGcD\",\n",
            " \"text\": \"L'internement c'est pas forcement a vie. C'est une \\u00e9tape tr\\u00e8s efficace pour des gens qui sont dangereux pour eux m\\u00eame ou pour les autres, le temps de trouver une m\\u00e9dication adapt\\u00e9e.\"\n",
            "}\n",
            "{\n",
            " \"speaker_id\": \"YmpCENuB\",\n",
            " \"text\": \"Et ils parlent encore aux proches en questions ? Moi je sais pas quand j'imagine un proche quelqu'un en qui j'ai confiance qui m'envoie me faire interner de force, bourr\\u00e9 de m\\u00e9docs comme un l\\u00e9gume dans un HP glauque, j'ai du mal \\u00e0 imaginer pardonner un jour. Apr\\u00e8s je dis pas qu'il y a pas des gens vraiment dangereux pour qui c'est n\\u00e9cessaire mais enfin...\"\n",
            "}\n",
            "--------------------------------\n"
          ]
        }
      ]
    },
    {
      "cell_type": "code",
      "source": [
        "final_f_name = \"protocol_threads\"+out_file_name_tag+'.json'\n",
        "print(final_f_name)\n",
        "\n",
        "with open(final_f_name,'w') as opf:\n",
        "  json.dump(filtered_by_lang, opf)\n",
        "\n",
        "files.download('/content/'+final_f_name)"
      ],
      "metadata": {
        "colab": {
          "base_uri": "https://localhost:8080/",
          "height": 35
        },
        "id": "R5PxrnpS3d9B",
        "outputId": "289ab2e4-733e-4341-b8bc-29bc014d2c90"
      },
      "id": "R5PxrnpS3d9B",
      "execution_count": 54,
      "outputs": [
        {
          "output_type": "stream",
          "name": "stdout",
          "text": [
            "protocol_threads_france_15Aug2022_to_28Aug2022.json\n"
          ]
        },
        {
          "output_type": "display_data",
          "data": {
            "text/plain": [
              "<IPython.core.display.Javascript object>"
            ],
            "application/javascript": [
              "\n",
              "    async function download(id, filename, size) {\n",
              "      if (!google.colab.kernel.accessAllowed) {\n",
              "        return;\n",
              "      }\n",
              "      const div = document.createElement('div');\n",
              "      const label = document.createElement('label');\n",
              "      label.textContent = `Downloading \"${filename}\": `;\n",
              "      div.appendChild(label);\n",
              "      const progress = document.createElement('progress');\n",
              "      progress.max = size;\n",
              "      div.appendChild(progress);\n",
              "      document.body.appendChild(div);\n",
              "\n",
              "      const buffers = [];\n",
              "      let downloaded = 0;\n",
              "\n",
              "      const channel = await google.colab.kernel.comms.open(id);\n",
              "      // Send a message to notify the kernel that we're ready.\n",
              "      channel.send({})\n",
              "\n",
              "      for await (const message of channel.messages) {\n",
              "        // Send a message to notify the kernel that we're ready.\n",
              "        channel.send({})\n",
              "        if (message.buffers) {\n",
              "          for (const buffer of message.buffers) {\n",
              "            buffers.push(buffer);\n",
              "            downloaded += buffer.byteLength;\n",
              "            progress.value = downloaded;\n",
              "          }\n",
              "        }\n",
              "      }\n",
              "      const blob = new Blob(buffers, {type: 'application/binary'});\n",
              "      const a = document.createElement('a');\n",
              "      a.href = window.URL.createObjectURL(blob);\n",
              "      a.download = filename;\n",
              "      div.appendChild(a);\n",
              "      a.click();\n",
              "      div.remove();\n",
              "    }\n",
              "  "
            ]
          },
          "metadata": {}
        },
        {
          "output_type": "display_data",
          "data": {
            "text/plain": [
              "<IPython.core.display.Javascript object>"
            ],
            "application/javascript": [
              "download(\"download_dcf03671-0a84-453d-9b41-02570d743a58\", \"protocol_threads_france_15Aug2022_to_28Aug2022.json\", 772928)"
            ]
          },
          "metadata": {}
        }
      ]
    },
    {
      "cell_type": "code",
      "source": [],
      "metadata": {
        "id": "UaVF9TqNV3LX"
      },
      "id": "UaVF9TqNV3LX",
      "execution_count": null,
      "outputs": []
    }
  ],
  "metadata": {
    "colab": {
      "collapsed_sections": [
        "D1kxeTvD2nL2",
        "noW-TRbOapZ8",
        "Zy7F1LvtBVFD"
      ],
      "name": "thread_generation_notebook.ipynb",
      "provenance": []
    },
    "kernelspec": {
      "display_name": "Python 3",
      "language": "python",
      "name": "python3"
    },
    "language_info": {
      "codemirror_mode": {
        "name": "ipython",
        "version": 3
      },
      "file_extension": ".py",
      "mimetype": "text/x-python",
      "name": "python",
      "nbconvert_exporter": "python",
      "pygments_lexer": "ipython3",
      "version": "3.7.6"
    }
  },
  "nbformat": 4,
  "nbformat_minor": 5
}