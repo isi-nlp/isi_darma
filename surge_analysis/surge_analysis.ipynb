{
 "cells": [
  {
   "cell_type": "code",
   "execution_count": 2,
   "metadata": {},
   "outputs": [],
   "source": [
    "import matplotlib\n",
    "import json \n",
    "import numpy as np \n",
    "import pandas as pd \n",
    "from collections import defaultdict"
   ]
  },
  {
   "cell_type": "code",
   "execution_count": 3,
   "metadata": {},
   "outputs": [],
   "source": [
    "fp = \"/Users/jcho/projects/isi_darma/surge_analysis/[Surge AI] USC ISI - German - Both Models.json\"\n",
    "\n",
    "with open(fp, \"r\") as f: \n",
    "    data = json.load(f)"
   ]
  },
  {
   "cell_type": "code",
   "execution_count": 4,
   "metadata": {},
   "outputs": [],
   "source": [
    "survey_questions = {\n",
    "    \"How Coherent was the conversation?\": \"coherency\",\n",
    "    \"How likely are you to continue chatting with the moderator?\": \"engaging\",\n",
    "    \"To what degree did the moderator understand your point of view?\": \"understanding\",\n",
    "    \"To what degree did the moderator convince you to change your behavior?\": \"convincing\"\n",
    "}\n",
    "\n",
    "score_mapping = {\n",
    "    'Not at all': 0, \n",
    "    'Mostly not': 1, \n",
    "    'So-so': 2, \n",
    "    'Somewhat': 3, \n",
    "    'Very': 4\n",
    "}"
   ]
  },
  {
   "cell_type": "code",
   "execution_count": 5,
   "metadata": {},
   "outputs": [
    {
     "data": {
      "text/plain": [
       "150"
      ]
     },
     "execution_count": 5,
     "metadata": {},
     "output_type": "execute_result"
    }
   ],
   "source": [
    "len(data)"
   ]
  },
  {
   "cell_type": "code",
   "execution_count": 6,
   "metadata": {},
   "outputs": [],
   "source": [
    "# optional: work with dataframes \n",
    "df = pd.DataFrame.from_dict(data)\n",
    "len(df[df[\"Model\"]==\"Wisebeing\"]), len(df[df[\"Model\"]==\"Moderator\"])"
   ]
  },
  {
   "cell_type": "code",
   "execution_count": 24,
   "metadata": {},
   "outputs": [],
   "source": [
    "# organize results\n",
    "model_results = defaultdict(dict)\n",
    "for conv in data: \n",
    "    for q, prop in survey_questions.items(): \n",
    "        model = conv['Model']\n",
    "        if prop not in model_results[model]: \n",
    "            model_results[model][prop] = [] \n",
    "        model_results[model][prop].append(conv[q])"
   ]
  },
  {
   "cell_type": "code",
   "execution_count": 27,
   "metadata": {},
   "outputs": [],
   "source": [
    "# get counts per model per category \n",
    "from collections import Counter\n",
    "from pprint import pprint\n",
    "count_results = {model: defaultdict(dict) for model in model_results.keys()}\n",
    "for model, prop_results in model_results.items(): \n",
    "    for prop in prop_results: \n",
    "        count_results[model][prop]=Counter(prop_results[prop])\n",
    "\n",
    "# pprint(count_results)\n"
   ]
  },
  {
   "cell_type": "code",
   "execution_count": 30,
   "metadata": {},
   "outputs": [],
   "source": [
    "# get counts per model per category \n",
    "mean_results = {model: defaultdict(dict) for model in model_results.keys()}\n",
    "for model, prop_results in model_results.items(): \n",
    "    for prop in prop_results: \n",
    "        mean_results[model][prop] = np.mean([score_mapping[rating] for rating in prop_results[prop]])\n",
    "        \n",
    "# pprint(mean_results)"
   ]
  },
  {
   "cell_type": "code",
   "execution_count": 23,
   "metadata": {},
   "outputs": [
    {
     "data": {
      "image/png": "[encoded data removed]",
      "text/plain": [
       "<Figure size 640x480 with 1 Axes>"
      ]
     },
     "metadata": {},
     "output_type": "display_data"
    }
   ],
   "source": [
    "import matplotlib.pyplot as plt\n",
    "import numpy as np\n",
    "\n",
    "\n",
    "labels = list(survey_questions.values()) \n",
    "wisebeing_mean = [round(mean_results[\"Wisebeing\"][prop], 2) for prop in labels]\n",
    "moderator_mean = [round(mean_results[\"Moderator\"][prop],2) for prop in labels]\n",
    "\n",
    "x = np.arange(len(labels))  # the label locations\n",
    "width = 0.35  # the width of the bars\n",
    "\n",
    "fig, ax = plt.subplots()\n",
    "rects1 = ax.bar(x - width/2, wisebeing_mean, width, label='NVC Bot')\n",
    "rects2 = ax.bar(x + width/2, moderator_mean, width, label='Moderator Bot')\n",
    "\n",
    "# Add some text for labels, title and custom x-axis tick labels, etc.\n",
    "ax.set_ylabel('Scores [0-4]')\n",
    "ax.set_xticks(x, labels)\n",
    "ax.legend()\n",
    "\n",
    "ax.bar_label(rects1, padding=3)\n",
    "ax.bar_label(rects2, padding=3)\n",
    "\n",
    "fig.tight_layout()\n",
    "\n",
    "plt.show()"
   ]
  },
  {
   "cell_type": "code",
   "execution_count": null,
   "metadata": {},
   "outputs": [],
   "source": []
  }
 ],
 "metadata": {
  "kernelspec": {
   "display_name": "Python 3.8.15 ('darma')",
   "language": "python",
   "name": "python3"
  },
  "language_info": {
   "codemirror_mode": {
    "name": "ipython",
    "version": 3
   },
   "file_extension": ".py",
   "mimetype": "text/x-python",
   "name": "python",
   "nbconvert_exporter": "python",
   "pygments_lexer": "ipython3",
   "version": "3.8.15"
  },
  "orig_nbformat": 4,
  "vscode": {
   "interpreter": {
    "hash": "357bf305193ff5071e4293174fbe4e87d802862e21c48504b6494c1939d2806c"
   }
  }
 },
 "nbformat": 4,
 "nbformat_minor": 2
}
